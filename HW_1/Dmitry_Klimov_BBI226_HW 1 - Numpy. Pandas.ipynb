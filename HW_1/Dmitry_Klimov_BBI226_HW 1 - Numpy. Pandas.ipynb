{
 "cells": [
  {
   "cell_type": "markdown",
   "metadata": {
    "id": "f1gL2DEfNRGu"
   },
   "source": [
    "# Современные методы анализа данных и машинного обучения, БИ\n",
    "\n",
    "## НИУ ВШЭ, 2024-25 учебный год"
   ]
  },
  {
   "cell_type": "markdown",
   "metadata": {
    "id": "fdTH3pxXFLxw"
   },
   "source": [
    "### Домашнее задание №1. Библиотеки Numpy & Pandas"
   ]
  },
  {
   "cell_type": "markdown",
   "metadata": {
    "id": "Sk5URBvkFLxx"
   },
   "source": [
    "Задание выполнил(а):\n",
    "\n",
    "   Климов Дмитрий ББИ226"
   ]
  },
  {
   "cell_type": "markdown",
   "metadata": {
    "id": "kqVyveO4FLxx"
   },
   "source": [
    "### Общая информация"
   ]
  },
  {
   "cell_type": "markdown",
   "metadata": {
    "id": "2A0wmBWwFLxx"
   },
   "source": [
    "__Дата выдачи:__ 19.01.2025\n",
    "\n",
    "__Дедлайн:__ 04:00 29.01.2025"
   ]
  },
  {
   "cell_type": "markdown",
   "metadata": {
    "id": "qK8Ari9eFLxz"
   },
   "source": [
    "### Оценивание и штрафы\n",
    "\n",
    "Каждая задача первого раздела (Numpy) оценивается в 2 балла.\n",
    "\n",
    "Оценка за первый раздел вычисляется по следующей формуле:\n",
    "\n",
    "$$\n",
    "s_{\\text{numpy}} \\times 1/2 ,\n",
    "$$\n",
    "\n",
    "где $s_{\\text{numpy}}$  — количество баллов, которое вы набрали в сумме по задачам первого раздела.\n",
    "\n",
    "Каждая задача второго раздела (Pandas) оценивается в 3 балла.\n",
    "\n",
    "Оценка за второй раздел вычисляется по следующей формуле:\n",
    "\n",
    "$$\n",
    "s_{\\text{pandas}} \\times 10/54 ,\n",
    "$$\n",
    "\n",
    "где $s_{\\text{pandas}}$  — количество баллов, которое вы набрали в сумме по задачам второго раздела.\n",
    "\n",
    "Общая оценка за ДЗ вычисляется по следующей формуле:\n",
    "\n",
    "$$\n",
    "O_{1} \\times 3/10 + O_2 \\times 7/10 ,\n",
    "$$\n",
    "\n",
    "где $O_1, O_2$  — оценки за первый и второй раздел соответственно.\n",
    "\n",
    "За сдачу задания позже срока на итоговую оценку за задание накладывается штраф в размере 1 **вторичный** балл в день, но  задержка не может быть больше недели.\n",
    "\n",
    "**Важно:** В этом домашнем задании предусмотрено несколько заданий, за которые можно получить бонусные баллы. Бонусные баллы прибавляются к обычным баллам, и может выйти так, что ваша итоговая оценка станет больше 10. В таком случае именно это и будет являться вашей оценкой. То есть за это ДЗ **можно** получить больше 10"
   ]
  },
  {
   "cell_type": "markdown",
   "metadata": {
    "id": "nEGThfK6FLx0"
   },
   "source": [
    "__Внимание!__ Домашнее задание выполняется самостоятельно. Не допускается помощь в решении домашнего задания от однокурсников или третьих лиц. «Похожие» решения считаются плагиатом, и все задействованные студенты — в том числе и те, у кого списали, — не могут получить за него больше 0 баллов. Использование в решении домашнего задания генеративных моделей (ChatGPT и так далее) за рамками справочной и образовательной информации для генерации кода задания — считается плагиатом, и такое домашнее задание оценивается в 0 баллов."
   ]
  },
  {
   "cell_type": "markdown",
   "metadata": {
    "id": "zNja-u8vFLx0"
   },
   "source": [
    "### Формат сдачи"
   ]
  },
  {
   "cell_type": "markdown",
   "metadata": {
    "id": "_H-cf8uaFLx0"
   },
   "source": [
    "Загрузка файлов с решениями происходит в системе [Anytask](https://anytask.org/). Необходимо загружать файл с расширением .ipynb (питоновский ноутбук)\n",
    "\n",
    "Инвайт для подключения к странице курса в системе — будет указан для каждой группы в нашем телеграмм-канале позднее."
   ]
  },
  {
   "cell_type": "markdown",
   "source": [
    "## Раздел 1. Numpy"
   ],
   "metadata": {
    "id": "nRVHx0jluMpn"
   }
  },
  {
   "cell_type": "markdown",
   "metadata": {
    "id": "TEVawss2FLxy"
   },
   "source": [
    "### О задании"
   ]
  },
  {
   "cell_type": "markdown",
   "metadata": {
    "id": "NXNpYAFdFLxz"
   },
   "source": [
    "В данном разделе вы попрактикуетесь в работе с библиотекой numpy!"
   ]
  },
  {
   "cell_type": "code",
   "metadata": {
    "collapsed": true,
    "id": "4gsWSgTIFLx1",
    "ExecuteTime": {
     "end_time": "2025-01-29T20:39:05.604555Z",
     "start_time": "2025-01-29T20:39:05.600795Z"
    }
   },
   "source": [
    "import numpy as np"
   ],
   "outputs": [],
   "execution_count": 188
  },
  {
   "cell_type": "markdown",
   "metadata": {
    "id": "ApiPWJygFLx2"
   },
   "source": [
    "Во всех задачах необходимо написать код решения внутри функции и проверить его работу, вызвав функцию для данных из условия.\n",
    "\n",
    "При решении задач запрещается использовать циклы (`for`, `while`) и оператор `if`.\n",
    "\n",
    "Везде, где встречаются массивы или матрицы, подразумевается, что это `numpy.array`."
   ]
  },
  {
   "cell_type": "markdown",
   "metadata": {
    "id": "8fc_z7yNFLx2"
   },
   "source": [
    "### 1"
   ]
  },
  {
   "cell_type": "markdown",
   "metadata": {
    "id": "ETNlMgiZFLx3"
   },
   "source": [
    "Напишите функцию, возвращающую округленную взвешенную сумму оценок по данным оценкам и весам. Можете посчитать свою оценку за курс :) В нашем случае вес экзамена равен 0.25, вес домашек - 0.1, вес групповых проектов - 0.2, вес аудиторки - 0.2, вес контрольной 1 - 0.1, вес контрольной 2 - 0.1 и вес проекта - 0.05. Например, если экзамен написан на 6, домашки сданы на 9, проекты закрыты на 8, оценка за аудиторку 7, контрольная 1 написана на 10, контрольная 2 написана на 7 и проект сдан на 10 - итоговая оценка будет хорошо - 8"
   ]
  },
  {
   "cell_type": "code",
   "metadata": {
    "collapsed": true,
    "id": "VDEhJbQ-FLx3",
    "ExecuteTime": {
     "end_time": "2025-01-29T20:39:05.648474Z",
     "start_time": "2025-01-29T20:39:05.644193Z"
    }
   },
   "source": [
    "def result_mark(weights: np.array, marks: np.array) -> int:\n",
    "    \n",
    "    # проверка на то, что сумма весов равна 1\n",
    "    if not np.isclose(np.sum(weights), 1.0):\n",
    "        raise ValueError(\"Сумма весов должна равняться 1\")\n",
    "    \n",
    "    # проверка на то, что элементов контроля столько, сколько весов\n",
    "    if weights.shape != marks.shape:\n",
    "        raise ValueError(\"Весов и оценок должно быть одинаковое количество\")\n",
    "\n",
    "    final_sum = np.dot(marks, weights)\n",
    "    return round(final_sum)"
   ],
   "outputs": [],
   "execution_count": 189
  },
  {
   "cell_type": "code",
   "metadata": {
    "collapsed": true,
    "id": "NcaSNNLNFLx3",
    "ExecuteTime": {
     "end_time": "2025-01-29T20:39:05.665527Z",
     "start_time": "2025-01-29T20:39:05.657480Z"
    }
   },
   "source": [
    "weights = np.array([0.25, 0.1, 0.2, 0.2, 0.1, 0.1, 0.05])\n",
    "marks = np.array([6, 9, 8, 7, 10, 7, 10])\n",
    "result_mark(weights, marks)"
   ],
   "outputs": [
    {
     "data": {
      "text/plain": [
       "8"
      ]
     },
     "execution_count": 190,
     "metadata": {},
     "output_type": "execute_result"
    }
   ],
   "execution_count": 190
  },
  {
   "cell_type": "markdown",
   "metadata": {
    "id": "J0V1vikQFLx3"
   },
   "source": [
    "### 2"
   ]
  },
  {
   "cell_type": "markdown",
   "metadata": {
    "id": "-7GYYXZ-FLx4"
   },
   "source": [
    "Напишите функцию, меняющую каждое третье (начиная с 0) значение массива целых чисел на заданное число. Например, если на вход поступает массив `array([3, 5, 1, 0, -3, 22, 213436])` и число `-111`, то на выходе должен получиться массив `array([-111, 5, 1, -111, -3, 22, -111])`."
   ]
  },
  {
   "cell_type": "code",
   "metadata": {
    "collapsed": true,
    "id": "bCl2jHbqFLx4",
    "ExecuteTime": {
     "end_time": "2025-01-29T20:39:05.700407Z",
     "start_time": "2025-01-29T20:39:05.697027Z"
    }
   },
   "source": [
    "def change_array(array: np.array, number: int) -> np.array:\n",
    "    array[::3] = number\n",
    "    return array"
   ],
   "outputs": [],
   "execution_count": 191
  },
  {
   "cell_type": "code",
   "metadata": {
    "collapsed": true,
    "id": "Gpq8NhDLFLx4",
    "ExecuteTime": {
     "end_time": "2025-01-29T20:39:05.736764Z",
     "start_time": "2025-01-29T20:39:05.731781Z"
    }
   },
   "source": [
    "array = np.array([3, 5, 1, 0, -3, 22, 213436])\n",
    "number = -111\n",
    "change_array(array, number)"
   ],
   "outputs": [
    {
     "data": {
      "text/plain": [
       "array([-111,    5,    1, -111,   -3,   22, -111])"
      ]
     },
     "execution_count": 192,
     "metadata": {},
     "output_type": "execute_result"
    }
   ],
   "execution_count": 192
  },
  {
   "cell_type": "markdown",
   "metadata": {
    "id": "Sal1bM6RFLx4"
   },
   "source": [
    "### 3"
   ]
  },
  {
   "cell_type": "markdown",
   "metadata": {
    "id": "au8Az2JjFLx5"
   },
   "source": [
    "Напишите функцию, выдающую индексы «близких» элементов заданных массивов, а именно тех пар элементов, чей модуль разницы не превосходит заданного значения. Например, если на вход поступают массив `array([1.5, 0.5, 2, -4.1, -3, 6, -1])`, массив `array([1.2, 0.5, 1, -4, 3, 0, -1.2])` и число `0.5`, то на выходе должен получиться массив `array([0, 1, 3, 6])` (_**важно: не `tuple`, а одномерный массив типа `numpy.ndarray` (то есть `.ndim` от него равно 1)!**_)."
   ]
  },
  {
   "cell_type": "code",
   "metadata": {
    "collapsed": true,
    "id": "WacJagotFLx5",
    "ExecuteTime": {
     "end_time": "2025-01-29T20:39:05.771789Z",
     "start_time": "2025-01-29T20:39:05.767785Z"
    }
   },
   "source": [
    "def find_close(array1: np.array, array2: np.array,\n",
    "               precision: float) -> np.array:\n",
    "    diff = np.abs(array1-array2)\n",
    "    res = np.where(diff <= precision)[0]\n",
    "    return res"
   ],
   "outputs": [],
   "execution_count": 193
  },
  {
   "cell_type": "code",
   "metadata": {
    "collapsed": true,
    "id": "zFLktJlAFLx5",
    "ExecuteTime": {
     "end_time": "2025-01-29T20:39:05.806523Z",
     "start_time": "2025-01-29T20:39:05.802035Z"
    }
   },
   "source": [
    "array1 = np.array([1.5, 0.5, 2, -4.1, -3, 6, -1])\n",
    "array2 = np.array([1.2, 0.5, 1, -4, 3, 0, -1.2])\n",
    "precision = 0.5\n",
    "find_close(array1, array2, precision)"
   ],
   "outputs": [
    {
     "data": {
      "text/plain": [
       "array([0, 1, 3, 6])"
      ]
     },
     "execution_count": 194,
     "metadata": {},
     "output_type": "execute_result"
    }
   ],
   "execution_count": 194
  },
  {
   "cell_type": "markdown",
   "metadata": {
    "id": "vIuNrOzMFLx6"
   },
   "source": [
    "### 4"
   ]
  },
  {
   "cell_type": "markdown",
   "metadata": {
    "id": "ygLvIXXaFLx6"
   },
   "source": [
    "Напишите функцию, которая составляет блочную матрицу из четырех блоков, где каждый блок - это заданная матрица. Например, если на вход поступает матрица\n",
    "$$\n",
    "\\begin{pmatrix}\n",
    "0 & 1 & 2\\\\\n",
    "3 & 4 & 5\\\\\n",
    "\\end{pmatrix},\n",
    "$$\n",
    "то ответом будет матрица\n",
    "$$\n",
    "\\begin{pmatrix}\n",
    "0 & 1 & 2 & 0 & 1 & 2\\\\\n",
    "3 & 4 & 5 & 3 & 4 & 5\\\\\n",
    "0 & 1 & 2 & 0 & 1 & 2\\\\\n",
    "3 & 4 & 5 & 3 & 4 & 5\\\\\n",
    "\\end{pmatrix}\n",
    "$$"
   ]
  },
  {
   "cell_type": "code",
   "metadata": {
    "collapsed": true,
    "id": "3ZSvD5CbFLx6",
    "ExecuteTime": {
     "end_time": "2025-01-29T20:39:05.852685Z",
     "start_time": "2025-01-29T20:39:05.848720Z"
    }
   },
   "source": [
    "def block_matrix(block: np.array) -> np.array:\n",
    "    return np.block([[block, block], [block, block]])"
   ],
   "outputs": [],
   "execution_count": 195
  },
  {
   "cell_type": "code",
   "metadata": {
    "collapsed": true,
    "id": "x2zSnETKFLx6",
    "ExecuteTime": {
     "end_time": "2025-01-29T20:39:05.892934Z",
     "start_time": "2025-01-29T20:39:05.888091Z"
    }
   },
   "source": [
    "block = np.array([[0, 1, 2], [3, 4, 5]])\n",
    "block_matrix(block)"
   ],
   "outputs": [
    {
     "data": {
      "text/plain": [
       "array([[0, 1, 2, 0, 1, 2],\n",
       "       [3, 4, 5, 3, 4, 5],\n",
       "       [0, 1, 2, 0, 1, 2],\n",
       "       [3, 4, 5, 3, 4, 5]])"
      ]
     },
     "execution_count": 196,
     "metadata": {},
     "output_type": "execute_result"
    }
   ],
   "execution_count": 196
  },
  {
   "cell_type": "markdown",
   "metadata": {
    "id": "4Bjhe8y1FLx7"
   },
   "source": [
    "### 5"
   ]
  },
  {
   "cell_type": "markdown",
   "metadata": {
    "id": "-U82db8IFLx7"
   },
   "source": [
    "Напишите функцию, вычисляющую произведение всех ненулевых диагональных элементов на главной диагонали данной квадратной матрицы. Например, если на вход поступает матрица\n",
    "$$\n",
    "\\begin{pmatrix}\n",
    "0 & 1 & 2\\\\\n",
    "3 & 4 & 5\\\\\n",
    "6 & 7 & 8\\\\\n",
    "\\end{pmatrix},\n",
    "$$\n",
    "то ответом будет 32."
   ]
  },
  {
   "cell_type": "code",
   "metadata": {
    "collapsed": true,
    "id": "KXSqcJtDFLx7",
    "ExecuteTime": {
     "end_time": "2025-01-29T20:39:05.962177Z",
     "start_time": "2025-01-29T20:39:05.957870Z"
    }
   },
   "source": [
    "def diag_prod(matrix: np.array) -> int:\n",
    "    els = np.diagonal(matrix)\n",
    "    cond_els = els[els != 0]\n",
    "    return np.prod(cond_els)"
   ],
   "outputs": [],
   "execution_count": 197
  },
  {
   "cell_type": "code",
   "metadata": {
    "collapsed": true,
    "id": "tVMMGkuwFLx7",
    "ExecuteTime": {
     "end_time": "2025-01-29T20:39:06.012113Z",
     "start_time": "2025-01-29T20:39:06.006089Z"
    }
   },
   "source": [
    "matrix = np.array([[0, 1, 2], [3, 4, 5], [6, 7, 8]])\n",
    "diag_prod(matrix)"
   ],
   "outputs": [
    {
     "data": {
      "text/plain": [
       "np.int64(32)"
      ]
     },
     "execution_count": 198,
     "metadata": {},
     "output_type": "execute_result"
    }
   ],
   "execution_count": 198
  },
  {
   "cell_type": "markdown",
   "metadata": {
    "id": "N4x5oKBqFLx8"
   },
   "source": [
    "### 6"
   ]
  },
  {
   "cell_type": "markdown",
   "metadata": {
    "id": "X_KxN00rFLx8"
   },
   "source": [
    "Для улучшения качества работы некоторых алгоритмов машинного обучения может быть полезно использовать [нормализацию данных](https://vk.cc/8xmfQk), чтобы привести признаки в выборке к одному масштабу — а именно, из каждого столбца вычесть среднее его значений и поделить на их стандартное отклонение. Напишите функцию, нормализующую входящую матрицу (по столбцам). Например, если на вход подается матрица\n",
    "$$\n",
    "\\begin{pmatrix}\n",
    "1 & 4 & 4200\\\\\n",
    "0 & 10 & 5000\\\\\n",
    "1 & 2 & 1000\\\\\n",
    "\\end{pmatrix},\n",
    "$$\n",
    "то результатом с точностью до сотых будет матрица\n",
    "$$\n",
    "\\begin{pmatrix}\n",
    "0.71 & -0.39 & 0.46\\\\\n",
    "-1.41 & 1.37 & 0.93\\\\\n",
    "0.71 & -0.98 & -1.39\\\\\n",
    "\\end{pmatrix}\n",
    "$$\n",
    "\n",
    "_Подсказка. Учтите, что в вашей матрице не должно получаться никаких nan. Подумайте, в каком случае они могут возникнуть и как обойти эту проблему._\n"
   ]
  },
  {
   "cell_type": "code",
   "metadata": {
    "collapsed": true,
    "id": "8-1UM3LqFLx8",
    "ExecuteTime": {
     "end_time": "2025-01-29T20:39:06.077391Z",
     "start_time": "2025-01-29T20:39:06.074119Z"
    }
   },
   "source": [
    "def normalize(matrix: np.array) -> np.array:\n",
    "    std = np.std(matrix, axis=0)\n",
    "    std_wout_zeros = np.where(std == 0, 1, std)\n",
    "    return np.round((matrix - np.mean(matrix, axis = 0)) / std_wout_zeros, 2)"
   ],
   "outputs": [],
   "execution_count": 199
  },
  {
   "cell_type": "code",
   "metadata": {
    "collapsed": true,
    "id": "5s0nCZJNFLx8",
    "ExecuteTime": {
     "end_time": "2025-01-29T20:39:06.150212Z",
     "start_time": "2025-01-29T20:39:06.144787Z"
    }
   },
   "source": [
    "matrix = np.array([[1, 4, 4200], [0, 10, 5000], [1, 2, 1000]])\n",
    "normalize(matrix)"
   ],
   "outputs": [
    {
     "data": {
      "text/plain": [
       "array([[ 0.71, -0.39,  0.46],\n",
       "       [-1.41,  1.37,  0.93],\n",
       "       [ 0.71, -0.98, -1.39]])"
      ]
     },
     "execution_count": 200,
     "metadata": {},
     "output_type": "execute_result"
    }
   ],
   "execution_count": 200
  },
  {
   "metadata": {},
   "cell_type": "markdown",
   "source": "nan-значения могут быть в том случае если все значения в столбце равны 0, тогда и стандартное отклонение будет равно 0, а результатом деления окажется nan, поэтому нам стоит задать значение для всех nan элементов"
  },
  {
   "cell_type": "markdown",
   "metadata": {
    "id": "GGezY0NEFLx9"
   },
   "source": [
    "### 7"
   ]
  },
  {
   "cell_type": "markdown",
   "metadata": {
    "id": "yBWZF7a5FLx9"
   },
   "source": [
    "Напишите функцию, вычисляющую какую-нибудь первообразную данного полинома (в качестве константы возьмите ваше любимое число). Например, если на вход поступает массив коэффициентов `array([4, 6, 0, 1])`, что соответствует полиному $4x^3 + 6x^2 + 1$, на выходе получается массив коэффициентов `array([1, 2, 0, 1, -2])`, соответствующий полиному $x^4 + 2x^3 + x - 2$."
   ]
  },
  {
   "cell_type": "code",
   "metadata": {
    "collapsed": true,
    "id": "IWU9ISN_FLx9",
    "ExecuteTime": {
     "end_time": "2025-01-29T20:39:06.160561Z",
     "start_time": "2025-01-29T20:39:06.157218Z"
    }
   },
   "source": [
    "def antiderivative(coefs: np.array) -> np.array:\n",
    "    n = len(coefs)\n",
    "    new_coefs = np.zeros(n + 1, dtype=float)\n",
    "\n",
    "    for i in range(n):\n",
    "        deg = n - 1 - i\n",
    "        new_coefs[i] = coefs[i] / (deg + 1)\n",
    "\n",
    "    new_coefs[-1] = 11\n",
    "    return new_coefs"
   ],
   "outputs": [],
   "execution_count": 201
  },
  {
   "cell_type": "code",
   "metadata": {
    "collapsed": true,
    "id": "9G2gNNZxFLx9",
    "ExecuteTime": {
     "end_time": "2025-01-29T20:39:06.196936Z",
     "start_time": "2025-01-29T20:39:06.191781Z"
    }
   },
   "source": [
    "coefs = np.array([4, 6, 0, 1])\n",
    "antiderivative(coefs)"
   ],
   "outputs": [
    {
     "data": {
      "text/plain": [
       "array([ 1.,  2.,  0.,  1., 11.])"
      ]
     },
     "execution_count": 202,
     "metadata": {},
     "output_type": "execute_result"
    }
   ],
   "execution_count": 202
  },
  {
   "metadata": {},
   "cell_type": "markdown",
   "source": "в качестве dtype взял float, тк существуют случаи, когда коэффициенты первообразной будут получаться не целыми, думаю, это более правильное решение)"
  },
  {
   "cell_type": "markdown",
   "metadata": {
    "id": "6LtnZ4T1FLx9"
   },
   "source": [
    "### 8"
   ]
  },
  {
   "cell_type": "markdown",
   "metadata": {
    "id": "vGq8Aao0FLx-"
   },
   "source": [
    "Напишите функцию, делающую данную [треугольную матрицу](https://ru.wikipedia.org/wiki/%D0%A2%D1%80%D0%B5%D1%83%D0%B3%D0%BE%D0%BB%D1%8C%D0%BD%D0%B0%D1%8F_%D0%BC%D0%B0%D1%82%D1%80%D0%B8%D1%86%D0%B0) симметричной. Например, если на вход поступает матрица\n",
    "$$\n",
    "\\begin{pmatrix}\n",
    "1 & 2 & 3 & 4\\\\\n",
    "0 & 5 & 6 & 7\\\\\n",
    "0 & 0 & 8 & 9\\\\\n",
    "0 & 0 & 0 & 10\\\\\n",
    "\\end{pmatrix},\n",
    "$$\n",
    "то на выходе должна быть матрица\n",
    "$$\n",
    "\\begin{pmatrix}\n",
    "1 & 2 & 3 & 4\\\\\n",
    "2 & 5 & 6 & 7\\\\\n",
    "3 & 6 & 8 & 9\\\\\n",
    "4 & 7 & 9 & 10\\\\\n",
    "\\end{pmatrix}.\n",
    "$$"
   ]
  },
  {
   "cell_type": "code",
   "metadata": {
    "collapsed": true,
    "id": "X9YCwhUxFLx-",
    "ExecuteTime": {
     "end_time": "2025-01-29T20:39:06.275452Z",
     "start_time": "2025-01-29T20:39:06.271451Z"
    }
   },
   "source": [
    "def make_symmetric(matrix: np.array) -> np.array:\n",
    "    return matrix + matrix.T - np.diag(matrix.diagonal())"
   ],
   "outputs": [],
   "execution_count": 203
  },
  {
   "cell_type": "code",
   "metadata": {
    "collapsed": true,
    "id": "ShNVSsM-FLx-",
    "ExecuteTime": {
     "end_time": "2025-01-29T20:39:06.338140Z",
     "start_time": "2025-01-29T20:39:06.334244Z"
    }
   },
   "source": [
    "matrix = np.array([[1, 2, 3, 4], [0, 5, 6, 7], [0, 0, 8, 9], [0, 0, 0, 10]])\n",
    "make_symmetric(matrix)"
   ],
   "outputs": [
    {
     "data": {
      "text/plain": [
       "array([[ 1,  2,  3,  4],\n",
       "       [ 2,  5,  6,  7],\n",
       "       [ 3,  6,  8,  9],\n",
       "       [ 4,  7,  9, 10]])"
      ]
     },
     "execution_count": 204,
     "metadata": {},
     "output_type": "execute_result"
    }
   ],
   "execution_count": 204
  },
  {
   "cell_type": "markdown",
   "metadata": {
    "id": "JV_y8k8rFLx-"
   },
   "source": [
    "### 9"
   ]
  },
  {
   "cell_type": "markdown",
   "metadata": {
    "id": "7pX12jtoFLx_"
   },
   "source": [
    "Напишите функцию, создающую прямоугольную матрицу из m одинаковых строк, заполненных последовательными натуральными числами от a до b включительно в возрастающем порядке. Например, если m = 5, a = 3, b = 10, то на выходе будет матрица\n",
    "$$\n",
    "\\begin{pmatrix}\n",
    "3 & 4 & 5 & 6 & 7 & 8 & 9 & 10\\\\\n",
    "3 & 4 & 5 & 6 & 7 & 8 & 9 & 10\\\\\n",
    "3 & 4 & 5 & 6 & 7 & 8 & 9 & 10\\\\\n",
    "3 & 4 & 5 & 6 & 7 & 8 & 9 & 10\\\\\n",
    "3 & 4 & 5 & 6 & 7 & 8 & 9 & 10\\\\\n",
    "\\end{pmatrix}\n",
    "$$"
   ]
  },
  {
   "cell_type": "code",
   "metadata": {
    "collapsed": true,
    "id": "g2yZmQ4gFLx_",
    "ExecuteTime": {
     "end_time": "2025-01-29T20:39:06.381Z",
     "start_time": "2025-01-29T20:39:06.377085Z"
    }
   },
   "source": [
    "def construct_matrix(m: int, a: int, b: int) -> np.array:\n",
    "    str = np.arange(a, b+1)\n",
    "    return np.tile(str, (m,1))"
   ],
   "outputs": [],
   "execution_count": 205
  },
  {
   "cell_type": "code",
   "metadata": {
    "collapsed": true,
    "id": "bsaKjkvOFLx_",
    "ExecuteTime": {
     "end_time": "2025-01-29T20:39:06.456093Z",
     "start_time": "2025-01-29T20:39:06.450093Z"
    }
   },
   "source": [
    "m = 5\n",
    "a = 3\n",
    "b = 10\n",
    "construct_matrix(m, a, b)"
   ],
   "outputs": [
    {
     "data": {
      "text/plain": [
       "array([[ 3,  4,  5,  6,  7,  8,  9, 10],\n",
       "       [ 3,  4,  5,  6,  7,  8,  9, 10],\n",
       "       [ 3,  4,  5,  6,  7,  8,  9, 10],\n",
       "       [ 3,  4,  5,  6,  7,  8,  9, 10],\n",
       "       [ 3,  4,  5,  6,  7,  8,  9, 10]])"
      ]
     },
     "execution_count": 206,
     "metadata": {},
     "output_type": "execute_result"
    }
   ],
   "execution_count": 206
  },
  {
   "cell_type": "markdown",
   "metadata": {
    "id": "G9vWLQZWFLx_"
   },
   "source": [
    "### 10"
   ]
  },
  {
   "cell_type": "markdown",
   "metadata": {
    "id": "USWqm0x7FLx_"
   },
   "source": [
    "Напишите функцию, вычисляющую [косинусную близость](https://en.wikipedia.org/wiki/Cosine_similarity) двух векторов. Например, если на вход поступают вектора `array([-2, 1, 0, -5, 4, 3, -3])` и `array([0, 2, -2, 10, 6, 0, 0])`, ответом будет -0.25."
   ]
  },
  {
   "cell_type": "code",
   "metadata": {
    "collapsed": true,
    "id": "48XiDQTBFLyA",
    "ExecuteTime": {
     "end_time": "2025-01-29T20:39:06.531925Z",
     "start_time": "2025-01-29T20:39:06.527922Z"
    }
   },
   "source": [
    "def cosine_similarity(vec1: np.array, vec2: np.array) -> float:\n",
    "    skal = np.dot(vec1, vec2)\n",
    "    norm1 = np.linalg.norm(vec1)\n",
    "    norm2 = np.linalg.norm(vec2)\n",
    "    return skal / (norm1 * norm2)"
   ],
   "outputs": [],
   "execution_count": 207
  },
  {
   "cell_type": "code",
   "metadata": {
    "collapsed": true,
    "id": "YmEsEYHrFLyA",
    "ExecuteTime": {
     "end_time": "2025-01-29T20:39:06.599837Z",
     "start_time": "2025-01-29T20:39:06.594945Z"
    }
   },
   "source": [
    "vec1 = np.array([-2, 1, 0, -5, 4, 3, -3])\n",
    "vec2 = np.array([0, 2, -2, 10, 6, 0, 0])\n",
    "cosine_similarity(vec1, vec2)"
   ],
   "outputs": [
    {
     "data": {
      "text/plain": [
       "np.float64(-0.25)"
      ]
     },
     "execution_count": 208,
     "metadata": {},
     "output_type": "execute_result"
    }
   ],
   "execution_count": 208
  },
  {
   "cell_type": "markdown",
   "source": [
    "## Раздел 2. Pandas"
   ],
   "metadata": {
    "id": "ahfJyTsDuaD6"
   }
  },
  {
   "cell_type": "markdown",
   "metadata": {
    "id": "9y0Eqft-ugr_"
   },
   "source": [
    "### О задании"
   ]
  },
  {
   "cell_type": "markdown",
   "metadata": {
    "id": "55u9lnUtugr_"
   },
   "source": [
    "В данном разделе вы попрактикуетесь в работе с библиотекой pandas!"
   ]
  },
  {
   "cell_type": "code",
   "metadata": {
    "collapsed": true,
    "id": "DFu7UczHugr_",
    "ExecuteTime": {
     "end_time": "2025-01-29T20:39:06.664446Z",
     "start_time": "2025-01-29T20:39:06.661452Z"
    }
   },
   "source": [
    "import pandas as pd"
   ],
   "outputs": [],
   "execution_count": 209
  },
  {
   "cell_type": "markdown",
   "metadata": {
    "id": "XJrwOn9mugsA"
   },
   "source": [
    "Обратите внимание, что практически во всех заданиях вам потребуется написать какой-то текст в виде вывода/результата/итога/какого-то резюме. Пожалуйста, не ленитесь, и пишите выводы ***подробно***, существенная часть баллов будет выставляться именно за выводы, так как в анализе данных они имеют большое значение. Таким образом, на любое задание, сформулированное в виде вопроса, отвечайте текстом, подкрепляя ваши слова написанным и выполненным кодом. Текст выводов/комментариев пишите в отдельных ячейках, используя средства текстового редактора Jupyter Notebook/Google Colab, при необходимости используйте средства *выделения*.\n",
    "\n",
    "При решении задач, когда вам необходимо сделать какой-то фильтр, срез, выборку, или иное действие с данными, запрещается использовать циклы (`for`, `while`) и оператор `if`.\n"
   ]
  },
  {
   "cell_type": "markdown",
   "metadata": {
    "id": "dGrzCZkIZKge"
   },
   "source": [
    "### 1"
   ]
  },
  {
   "cell_type": "markdown",
   "source": [
    "В этом разделе домашнего задания вы поработаете с данными исследования зависимости средней продолжительности жизни по странам от количества употребляемого в стране алкоголя.\n",
    "\n",
    "Вашему вниманию представлено два датасета: drinks.csv и lifeexpectancy-verbose.csv\n",
    "\n",
    "Первая таблица содержит в себе сводные данные по количеству употребляемого алкоголя в каждой стране.\n",
    "\n",
    "Описание датасета:\n",
    "- country -\tName of the country (String)\n",
    "- beer_servings\t- Number of beer servings per person in the country (Integer)\n",
    "- spirit_servings\t- Number of spirit servings per person in the country (Integer)\n",
    "- wine_servings\t- Number of wine servings per person in the country(Integer)\n",
    "- total_litres_of_pure_alcohol -\tTotal litres of pure alcohol consumed per person in the country (Float)\n",
    "\n",
    "Вторая таблица содержит в себе информацию о научных статьях и исследованиях о продолжительности жизни (в разных категориях и для разных групп) по той или иной стране."
   ],
   "metadata": {
    "id": "zGH53krziiVU"
   }
  },
  {
   "cell_type": "markdown",
   "metadata": {
    "id": "rQyUvNgkZKge"
   },
   "source": [
    "Откройте в ноутбуке оба файла с данными. Какой размер имеют таблицы? Выведите первые 5 и последние 5 строк для обеих таблиц. Сколько уникальных стран представлено в каждой из таблиц? Сделайте выводы."
   ]
  },
  {
   "cell_type": "code",
   "metadata": {
    "collapsed": true,
    "id": "nUpM5eHoZKgf",
    "ExecuteTime": {
     "end_time": "2025-01-29T20:39:06.721742Z",
     "start_time": "2025-01-29T20:39:06.698628Z"
    }
   },
   "source": [
    "drinks = pd.read_csv('drinks.csv')\n",
    "lifeexp = pd.read_csv('lifeexpectancy-verbose.csv')\n",
    "print(drinks.shape, lifeexp.shape)"
   ],
   "outputs": [
    {
     "name": "stdout",
     "output_type": "stream",
     "text": [
      "(193, 6) (6408, 17)\n"
     ]
    }
   ],
   "execution_count": 210
  },
  {
   "metadata": {},
   "cell_type": "markdown",
   "source": "Видим, что таблица с алкоголем содержит 193 наблюдения (пока что предположительно по 193 странам) по 6 признакам, а таблица с продолжительностью жизни содержит 6408 наблюдений по 17 признакам"
  },
  {
   "metadata": {
    "ExecuteTime": {
     "end_time": "2025-01-29T20:39:06.764352Z",
     "start_time": "2025-01-29T20:39:06.753059Z"
    }
   },
   "cell_type": "code",
   "source": [
    "country_mapping = {\n",
    "    'Iran (Islamic Republic of)': 'Iran',\n",
    "    'Republic of Korea': 'South Korea',\n",
    "    'Syrian Arab Republic': 'Syria',\n",
    "    'Lao People\\'s Democratic Republic': 'Laos',\n",
    "    'Democratic People\\'s Republic of Korea': 'North Korea',\n",
    "    'United Republic of Tanzania': 'Tanzania',\n",
    "    'Republic of Moldova': 'Moldova',\n",
    "    'Viet Nam': 'Vietnam',\n",
    "    'Venezuela (Bolivarian Republic of)': 'Venezuela',\n",
    "    'United Kingdom of Great Britain and Northern Ireland': 'United Kingdom',\n",
    "    'Micronesia (Federated States of)': 'Micronesia',\n",
    "    'Trinidad and Tobago': 'Trinidad & Tobago',\n",
    "    'Democratic Republic of the Congo': 'DR Congo',\n",
    "    'Brunei Darussalam': 'Brunei',\n",
    "    'Saint Vincent and the Grenadines': 'St. Vincent & the Grenadines',\n",
    "    'Timor_Leste': 'Timor-Leste',\n",
    "    'United States of America': 'USA',\n",
    "    'Côte d\\'Ivoire': 'Cote d\\'Ivoire',\n",
    "    'Bolivia (Plurinational State of)': 'Bolivia',\n",
    "    'The former Yugoslav republic of Macedonia': 'Macedonia',\n",
    "    'Saint Lucia': 'St. Lucia',\n",
    "    'Saint Kitts and Nevis': 'St. Kitts & Nevis',\n",
    "    'Antigua and Barbuda': 'Antigua & Barbuda',\n",
    "    'Bosnia and Herzegovina': 'Bosnia-Herzegovina',\n",
    "    'Guinea-Bissau': 'Guinea_Bissau',\n",
    "    'Sao Tome and Principe': 'Sao Tome & Principe'\n",
    "}\n",
    "\n",
    "lifeexp['CountryDisplay'] = lifeexp['CountryDisplay'].replace(country_mapping)\n",
    "drinks['country'] = drinks['country'].replace(country_mapping)\n"
   ],
   "outputs": [],
   "execution_count": 211
  },
  {
   "metadata": {
    "ExecuteTime": {
     "end_time": "2025-01-29T20:39:06.803347Z",
     "start_time": "2025-01-29T20:39:06.795209Z"
    }
   },
   "cell_type": "code",
   "source": "drinks.head()",
   "outputs": [
    {
     "data": {
      "text/plain": [
       "   index      country  beer_servings  spirit_servings  wine_servings  \\\n",
       "0      0  Afghanistan              0                0              0   \n",
       "1      1      Albania             89              132             54   \n",
       "2      2      Algeria             25                0             14   \n",
       "3      3      Andorra            245              138            312   \n",
       "4      4       Angola            217               57             45   \n",
       "\n",
       "   total_litres_of_pure_alcohol  \n",
       "0                           0.0  \n",
       "1                           4.9  \n",
       "2                           0.7  \n",
       "3                          12.4  \n",
       "4                           5.9  "
      ],
      "text/html": [
       "<div>\n",
       "<style scoped>\n",
       "    .dataframe tbody tr th:only-of-type {\n",
       "        vertical-align: middle;\n",
       "    }\n",
       "\n",
       "    .dataframe tbody tr th {\n",
       "        vertical-align: top;\n",
       "    }\n",
       "\n",
       "    .dataframe thead th {\n",
       "        text-align: right;\n",
       "    }\n",
       "</style>\n",
       "<table border=\"1\" class=\"dataframe\">\n",
       "  <thead>\n",
       "    <tr style=\"text-align: right;\">\n",
       "      <th></th>\n",
       "      <th>index</th>\n",
       "      <th>country</th>\n",
       "      <th>beer_servings</th>\n",
       "      <th>spirit_servings</th>\n",
       "      <th>wine_servings</th>\n",
       "      <th>total_litres_of_pure_alcohol</th>\n",
       "    </tr>\n",
       "  </thead>\n",
       "  <tbody>\n",
       "    <tr>\n",
       "      <th>0</th>\n",
       "      <td>0</td>\n",
       "      <td>Afghanistan</td>\n",
       "      <td>0</td>\n",
       "      <td>0</td>\n",
       "      <td>0</td>\n",
       "      <td>0.0</td>\n",
       "    </tr>\n",
       "    <tr>\n",
       "      <th>1</th>\n",
       "      <td>1</td>\n",
       "      <td>Albania</td>\n",
       "      <td>89</td>\n",
       "      <td>132</td>\n",
       "      <td>54</td>\n",
       "      <td>4.9</td>\n",
       "    </tr>\n",
       "    <tr>\n",
       "      <th>2</th>\n",
       "      <td>2</td>\n",
       "      <td>Algeria</td>\n",
       "      <td>25</td>\n",
       "      <td>0</td>\n",
       "      <td>14</td>\n",
       "      <td>0.7</td>\n",
       "    </tr>\n",
       "    <tr>\n",
       "      <th>3</th>\n",
       "      <td>3</td>\n",
       "      <td>Andorra</td>\n",
       "      <td>245</td>\n",
       "      <td>138</td>\n",
       "      <td>312</td>\n",
       "      <td>12.4</td>\n",
       "    </tr>\n",
       "    <tr>\n",
       "      <th>4</th>\n",
       "      <td>4</td>\n",
       "      <td>Angola</td>\n",
       "      <td>217</td>\n",
       "      <td>57</td>\n",
       "      <td>45</td>\n",
       "      <td>5.9</td>\n",
       "    </tr>\n",
       "  </tbody>\n",
       "</table>\n",
       "</div>"
      ]
     },
     "execution_count": 212,
     "metadata": {},
     "output_type": "execute_result"
    }
   ],
   "execution_count": 212
  },
  {
   "metadata": {
    "ExecuteTime": {
     "end_time": "2025-01-29T20:39:06.863686Z",
     "start_time": "2025-01-29T20:39:06.857624Z"
    }
   },
   "cell_type": "code",
   "source": "drinks.tail()",
   "outputs": [
    {
     "data": {
      "text/plain": [
       "     index    country  beer_servings  spirit_servings  wine_servings  \\\n",
       "188    188  Venezuela            333              100              3   \n",
       "189    189    Vietnam            111                2              1   \n",
       "190    190      Yemen              6                0              0   \n",
       "191    191     Zambia             32               19              4   \n",
       "192    192   Zimbabwe             64               18              4   \n",
       "\n",
       "     total_litres_of_pure_alcohol  \n",
       "188                           7.7  \n",
       "189                           2.0  \n",
       "190                           0.1  \n",
       "191                           2.5  \n",
       "192                           4.7  "
      ],
      "text/html": [
       "<div>\n",
       "<style scoped>\n",
       "    .dataframe tbody tr th:only-of-type {\n",
       "        vertical-align: middle;\n",
       "    }\n",
       "\n",
       "    .dataframe tbody tr th {\n",
       "        vertical-align: top;\n",
       "    }\n",
       "\n",
       "    .dataframe thead th {\n",
       "        text-align: right;\n",
       "    }\n",
       "</style>\n",
       "<table border=\"1\" class=\"dataframe\">\n",
       "  <thead>\n",
       "    <tr style=\"text-align: right;\">\n",
       "      <th></th>\n",
       "      <th>index</th>\n",
       "      <th>country</th>\n",
       "      <th>beer_servings</th>\n",
       "      <th>spirit_servings</th>\n",
       "      <th>wine_servings</th>\n",
       "      <th>total_litres_of_pure_alcohol</th>\n",
       "    </tr>\n",
       "  </thead>\n",
       "  <tbody>\n",
       "    <tr>\n",
       "      <th>188</th>\n",
       "      <td>188</td>\n",
       "      <td>Venezuela</td>\n",
       "      <td>333</td>\n",
       "      <td>100</td>\n",
       "      <td>3</td>\n",
       "      <td>7.7</td>\n",
       "    </tr>\n",
       "    <tr>\n",
       "      <th>189</th>\n",
       "      <td>189</td>\n",
       "      <td>Vietnam</td>\n",
       "      <td>111</td>\n",
       "      <td>2</td>\n",
       "      <td>1</td>\n",
       "      <td>2.0</td>\n",
       "    </tr>\n",
       "    <tr>\n",
       "      <th>190</th>\n",
       "      <td>190</td>\n",
       "      <td>Yemen</td>\n",
       "      <td>6</td>\n",
       "      <td>0</td>\n",
       "      <td>0</td>\n",
       "      <td>0.1</td>\n",
       "    </tr>\n",
       "    <tr>\n",
       "      <th>191</th>\n",
       "      <td>191</td>\n",
       "      <td>Zambia</td>\n",
       "      <td>32</td>\n",
       "      <td>19</td>\n",
       "      <td>4</td>\n",
       "      <td>2.5</td>\n",
       "    </tr>\n",
       "    <tr>\n",
       "      <th>192</th>\n",
       "      <td>192</td>\n",
       "      <td>Zimbabwe</td>\n",
       "      <td>64</td>\n",
       "      <td>18</td>\n",
       "      <td>4</td>\n",
       "      <td>4.7</td>\n",
       "    </tr>\n",
       "  </tbody>\n",
       "</table>\n",
       "</div>"
      ]
     },
     "execution_count": 213,
     "metadata": {},
     "output_type": "execute_result"
    }
   ],
   "execution_count": 213
  },
  {
   "metadata": {},
   "cell_type": "markdown",
   "source": "Можем сделать вывод о том, что существенными тут являются 5 признаков (тк один из них - индекс - не несет никакой полезной информации)"
  },
  {
   "metadata": {
    "ExecuteTime": {
     "end_time": "2025-01-29T20:39:06.958455Z",
     "start_time": "2025-01-29T20:39:06.949454Z"
    }
   },
   "cell_type": "code",
   "source": "lifeexp.head()",
   "outputs": [
    {
     "data": {
      "text/plain": [
       "   index        GhoCode                                       GhoDisplay  \\\n",
       "0      0  WHOSIS_000001                 Life expectancy at birth (years)   \n",
       "1      1  WHOSIS_000002  Healthy life expectancy (HALE) at birth (years)   \n",
       "2      2  WHOSIS_000001                 Life expectancy at birth (years)   \n",
       "3      3  WHOSIS_000001                 Life expectancy at birth (years)   \n",
       "4      4  WHOSIS_000015                Life expectancy at age 60 (years)   \n",
       "\n",
       "  PublishStateCode PublishStateDisplay  YearCode  YearDisplay RegionCode  \\\n",
       "0        PUBLISHED           Published      1990         1990        AMR   \n",
       "1        PUBLISHED           Published      2012         2012        EUR   \n",
       "2        PUBLISHED           Published      2000         2000        EMR   \n",
       "3        PUBLISHED           Published      2000         2000        AFR   \n",
       "4        PUBLISHED           Published      1990         1990       SEAR   \n",
       "\n",
       "           RegionDisplay WorldBankIncomeGroupGroupCode  \\\n",
       "0               Americas                        WB_LMI   \n",
       "1                 Europe                         WB_HI   \n",
       "2  Eastern Mediterranean                         WB_LI   \n",
       "3                 Africa                        WB_LMI   \n",
       "4        South_East Asia                        WB_LMI   \n",
       "\n",
       "  WorldBankIncomeGroupDisplay CountryCode CountryDisplay SexCode  SexDisplay  \\\n",
       "0         Lower_middle_income         NIC      Nicaragua     MLE        Male   \n",
       "1                 High_income         IRL        Ireland     MLE        Male   \n",
       "2                  Low_income         YEM          Yemen    BTSX  Both sexes   \n",
       "3         Lower_middle_income         NGA        Nigeria    FMLE      Female   \n",
       "4         Lower_middle_income         THA       Thailand    FMLE      Female   \n",
       "\n",
       "   DisplayValue  Numeric  \n",
       "0            68     68.0  \n",
       "1            69     69.3  \n",
       "2            61     61.0  \n",
       "3            48     48.0  \n",
       "4            19     19.0  "
      ],
      "text/html": [
       "<div>\n",
       "<style scoped>\n",
       "    .dataframe tbody tr th:only-of-type {\n",
       "        vertical-align: middle;\n",
       "    }\n",
       "\n",
       "    .dataframe tbody tr th {\n",
       "        vertical-align: top;\n",
       "    }\n",
       "\n",
       "    .dataframe thead th {\n",
       "        text-align: right;\n",
       "    }\n",
       "</style>\n",
       "<table border=\"1\" class=\"dataframe\">\n",
       "  <thead>\n",
       "    <tr style=\"text-align: right;\">\n",
       "      <th></th>\n",
       "      <th>index</th>\n",
       "      <th>GhoCode</th>\n",
       "      <th>GhoDisplay</th>\n",
       "      <th>PublishStateCode</th>\n",
       "      <th>PublishStateDisplay</th>\n",
       "      <th>YearCode</th>\n",
       "      <th>YearDisplay</th>\n",
       "      <th>RegionCode</th>\n",
       "      <th>RegionDisplay</th>\n",
       "      <th>WorldBankIncomeGroupGroupCode</th>\n",
       "      <th>WorldBankIncomeGroupDisplay</th>\n",
       "      <th>CountryCode</th>\n",
       "      <th>CountryDisplay</th>\n",
       "      <th>SexCode</th>\n",
       "      <th>SexDisplay</th>\n",
       "      <th>DisplayValue</th>\n",
       "      <th>Numeric</th>\n",
       "    </tr>\n",
       "  </thead>\n",
       "  <tbody>\n",
       "    <tr>\n",
       "      <th>0</th>\n",
       "      <td>0</td>\n",
       "      <td>WHOSIS_000001</td>\n",
       "      <td>Life expectancy at birth (years)</td>\n",
       "      <td>PUBLISHED</td>\n",
       "      <td>Published</td>\n",
       "      <td>1990</td>\n",
       "      <td>1990</td>\n",
       "      <td>AMR</td>\n",
       "      <td>Americas</td>\n",
       "      <td>WB_LMI</td>\n",
       "      <td>Lower_middle_income</td>\n",
       "      <td>NIC</td>\n",
       "      <td>Nicaragua</td>\n",
       "      <td>MLE</td>\n",
       "      <td>Male</td>\n",
       "      <td>68</td>\n",
       "      <td>68.0</td>\n",
       "    </tr>\n",
       "    <tr>\n",
       "      <th>1</th>\n",
       "      <td>1</td>\n",
       "      <td>WHOSIS_000002</td>\n",
       "      <td>Healthy life expectancy (HALE) at birth (years)</td>\n",
       "      <td>PUBLISHED</td>\n",
       "      <td>Published</td>\n",
       "      <td>2012</td>\n",
       "      <td>2012</td>\n",
       "      <td>EUR</td>\n",
       "      <td>Europe</td>\n",
       "      <td>WB_HI</td>\n",
       "      <td>High_income</td>\n",
       "      <td>IRL</td>\n",
       "      <td>Ireland</td>\n",
       "      <td>MLE</td>\n",
       "      <td>Male</td>\n",
       "      <td>69</td>\n",
       "      <td>69.3</td>\n",
       "    </tr>\n",
       "    <tr>\n",
       "      <th>2</th>\n",
       "      <td>2</td>\n",
       "      <td>WHOSIS_000001</td>\n",
       "      <td>Life expectancy at birth (years)</td>\n",
       "      <td>PUBLISHED</td>\n",
       "      <td>Published</td>\n",
       "      <td>2000</td>\n",
       "      <td>2000</td>\n",
       "      <td>EMR</td>\n",
       "      <td>Eastern Mediterranean</td>\n",
       "      <td>WB_LI</td>\n",
       "      <td>Low_income</td>\n",
       "      <td>YEM</td>\n",
       "      <td>Yemen</td>\n",
       "      <td>BTSX</td>\n",
       "      <td>Both sexes</td>\n",
       "      <td>61</td>\n",
       "      <td>61.0</td>\n",
       "    </tr>\n",
       "    <tr>\n",
       "      <th>3</th>\n",
       "      <td>3</td>\n",
       "      <td>WHOSIS_000001</td>\n",
       "      <td>Life expectancy at birth (years)</td>\n",
       "      <td>PUBLISHED</td>\n",
       "      <td>Published</td>\n",
       "      <td>2000</td>\n",
       "      <td>2000</td>\n",
       "      <td>AFR</td>\n",
       "      <td>Africa</td>\n",
       "      <td>WB_LMI</td>\n",
       "      <td>Lower_middle_income</td>\n",
       "      <td>NGA</td>\n",
       "      <td>Nigeria</td>\n",
       "      <td>FMLE</td>\n",
       "      <td>Female</td>\n",
       "      <td>48</td>\n",
       "      <td>48.0</td>\n",
       "    </tr>\n",
       "    <tr>\n",
       "      <th>4</th>\n",
       "      <td>4</td>\n",
       "      <td>WHOSIS_000015</td>\n",
       "      <td>Life expectancy at age 60 (years)</td>\n",
       "      <td>PUBLISHED</td>\n",
       "      <td>Published</td>\n",
       "      <td>1990</td>\n",
       "      <td>1990</td>\n",
       "      <td>SEAR</td>\n",
       "      <td>South_East Asia</td>\n",
       "      <td>WB_LMI</td>\n",
       "      <td>Lower_middle_income</td>\n",
       "      <td>THA</td>\n",
       "      <td>Thailand</td>\n",
       "      <td>FMLE</td>\n",
       "      <td>Female</td>\n",
       "      <td>19</td>\n",
       "      <td>19.0</td>\n",
       "    </tr>\n",
       "  </tbody>\n",
       "</table>\n",
       "</div>"
      ]
     },
     "execution_count": 214,
     "metadata": {},
     "output_type": "execute_result"
    }
   ],
   "execution_count": 214
  },
  {
   "metadata": {
    "ExecuteTime": {
     "end_time": "2025-01-29T20:39:07.075681Z",
     "start_time": "2025-01-29T20:39:07.067191Z"
    }
   },
   "cell_type": "code",
   "source": "lifeexp.tail()",
   "outputs": [
    {
     "data": {
      "text/plain": [
       "      index        GhoCode                                       GhoDisplay  \\\n",
       "6403   6403  WHOSIS_000001                 Life expectancy at birth (years)   \n",
       "6404   6404  WHOSIS_000015                Life expectancy at age 60 (years)   \n",
       "6405   6405  WHOSIS_000001                 Life expectancy at birth (years)   \n",
       "6406   6406  WHOSIS_000002  Healthy life expectancy (HALE) at birth (years)   \n",
       "6407   6407  WHOSIS_000001                 Life expectancy at birth (years)   \n",
       "\n",
       "     PublishStateCode PublishStateDisplay  YearCode  YearDisplay RegionCode  \\\n",
       "6403        PUBLISHED           Published      2000         2000        EMR   \n",
       "6404        PUBLISHED           Published      1990         1990        WPR   \n",
       "6405        PUBLISHED           Published      1990         1990        AFR   \n",
       "6406        PUBLISHED           Published      2012         2012        EUR   \n",
       "6407        PUBLISHED           Published      2013         2013        EUR   \n",
       "\n",
       "              RegionDisplay WorldBankIncomeGroupGroupCode  \\\n",
       "6403  Eastern Mediterranean                        WB_LMI   \n",
       "6404        Western Pacific                        WB_UMI   \n",
       "6405                 Africa                         WB_LI   \n",
       "6406                 Europe                        WB_LMI   \n",
       "6407                 Europe                           NaN   \n",
       "\n",
       "     WorldBankIncomeGroupDisplay CountryCode CountryDisplay SexCode  \\\n",
       "6403         Lower_middle_income         MAR        Morocco    BTSX   \n",
       "6404         Upper_middle_income         PLW          Palau    BTSX   \n",
       "6405                  Low_income         BFA   Burkina Faso    FMLE   \n",
       "6406         Lower_middle_income         ALB        Albania     MLE   \n",
       "6407                         NaN         ARM        Armenia    BTSX   \n",
       "\n",
       "      SexDisplay  DisplayValue   Numeric  \n",
       "6403  Both sexes            68  68.00000  \n",
       "6404  Both sexes            16  16.00000  \n",
       "6405      Female            51  51.00000  \n",
       "6406        Male            64  63.50000  \n",
       "6407  Both sexes            71  71.02699  "
      ],
      "text/html": [
       "<div>\n",
       "<style scoped>\n",
       "    .dataframe tbody tr th:only-of-type {\n",
       "        vertical-align: middle;\n",
       "    }\n",
       "\n",
       "    .dataframe tbody tr th {\n",
       "        vertical-align: top;\n",
       "    }\n",
       "\n",
       "    .dataframe thead th {\n",
       "        text-align: right;\n",
       "    }\n",
       "</style>\n",
       "<table border=\"1\" class=\"dataframe\">\n",
       "  <thead>\n",
       "    <tr style=\"text-align: right;\">\n",
       "      <th></th>\n",
       "      <th>index</th>\n",
       "      <th>GhoCode</th>\n",
       "      <th>GhoDisplay</th>\n",
       "      <th>PublishStateCode</th>\n",
       "      <th>PublishStateDisplay</th>\n",
       "      <th>YearCode</th>\n",
       "      <th>YearDisplay</th>\n",
       "      <th>RegionCode</th>\n",
       "      <th>RegionDisplay</th>\n",
       "      <th>WorldBankIncomeGroupGroupCode</th>\n",
       "      <th>WorldBankIncomeGroupDisplay</th>\n",
       "      <th>CountryCode</th>\n",
       "      <th>CountryDisplay</th>\n",
       "      <th>SexCode</th>\n",
       "      <th>SexDisplay</th>\n",
       "      <th>DisplayValue</th>\n",
       "      <th>Numeric</th>\n",
       "    </tr>\n",
       "  </thead>\n",
       "  <tbody>\n",
       "    <tr>\n",
       "      <th>6403</th>\n",
       "      <td>6403</td>\n",
       "      <td>WHOSIS_000001</td>\n",
       "      <td>Life expectancy at birth (years)</td>\n",
       "      <td>PUBLISHED</td>\n",
       "      <td>Published</td>\n",
       "      <td>2000</td>\n",
       "      <td>2000</td>\n",
       "      <td>EMR</td>\n",
       "      <td>Eastern Mediterranean</td>\n",
       "      <td>WB_LMI</td>\n",
       "      <td>Lower_middle_income</td>\n",
       "      <td>MAR</td>\n",
       "      <td>Morocco</td>\n",
       "      <td>BTSX</td>\n",
       "      <td>Both sexes</td>\n",
       "      <td>68</td>\n",
       "      <td>68.00000</td>\n",
       "    </tr>\n",
       "    <tr>\n",
       "      <th>6404</th>\n",
       "      <td>6404</td>\n",
       "      <td>WHOSIS_000015</td>\n",
       "      <td>Life expectancy at age 60 (years)</td>\n",
       "      <td>PUBLISHED</td>\n",
       "      <td>Published</td>\n",
       "      <td>1990</td>\n",
       "      <td>1990</td>\n",
       "      <td>WPR</td>\n",
       "      <td>Western Pacific</td>\n",
       "      <td>WB_UMI</td>\n",
       "      <td>Upper_middle_income</td>\n",
       "      <td>PLW</td>\n",
       "      <td>Palau</td>\n",
       "      <td>BTSX</td>\n",
       "      <td>Both sexes</td>\n",
       "      <td>16</td>\n",
       "      <td>16.00000</td>\n",
       "    </tr>\n",
       "    <tr>\n",
       "      <th>6405</th>\n",
       "      <td>6405</td>\n",
       "      <td>WHOSIS_000001</td>\n",
       "      <td>Life expectancy at birth (years)</td>\n",
       "      <td>PUBLISHED</td>\n",
       "      <td>Published</td>\n",
       "      <td>1990</td>\n",
       "      <td>1990</td>\n",
       "      <td>AFR</td>\n",
       "      <td>Africa</td>\n",
       "      <td>WB_LI</td>\n",
       "      <td>Low_income</td>\n",
       "      <td>BFA</td>\n",
       "      <td>Burkina Faso</td>\n",
       "      <td>FMLE</td>\n",
       "      <td>Female</td>\n",
       "      <td>51</td>\n",
       "      <td>51.00000</td>\n",
       "    </tr>\n",
       "    <tr>\n",
       "      <th>6406</th>\n",
       "      <td>6406</td>\n",
       "      <td>WHOSIS_000002</td>\n",
       "      <td>Healthy life expectancy (HALE) at birth (years)</td>\n",
       "      <td>PUBLISHED</td>\n",
       "      <td>Published</td>\n",
       "      <td>2012</td>\n",
       "      <td>2012</td>\n",
       "      <td>EUR</td>\n",
       "      <td>Europe</td>\n",
       "      <td>WB_LMI</td>\n",
       "      <td>Lower_middle_income</td>\n",
       "      <td>ALB</td>\n",
       "      <td>Albania</td>\n",
       "      <td>MLE</td>\n",
       "      <td>Male</td>\n",
       "      <td>64</td>\n",
       "      <td>63.50000</td>\n",
       "    </tr>\n",
       "    <tr>\n",
       "      <th>6407</th>\n",
       "      <td>6407</td>\n",
       "      <td>WHOSIS_000001</td>\n",
       "      <td>Life expectancy at birth (years)</td>\n",
       "      <td>PUBLISHED</td>\n",
       "      <td>Published</td>\n",
       "      <td>2013</td>\n",
       "      <td>2013</td>\n",
       "      <td>EUR</td>\n",
       "      <td>Europe</td>\n",
       "      <td>NaN</td>\n",
       "      <td>NaN</td>\n",
       "      <td>ARM</td>\n",
       "      <td>Armenia</td>\n",
       "      <td>BTSX</td>\n",
       "      <td>Both sexes</td>\n",
       "      <td>71</td>\n",
       "      <td>71.02699</td>\n",
       "    </tr>\n",
       "  </tbody>\n",
       "</table>\n",
       "</div>"
      ]
     },
     "execution_count": 215,
     "metadata": {},
     "output_type": "execute_result"
    }
   ],
   "execution_count": 215
  },
  {
   "metadata": {},
   "cell_type": "markdown",
   "source": "Видим, что из 17 признаков существенных сильно меньше: тут есть индекс, и для качественных признаков созданы еще дополнительно коды - сокращенные названия"
  },
  {
   "metadata": {
    "ExecuteTime": {
     "end_time": "2025-01-29T20:39:07.263224Z",
     "start_time": "2025-01-29T20:39:07.259193Z"
    }
   },
   "cell_type": "code",
   "source": "drinks['country'].nunique()",
   "outputs": [
    {
     "data": {
      "text/plain": [
       "193"
      ]
     },
     "execution_count": 216,
     "metadata": {},
     "output_type": "execute_result"
    }
   ],
   "execution_count": 216
  },
  {
   "metadata": {},
   "cell_type": "markdown",
   "source": "вспоминая, что в напитках всего 193 строки, можно убедиться в том, что для каждой страны в данном датасете ровно одно наблюдение"
  },
  {
   "metadata": {
    "ExecuteTime": {
     "end_time": "2025-01-29T20:39:07.417441Z",
     "start_time": "2025-01-29T20:39:07.411595Z"
    }
   },
   "cell_type": "code",
   "source": "lifeexp['CountryDisplay'].nunique()",
   "outputs": [
    {
     "data": {
      "text/plain": [
       "194"
      ]
     },
     "execution_count": 217,
     "metadata": {},
     "output_type": "execute_result"
    }
   ],
   "execution_count": 217
  },
  {
   "cell_type": "markdown",
   "source": [
    "### 2"
   ],
   "metadata": {
    "id": "8f1_cl1Ojg9r"
   }
  },
  {
   "cell_type": "markdown",
   "source": [
    "Для каждого признака в рассматриваемых данных укажите вид этого признака и кратко обоснуйте, почему вид именно такой."
   ],
   "metadata": {
    "id": "hOXMwdDGlAaa"
   }
  },
  {
   "cell_type": "markdown",
   "source": [
    "## lifeexpectancy\n",
    "- GhoDisplay: Категориальный. Текстовые данные, классифицирующие тип статьи\n",
    "- YearDisplay: Вещественный. Не временной ряд, так как в данных нет четкой временной линии от определенного года к определенному году, то есть нет никакой тенденции.\n",
    "- RegionDisplay: Категориальный. Континент\n",
    "- CountryDisplay: Категориальный. Страна\n",
    "- SexDisplay: Категориальный.Не бинарный, так как, по мимо двух полов, есть еще строки, в которых встречается \"Both sexes\".\n",
    "- Numeric: Вещественный. Продолжительность жизни\n",
    "\n",
    "## drinks\n",
    "- country: Категориальный. Текстовое наименование страны\n",
    "- beer_servings: Числовой (int). Количество порций пива на человека\n",
    "- spirit_servings: Числовой (int). Количество порций крепкого алкоголя на человека\n",
    "- wine_servings: Числовой (int). Количество порций вина на человека\n",
    "- total_litres_of_pure_alcohol: Числовой (int). Суммарное количество литров алкоголя на человека"
   ],
   "metadata": {
    "id": "2einwDe8lVry"
   }
  },
  {
   "cell_type": "markdown",
   "source": [
    "### 3"
   ],
   "metadata": {
    "id": "FxJDNYhMljdc"
   }
  },
  {
   "cell_type": "markdown",
   "source": [
    "Внимательно изучите признаки обеих таблиц. Как вы считаете, какая из таблиц является главной (а какая сопутствующей)? Почему вы так думаете?\n",
    "\n",
    "Какой признак может представлять существенный интерес для исследования и являться целевой переменной в рамках представленного датасета? Ответ обоснуйте.\n",
    "\n",
    "***Бонус (1 бон. балл):*** Попробуйте описать задачу машинного обучения, которую вы могли бы решать для данного датасета с учетом выбранной вами раннее целевой переменной и проблематики исследования. Подробнее про постановку и формализацию задач машинного обучения, а также про различные типы таких задач — вы можете прочитать, например, вот в этой [статье](https://habr.com/ru/company/simbirsoft/blog/565396/) (в начале)"
   ],
   "metadata": {
    "id": "UVDua9fQllw6"
   }
  },
  {
   "cell_type": "markdown",
   "source": [
    "- Главной является таблица, содержащая данные о продолжительности жизни, так как в таблице, содержащей данные о потреблении алкоголя каждая строка уникальна и соответствует определенной стране (то есть в ней уже есть аггрегированные данные по странам).А в таблице, содержащей данные о продолжительности жизни, по каждой стране есть разная информация из разных статей и о разных полах.\n",
    "- Целевой переменной в данном датасете является переменная \"Numeric\", которая отображает данные о продолжительности жизни в разных странах в разное время, так как именно по этому признаку будет определяться зависимость от объемов потребляемого алкоголя.\n",
    "- Задачу МО для данной целевой переменной можно описать примерно так: прогнозирование продолжительности жизни на основе данных из двух таблиц: beer_servings, spirit_servings, wine_servings, total_litres_of_pure_alcohol, CountryDisplay и SexDisplay. Это будет являться задачей регрессии (тк предиктим число)."
   ],
   "metadata": {
    "id": "2hrANQDyFYAK"
   }
  },
  {
   "cell_type": "markdown",
   "metadata": {
    "id": "w4CScFwLZKgg"
   },
   "source": [
    "### 4"
   ]
  },
  {
   "cell_type": "markdown",
   "metadata": {
    "id": "eQLEQXd-ZKgg"
   },
   "source": [
    "Какова доля статей о продолжительности жизни в Африке? Какова доля статей о продолжительности жизни мужчин и доля статей о продолжительности жизни женщин среди всех статей по Африке?\n",
    "\n",
    "***Бонус (2 бон. балла):*** Сравните эти доли с аналогичными долями по другим регионам. Как вы можете объяснить возникающие сходства и различия? Прокомментируйте полученные результаты."
   ]
  },
  {
   "cell_type": "code",
   "metadata": {
    "collapsed": true,
    "id": "-uzVP9fTZKgg",
    "ExecuteTime": {
     "end_time": "2025-01-29T20:39:07.554277Z",
     "start_time": "2025-01-29T20:39:07.548082Z"
    }
   },
   "source": "lifeexp.RegionDisplay.value_counts() / 6408 * 100",
   "outputs": [
    {
     "data": {
      "text/plain": [
       "RegionDisplay\n",
       "Europe                   27.294007\n",
       "Africa                   23.782772\n",
       "Americas                 18.024345\n",
       "Western Pacific          13.904494\n",
       "Eastern Mediterranean    11.329588\n",
       "South_East Asia           5.664794\n",
       "Name: count, dtype: float64"
      ]
     },
     "execution_count": 218,
     "metadata": {},
     "output_type": "execute_result"
    }
   ],
   "execution_count": 218
  },
  {
   "metadata": {},
   "cell_type": "markdown",
   "source": "Доля статей о продолжительности жизни в Африке составляет примерно 24%"
  },
  {
   "metadata": {
    "ExecuteTime": {
     "end_time": "2025-01-29T20:39:07.758061Z",
     "start_time": "2025-01-29T20:39:07.751678Z"
    }
   },
   "cell_type": "code",
   "source": "lifeexp[lifeexp['RegionDisplay'] == 'Africa']['SexDisplay'].value_counts()",
   "outputs": [
    {
     "data": {
      "text/plain": [
       "SexDisplay\n",
       "Female        508\n",
       "Both sexes    508\n",
       "Male          508\n",
       "Name: count, dtype: int64"
      ]
     },
     "execution_count": 219,
     "metadata": {},
     "output_type": "execute_result"
    }
   ],
   "execution_count": 219
  },
  {
   "metadata": {},
   "cell_type": "markdown",
   "source": "Как мы можем видеть, в Африке доли статей о мужчинах и женщинах равны между собой, также еще есть доля статей, в которых упоминаются оба пола, и она такая же, как у статей только про мужчин или женщин. В связи с этим, можно сказать, что доли статей о мужчинах и женщинах по отдельности равны **33.3%**"
  },
  {
   "metadata": {
    "ExecuteTime": {
     "end_time": "2025-01-29T20:39:07.849556Z",
     "start_time": "2025-01-29T20:39:07.839557Z"
    }
   },
   "cell_type": "code",
   "source": "lifeexp.pivot_table(index='RegionDisplay', columns='SexDisplay', aggfunc='size')",
   "outputs": [
    {
     "data": {
      "text/plain": [
       "SexDisplay             Both sexes  Female  Male\n",
       "RegionDisplay                                  \n",
       "Africa                        508     508   508\n",
       "Americas                      385     385   385\n",
       "Eastern Mediterranean         242     242   242\n",
       "Europe                        583     583   583\n",
       "South_East Asia               121     121   121\n",
       "Western Pacific               297     297   297"
      ],
      "text/html": [
       "<div>\n",
       "<style scoped>\n",
       "    .dataframe tbody tr th:only-of-type {\n",
       "        vertical-align: middle;\n",
       "    }\n",
       "\n",
       "    .dataframe tbody tr th {\n",
       "        vertical-align: top;\n",
       "    }\n",
       "\n",
       "    .dataframe thead th {\n",
       "        text-align: right;\n",
       "    }\n",
       "</style>\n",
       "<table border=\"1\" class=\"dataframe\">\n",
       "  <thead>\n",
       "    <tr style=\"text-align: right;\">\n",
       "      <th>SexDisplay</th>\n",
       "      <th>Both sexes</th>\n",
       "      <th>Female</th>\n",
       "      <th>Male</th>\n",
       "    </tr>\n",
       "    <tr>\n",
       "      <th>RegionDisplay</th>\n",
       "      <th></th>\n",
       "      <th></th>\n",
       "      <th></th>\n",
       "    </tr>\n",
       "  </thead>\n",
       "  <tbody>\n",
       "    <tr>\n",
       "      <th>Africa</th>\n",
       "      <td>508</td>\n",
       "      <td>508</td>\n",
       "      <td>508</td>\n",
       "    </tr>\n",
       "    <tr>\n",
       "      <th>Americas</th>\n",
       "      <td>385</td>\n",
       "      <td>385</td>\n",
       "      <td>385</td>\n",
       "    </tr>\n",
       "    <tr>\n",
       "      <th>Eastern Mediterranean</th>\n",
       "      <td>242</td>\n",
       "      <td>242</td>\n",
       "      <td>242</td>\n",
       "    </tr>\n",
       "    <tr>\n",
       "      <th>Europe</th>\n",
       "      <td>583</td>\n",
       "      <td>583</td>\n",
       "      <td>583</td>\n",
       "    </tr>\n",
       "    <tr>\n",
       "      <th>South_East Asia</th>\n",
       "      <td>121</td>\n",
       "      <td>121</td>\n",
       "      <td>121</td>\n",
       "    </tr>\n",
       "    <tr>\n",
       "      <th>Western Pacific</th>\n",
       "      <td>297</td>\n",
       "      <td>297</td>\n",
       "      <td>297</td>\n",
       "    </tr>\n",
       "  </tbody>\n",
       "</table>\n",
       "</div>"
      ]
     },
     "execution_count": 220,
     "metadata": {},
     "output_type": "execute_result"
    }
   ],
   "execution_count": 220
  },
  {
   "metadata": {},
   "cell_type": "markdown",
   "source": [
    "Такую же ситуацию, как с Африкой, мы наблюдаем и с другими частями света, везде доли статей распределены одинаково и равны 33.3% от общего кол-ва статей внутри региона.\n",
    "Мы наблюдаем одинаковое кол-во статей о женщинах, о мужчинах и об обоих полах в совокупности, поскольку по стандартам сбора данных необходимо равномерное распределение внимания к продолжительности жизни обоих полов в рамках региона.\n",
    "Различия в виде разного объема данных, собранных в разных регионах, может объясняться доступностью информации в этих регионах. Совершенно логично, что данных по Европе собрано больше, чем по, к примеру, Южно-Восточной Азии, так как в Европе гораздо больше развита медицина и доступность данных."
   ]
  },
  {
   "cell_type": "markdown",
   "metadata": {
    "id": "3Y8ILyzlZKgg"
   },
   "source": [
    "### 5"
   ]
  },
  {
   "cell_type": "markdown",
   "metadata": {
    "id": "nEfsxhQUZKgg"
   },
   "source": [
    "Сколько всего существует видов статей с точки зрения оцениваемого параметра продолжительности жизни? Какой из этих видов статей самый популярный (написано наибольшее количество научных работ)? В рамках найденного вами самого популярного вида статей проведите сравнение, относительно какой из половых групп: мужчины, женщины или же оба пола — статей в нем было больше всего?"
   ]
  },
  {
   "cell_type": "code",
   "metadata": {
    "collapsed": true,
    "id": "kQVTfRKFZKgg",
    "ExecuteTime": {
     "end_time": "2025-01-29T20:39:07.950787Z",
     "start_time": "2025-01-29T20:39:07.944512Z"
    }
   },
   "source": "lifeexp.GhoDisplay.unique()",
   "outputs": [
    {
     "data": {
      "text/plain": [
       "array(['Life expectancy at birth (years)',\n",
       "       'Healthy life expectancy (HALE) at birth (years)',\n",
       "       'Life expectancy at age 60 (years)'], dtype=object)"
      ]
     },
     "execution_count": 221,
     "metadata": {},
     "output_type": "execute_result"
    }
   ],
   "execution_count": 221
  },
  {
   "metadata": {},
   "cell_type": "markdown",
   "source": "В датасете есть всего 3 вида статей: Life expectancy at birth (years), Healthy life expectancy (HALE) at birth (years), Life expectancy at age 60 (years)"
  },
  {
   "metadata": {
    "ExecuteTime": {
     "end_time": "2025-01-29T20:39:08.086227Z",
     "start_time": "2025-01-29T20:39:08.081009Z"
    }
   },
   "cell_type": "code",
   "source": "lifeexp.GhoDisplay.value_counts()",
   "outputs": [
    {
     "data": {
      "text/plain": [
       "GhoDisplay\n",
       "Life expectancy at birth (years)                   2328\n",
       "Life expectancy at age 60 (years)                  2328\n",
       "Healthy life expectancy (HALE) at birth (years)    1752\n",
       "Name: count, dtype: int64"
      ]
     },
     "execution_count": 222,
     "metadata": {},
     "output_type": "execute_result"
    }
   ],
   "execution_count": 222
  },
  {
   "metadata": {},
   "cell_type": "markdown",
   "source": "Мы видим, что наиболее популярных видов статей два: Life expectancy at birth (years), Life expectancy at age 60 (years), по каждому из них написано по 2328 статей."
  },
  {
   "metadata": {
    "ExecuteTime": {
     "end_time": "2025-01-29T20:39:08.197844Z",
     "start_time": "2025-01-29T20:39:08.189940Z"
    }
   },
   "cell_type": "code",
   "source": "lifeexp[lifeexp['GhoDisplay'] == 'Life expectancy at birth (years)']['SexDisplay'].value_counts()",
   "outputs": [
    {
     "data": {
      "text/plain": [
       "SexDisplay\n",
       "Male          776\n",
       "Both sexes    776\n",
       "Female        776\n",
       "Name: count, dtype: int64"
      ]
     },
     "execution_count": 223,
     "metadata": {},
     "output_type": "execute_result"
    }
   ],
   "execution_count": 223
  },
  {
   "metadata": {
    "ExecuteTime": {
     "end_time": "2025-01-29T20:39:08.328678Z",
     "start_time": "2025-01-29T20:39:08.321687Z"
    }
   },
   "cell_type": "code",
   "source": "lifeexp[lifeexp['GhoDisplay'] == 'Life expectancy at age 60 (years)']['SexDisplay'].value_counts()",
   "outputs": [
    {
     "data": {
      "text/plain": [
       "SexDisplay\n",
       "Female        776\n",
       "Both sexes    776\n",
       "Male          776\n",
       "Name: count, dtype: int64"
      ]
     },
     "execution_count": 224,
     "metadata": {},
     "output_type": "execute_result"
    }
   ],
   "execution_count": 224
  },
  {
   "metadata": {},
   "cell_type": "markdown",
   "source": "Мы можем заметить, что в разрезе самых популярных видов статей также написано одинаковое кол-во статей про мужчин, женщин и про оба пола в совокупности, что еще раз подтверждает мою гипотезу, выдвинутую в задании 4"
  },
  {
   "cell_type": "markdown",
   "metadata": {
    "id": "d9G-K_H0ZKgh"
   },
   "source": [
    "### 6"
   ]
  },
  {
   "cell_type": "markdown",
   "metadata": {
    "id": "gM69Tv9sZKgh"
   },
   "source": [
    "Выведите минимальную, среднюю, медианную и максимальную оцененную продолжительность жизни людей от рождения (life expectancy at birth). Выберите любые три страны на ваш вкус и проделайте то же самое только для статей по этим странам. Что можно сказать на основе результатов, которые вы получили?"
   ]
  },
  {
   "cell_type": "code",
   "metadata": {
    "collapsed": true,
    "id": "JNyWyX1pZKgh",
    "ExecuteTime": {
     "end_time": "2025-01-29T20:39:08.487256Z",
     "start_time": "2025-01-29T20:39:08.469369Z"
    }
   },
   "source": "lifeexp[lifeexp['GhoDisplay'] == 'Life expectancy at birth (years)']['Numeric'].describe()",
   "outputs": [
    {
     "data": {
      "text/plain": [
       "count    2328.000000\n",
       "mean       68.441379\n",
       "std        10.051907\n",
       "min        38.000000\n",
       "25%        62.000000\n",
       "50%        70.857895\n",
       "75%        76.000000\n",
       "max        87.154570\n",
       "Name: Numeric, dtype: float64"
      ]
     },
     "execution_count": 225,
     "metadata": {},
     "output_type": "execute_result"
    }
   ],
   "execution_count": 225
  },
  {
   "metadata": {},
   "cell_type": "markdown",
   "source": [
    "Среди статей и продолжительности жизни людей от рождения выявлены такие показатели, как:\n",
    "- Минимальная продолжительность жизни = 38 лет\n",
    "- Средняя продолжительность жизни = 68.44 лет\n",
    "- Медианная продолжительность жизни = 70.86 лет\n",
    "- Максимальная продолжительность жизни = 87 лет"
   ]
  },
  {
   "metadata": {
    "ExecuteTime": {
     "end_time": "2025-01-29T20:39:08.635976Z",
     "start_time": "2025-01-29T20:39:08.622977Z"
    }
   },
   "cell_type": "code",
   "source": [
    "lifeexp[(lifeexp['CountryDisplay'] == 'Germany') &\n",
    "     (lifeexp['GhoDisplay'] == 'Life expectancy at birth (years)')].groupby('CountryDisplay')['Numeric'].agg(['min', 'mean', 'median', 'max'])"
   ],
   "outputs": [
    {
     "data": {
      "text/plain": [
       "                 min       mean    median       max\n",
       "CountryDisplay                                     \n",
       "Germany         72.0  78.814174  78.77455  83.27878"
      ],
      "text/html": [
       "<div>\n",
       "<style scoped>\n",
       "    .dataframe tbody tr th:only-of-type {\n",
       "        vertical-align: middle;\n",
       "    }\n",
       "\n",
       "    .dataframe tbody tr th {\n",
       "        vertical-align: top;\n",
       "    }\n",
       "\n",
       "    .dataframe thead th {\n",
       "        text-align: right;\n",
       "    }\n",
       "</style>\n",
       "<table border=\"1\" class=\"dataframe\">\n",
       "  <thead>\n",
       "    <tr style=\"text-align: right;\">\n",
       "      <th></th>\n",
       "      <th>min</th>\n",
       "      <th>mean</th>\n",
       "      <th>median</th>\n",
       "      <th>max</th>\n",
       "    </tr>\n",
       "    <tr>\n",
       "      <th>CountryDisplay</th>\n",
       "      <th></th>\n",
       "      <th></th>\n",
       "      <th></th>\n",
       "      <th></th>\n",
       "    </tr>\n",
       "  </thead>\n",
       "  <tbody>\n",
       "    <tr>\n",
       "      <th>Germany</th>\n",
       "      <td>72.0</td>\n",
       "      <td>78.814174</td>\n",
       "      <td>78.77455</td>\n",
       "      <td>83.27878</td>\n",
       "    </tr>\n",
       "  </tbody>\n",
       "</table>\n",
       "</div>"
      ]
     },
     "execution_count": 226,
     "metadata": {},
     "output_type": "execute_result"
    }
   ],
   "execution_count": 226
  },
  {
   "metadata": {},
   "cell_type": "markdown",
   "source": [
    "Среди статей и продолжительности жизни людей от рождения **в Германии** выявлены такие показатели, как:\n",
    "\n",
    "- Минимальная продолжительность жизни = 72 года\n",
    "- Средняя продолжительность жизни = 78.81 лет\n",
    "- Медианная продолжительность жизни = 78.77 лет\n",
    "- Максимальная продолжительность жизни = 83.27 года"
   ]
  },
  {
   "metadata": {
    "ExecuteTime": {
     "end_time": "2025-01-29T20:39:08.752933Z",
     "start_time": "2025-01-29T20:39:08.741799Z"
    }
   },
   "cell_type": "code",
   "source": [
    "lifeexp[(lifeexp['CountryDisplay'] == 'USA') &\n",
    "     (lifeexp['GhoDisplay'] == 'Life expectancy at birth (years)')].groupby('CountryDisplay')['Numeric'].agg(['min', 'mean', 'median', 'max'])"
   ],
   "outputs": [
    {
     "data": {
      "text/plain": [
       "                 min       mean   median       max\n",
       "CountryDisplay                                    \n",
       "USA             72.0  77.443821  77.8973  81.13326"
      ],
      "text/html": [
       "<div>\n",
       "<style scoped>\n",
       "    .dataframe tbody tr th:only-of-type {\n",
       "        vertical-align: middle;\n",
       "    }\n",
       "\n",
       "    .dataframe tbody tr th {\n",
       "        vertical-align: top;\n",
       "    }\n",
       "\n",
       "    .dataframe thead th {\n",
       "        text-align: right;\n",
       "    }\n",
       "</style>\n",
       "<table border=\"1\" class=\"dataframe\">\n",
       "  <thead>\n",
       "    <tr style=\"text-align: right;\">\n",
       "      <th></th>\n",
       "      <th>min</th>\n",
       "      <th>mean</th>\n",
       "      <th>median</th>\n",
       "      <th>max</th>\n",
       "    </tr>\n",
       "    <tr>\n",
       "      <th>CountryDisplay</th>\n",
       "      <th></th>\n",
       "      <th></th>\n",
       "      <th></th>\n",
       "      <th></th>\n",
       "    </tr>\n",
       "  </thead>\n",
       "  <tbody>\n",
       "    <tr>\n",
       "      <th>USA</th>\n",
       "      <td>72.0</td>\n",
       "      <td>77.443821</td>\n",
       "      <td>77.8973</td>\n",
       "      <td>81.13326</td>\n",
       "    </tr>\n",
       "  </tbody>\n",
       "</table>\n",
       "</div>"
      ]
     },
     "execution_count": 227,
     "metadata": {},
     "output_type": "execute_result"
    }
   ],
   "execution_count": 227
  },
  {
   "metadata": {},
   "cell_type": "markdown",
   "source": [
    "Среди статей и продолжительности жизни людей от рождения **в США** выявлены такие показатели, как:\n",
    "\n",
    "- Минимальная продолжительность жизни = 72 года\n",
    "- Средняя продолжительность жизни = 77.44 лет\n",
    "- Медианная продолжительность жизни = 77.9 лет\n",
    "- Максимальная продолжительность жизни = 81 год"
   ]
  },
  {
   "metadata": {
    "ExecuteTime": {
     "end_time": "2025-01-29T20:39:08.862922Z",
     "start_time": "2025-01-29T20:39:08.853989Z"
    }
   },
   "cell_type": "code",
   "source": [
    "lifeexp[(lifeexp['CountryDisplay'] == 'Russian Federation') &\n",
    "     (lifeexp['GhoDisplay'] == 'Life expectancy at birth (years)')].groupby('CountryDisplay')['Numeric'].agg(['min', 'mean', 'median', 'max'])"
   ],
   "outputs": [
    {
     "data": {
      "text/plain": [
       "                     min       mean  median       max\n",
       "CountryDisplay                                       \n",
       "Russian Federation  59.0  68.078784    69.0  75.22597"
      ],
      "text/html": [
       "<div>\n",
       "<style scoped>\n",
       "    .dataframe tbody tr th:only-of-type {\n",
       "        vertical-align: middle;\n",
       "    }\n",
       "\n",
       "    .dataframe tbody tr th {\n",
       "        vertical-align: top;\n",
       "    }\n",
       "\n",
       "    .dataframe thead th {\n",
       "        text-align: right;\n",
       "    }\n",
       "</style>\n",
       "<table border=\"1\" class=\"dataframe\">\n",
       "  <thead>\n",
       "    <tr style=\"text-align: right;\">\n",
       "      <th></th>\n",
       "      <th>min</th>\n",
       "      <th>mean</th>\n",
       "      <th>median</th>\n",
       "      <th>max</th>\n",
       "    </tr>\n",
       "    <tr>\n",
       "      <th>CountryDisplay</th>\n",
       "      <th></th>\n",
       "      <th></th>\n",
       "      <th></th>\n",
       "      <th></th>\n",
       "    </tr>\n",
       "  </thead>\n",
       "  <tbody>\n",
       "    <tr>\n",
       "      <th>Russian Federation</th>\n",
       "      <td>59.0</td>\n",
       "      <td>68.078784</td>\n",
       "      <td>69.0</td>\n",
       "      <td>75.22597</td>\n",
       "    </tr>\n",
       "  </tbody>\n",
       "</table>\n",
       "</div>"
      ]
     },
     "execution_count": 228,
     "metadata": {},
     "output_type": "execute_result"
    }
   ],
   "execution_count": 228
  },
  {
   "metadata": {},
   "cell_type": "markdown",
   "source": [
    "Среди статей и продолжительности жизни людей от рождения **в России** выявлены такие показатели, как:\n",
    "\n",
    "- Минимальная продолжительность жизни = 59 лет\n",
    "- Средняя продолжительность жизни = 68 лет\n",
    "- Медианная продолжительность жизни = 69 лет\n",
    "- Максимальная продолжительность жизни = 75 лет"
   ]
  },
  {
   "cell_type": "markdown",
   "source": [
    "### 7\n",
    "\n",
    "Сформируйте результирующий датафрейм на основе проделанных вами действий в предыдущем номере. У датафрейма должно быть 4 столбца, в соответствии с заданными агреггирующими функциями: минимум, среднее, медиана, максимум, — а также 4 строки: статистика по всему датасету; статистика по трем выбранным вами странам. Сохраните программно созданный вами датафрейм в виде csv файла.\n",
    "\n",
    "*Примечание. Датафрейм необходимо создавать автоматизированным образом. Не допускается ручной перенос значений из полученных в предыдущем задании ячеек в пустой датафрейм и/или прописывание конкретных значений (чисел) в коде программы. Представьте, что у нас не 3 страны, а 100 и не 4 агреггирующих метрики, а 100!*"
   ],
   "metadata": {
    "id": "ZhzV-ygY0NI0"
   }
  },
  {
   "cell_type": "code",
   "source": [
    "full_stats = lifeexp['Numeric'].agg(['min', 'mean', 'median', 'max']).to_frame().T\n",
    "full_stats.index = ['Overall']\n",
    "\n",
    "favourite_countries = ['Germany', 'USA', 'Russian Federation']\n",
    "favourite_stats = lifeexp[(lifeexp['CountryDisplay'].isin(favourite_countries)) & (lifeexp['GhoDisplay'] == 'Life expectancy at birth (years)')].groupby('CountryDisplay')['Numeric'].agg(['min', 'mean', 'median', 'max'])\n",
    "\n",
    "res_df = pd.concat([full_stats, favourite_stats])\n",
    "\n",
    "res_df.to_csv('fav_contrs_and_ovrl.csv')\n",
    "res_df"
   ],
   "metadata": {
    "id": "kdVvSBfq0oUn",
    "ExecuteTime": {
     "end_time": "2025-01-29T20:39:08.983816Z",
     "start_time": "2025-01-29T20:39:08.969567Z"
    }
   },
   "outputs": [
    {
     "data": {
      "text/plain": [
       "                     min       mean    median       max\n",
       "Overall             11.0  48.145528  56.97971  87.15457\n",
       "Germany             72.0  78.814174  78.77455  83.27878\n",
       "Russian Federation  59.0  68.078784  69.00000  75.22597\n",
       "USA                 72.0  77.443821  77.89730  81.13326"
      ],
      "text/html": [
       "<div>\n",
       "<style scoped>\n",
       "    .dataframe tbody tr th:only-of-type {\n",
       "        vertical-align: middle;\n",
       "    }\n",
       "\n",
       "    .dataframe tbody tr th {\n",
       "        vertical-align: top;\n",
       "    }\n",
       "\n",
       "    .dataframe thead th {\n",
       "        text-align: right;\n",
       "    }\n",
       "</style>\n",
       "<table border=\"1\" class=\"dataframe\">\n",
       "  <thead>\n",
       "    <tr style=\"text-align: right;\">\n",
       "      <th></th>\n",
       "      <th>min</th>\n",
       "      <th>mean</th>\n",
       "      <th>median</th>\n",
       "      <th>max</th>\n",
       "    </tr>\n",
       "  </thead>\n",
       "  <tbody>\n",
       "    <tr>\n",
       "      <th>Overall</th>\n",
       "      <td>11.0</td>\n",
       "      <td>48.145528</td>\n",
       "      <td>56.97971</td>\n",
       "      <td>87.15457</td>\n",
       "    </tr>\n",
       "    <tr>\n",
       "      <th>Germany</th>\n",
       "      <td>72.0</td>\n",
       "      <td>78.814174</td>\n",
       "      <td>78.77455</td>\n",
       "      <td>83.27878</td>\n",
       "    </tr>\n",
       "    <tr>\n",
       "      <th>Russian Federation</th>\n",
       "      <td>59.0</td>\n",
       "      <td>68.078784</td>\n",
       "      <td>69.00000</td>\n",
       "      <td>75.22597</td>\n",
       "    </tr>\n",
       "    <tr>\n",
       "      <th>USA</th>\n",
       "      <td>72.0</td>\n",
       "      <td>77.443821</td>\n",
       "      <td>77.89730</td>\n",
       "      <td>81.13326</td>\n",
       "    </tr>\n",
       "  </tbody>\n",
       "</table>\n",
       "</div>"
      ]
     },
     "execution_count": 229,
     "metadata": {},
     "output_type": "execute_result"
    }
   ],
   "execution_count": 229
  },
  {
   "cell_type": "markdown",
   "metadata": {
    "id": "L5KAIFPBZKgi"
   },
   "source": [
    "### 8"
   ]
  },
  {
   "cell_type": "markdown",
   "metadata": {
    "id": "Tv3QepvHZKgi"
   },
   "source": [
    "Есть ли в наших датасетах пропуски? Если да, то в каких столбцах? Сколько пропусков в каждом из них?\n",
    "\n",
    "Подумайте, как стоит избавиться от пропусков в каждом из столбцов, и сделайте это. Аргументируйте ваши действия.\n",
    "\n",
    "Проверьте, что пропусков нигде не осталось.\n",
    "\n",
    "*Примечание. Не забудьте сохранить все изменения! В последующих заданиях вы должны работать с уже обновленными датасетами.*"
   ]
  },
  {
   "cell_type": "code",
   "metadata": {
    "collapsed": true,
    "id": "wgP23TD3ZKgi",
    "ExecuteTime": {
     "end_time": "2025-01-29T20:39:09.143494Z",
     "start_time": "2025-01-29T20:39:09.135599Z"
    }
   },
   "source": "lifeexp.isnull().sum()",
   "outputs": [
    {
     "data": {
      "text/plain": [
       "index                               0\n",
       "GhoCode                             0\n",
       "GhoDisplay                          0\n",
       "PublishStateCode                    0\n",
       "PublishStateDisplay                 0\n",
       "YearCode                            0\n",
       "YearDisplay                         0\n",
       "RegionCode                          0\n",
       "RegionDisplay                       0\n",
       "WorldBankIncomeGroupGroupCode    1164\n",
       "WorldBankIncomeGroupDisplay      1164\n",
       "CountryCode                         0\n",
       "CountryDisplay                      0\n",
       "SexCode                             0\n",
       "SexDisplay                          0\n",
       "DisplayValue                        0\n",
       "Numeric                             0\n",
       "dtype: int64"
      ]
     },
     "execution_count": 230,
     "metadata": {},
     "output_type": "execute_result"
    }
   ],
   "execution_count": 230
  },
  {
   "metadata": {},
   "cell_type": "markdown",
   "source": [
    "В нашем датасете пропуски встретились только в двух столбцах, которые по смыслу одинаковые. Поэтому можно сказать, что всего у нас 1164 пропуска.\n",
    "\n",
    "Так как основная цель нашего анализа заключается в поиске зависимостей между продолжительностью жизни и объемами потребляемого алкоголя, переменная, отвечающая за уровень дохода имеет, так сказать, второстепенную важность. Поэтому наличие пустых значений именно в этих столбцах не вынуждает нас удалять строки, где есть пустые значения. В связи со всем вышесказанным мы можем не запариваться и просто **заменить пустые значения на \"Unknown\"**. (если бы данный признак был одним из ключевых, то, конечно же, во избежание искажения данных мы бы заменяли пустые значения медианным значением или модой)"
   ]
  },
  {
   "metadata": {
    "ExecuteTime": {
     "end_time": "2025-01-29T20:39:09.441365Z",
     "start_time": "2025-01-29T20:39:09.436362Z"
    }
   },
   "cell_type": "code",
   "source": [
    "lifeexp['WorldBankIncomeGroupGroupCode'].fillna('Unknown', inplace=True)\n",
    "lifeexp['WorldBankIncomeGroupDisplay'].fillna('Unknown', inplace=True)"
   ],
   "outputs": [
    {
     "name": "stderr",
     "output_type": "stream",
     "text": [
      "C:\\Users\\D\\AppData\\Local\\Temp\\ipykernel_13616\\1174964139.py:1: FutureWarning: A value is trying to be set on a copy of a DataFrame or Series through chained assignment using an inplace method.\n",
      "The behavior will change in pandas 3.0. This inplace method will never work because the intermediate object on which we are setting values always behaves as a copy.\n",
      "\n",
      "For example, when doing 'df[col].method(value, inplace=True)', try using 'df.method({col: value}, inplace=True)' or df[col] = df[col].method(value) instead, to perform the operation inplace on the original object.\n",
      "\n",
      "\n",
      "  lifeexp['WorldBankIncomeGroupGroupCode'].fillna('Unknown', inplace=True)\n",
      "C:\\Users\\D\\AppData\\Local\\Temp\\ipykernel_13616\\1174964139.py:2: FutureWarning: A value is trying to be set on a copy of a DataFrame or Series through chained assignment using an inplace method.\n",
      "The behavior will change in pandas 3.0. This inplace method will never work because the intermediate object on which we are setting values always behaves as a copy.\n",
      "\n",
      "For example, when doing 'df[col].method(value, inplace=True)', try using 'df.method({col: value}, inplace=True)' or df[col] = df[col].method(value) instead, to perform the operation inplace on the original object.\n",
      "\n",
      "\n",
      "  lifeexp['WorldBankIncomeGroupDisplay'].fillna('Unknown', inplace=True)\n"
     ]
    }
   ],
   "execution_count": 231
  },
  {
   "metadata": {
    "ExecuteTime": {
     "end_time": "2025-01-29T20:39:09.596213Z",
     "start_time": "2025-01-29T20:39:09.588805Z"
    }
   },
   "cell_type": "code",
   "source": "lifeexp.isnull().sum().sum()",
   "outputs": [
    {
     "data": {
      "text/plain": [
       "np.int64(0)"
      ]
     },
     "execution_count": 232,
     "metadata": {},
     "output_type": "execute_result"
    }
   ],
   "execution_count": 232
  },
  {
   "metadata": {},
   "cell_type": "markdown",
   "source": "Видим, что пропусков действительно не осталось"
  },
  {
   "cell_type": "markdown",
   "metadata": {
    "id": "VQ_ocDkOZKgh"
   },
   "source": [
    "### 9"
   ]
  },
  {
   "cell_type": "markdown",
   "metadata": {
    "id": "Z92wE5uJZKgh"
   },
   "source": [
    "Все ли признаки несут в себе полезную информацию? Почему вы так считаете? Избавьтесь от ненужных столбцов. Свой выбор аргументируйте\n",
    "\n",
    "*Примечание. Не забудьте сохранить все изменения! В последующих заданиях вы должны работать с уже обновленными датасетами.*"
   ]
  },
  {
   "cell_type": "code",
   "metadata": {
    "collapsed": true,
    "id": "f79iiwhuZKgh",
    "ExecuteTime": {
     "end_time": "2025-01-29T20:39:09.667675Z",
     "start_time": "2025-01-29T20:39:09.663198Z"
    }
   },
   "source": [
    "columns_to_drop = ['GhoCode', 'PublishStateCode', 'YearCode', 'RegionCode', 'WorldBankIncomeGroupGroupCode', 'CountryCode', 'SexCode', 'PublishStateDisplay', 'DisplayValue', 'YearDisplay', 'WorldBankIncomeGroupDisplay']\n",
    "lifeexp = lifeexp.drop(columns=columns_to_drop)"
   ],
   "outputs": [],
   "execution_count": 233
  },
  {
   "metadata": {},
   "cell_type": "markdown",
   "source": [
    "- GhoCode, PublishStateCode, YearCode, RegionCode, WorldBankIncomeGroupGroupCode, CountryCode, SexCode: эти столбцы являются кодовыми значениями данных представленных в соответствующих столбцах Display и дублируют информацию.\n",
    "- Статус публикации абсолютно неважен в рамках цели нашего исследования\n",
    "- DisplayValue - целая часть от представленных значений в столбце Numeric. Для получения наиболее точных ответов стоит учитывать значения продолжительности жизни, учитывая дробную часть.\n",
    "- YearDisplay в рамках цели нашего анализа не требуется учитывать год, в который была опубликована статья\n",
    "- WorldBankIncomeGroupDisplay в рамках нашего анализа не требуется учитывать уровень дохода населения в странах"
   ]
  },
  {
   "metadata": {
    "ExecuteTime": {
     "end_time": "2025-01-29T20:39:09.755712Z",
     "start_time": "2025-01-29T20:39:09.748710Z"
    }
   },
   "cell_type": "code",
   "source": "lifeexp",
   "outputs": [
    {
     "data": {
      "text/plain": [
       "      index                                       GhoDisplay  \\\n",
       "0         0                 Life expectancy at birth (years)   \n",
       "1         1  Healthy life expectancy (HALE) at birth (years)   \n",
       "2         2                 Life expectancy at birth (years)   \n",
       "3         3                 Life expectancy at birth (years)   \n",
       "4         4                Life expectancy at age 60 (years)   \n",
       "...     ...                                              ...   \n",
       "6403   6403                 Life expectancy at birth (years)   \n",
       "6404   6404                Life expectancy at age 60 (years)   \n",
       "6405   6405                 Life expectancy at birth (years)   \n",
       "6406   6406  Healthy life expectancy (HALE) at birth (years)   \n",
       "6407   6407                 Life expectancy at birth (years)   \n",
       "\n",
       "              RegionDisplay CountryDisplay  SexDisplay   Numeric  \n",
       "0                  Americas      Nicaragua        Male  68.00000  \n",
       "1                    Europe        Ireland        Male  69.30000  \n",
       "2     Eastern Mediterranean          Yemen  Both sexes  61.00000  \n",
       "3                    Africa        Nigeria      Female  48.00000  \n",
       "4           South_East Asia       Thailand      Female  19.00000  \n",
       "...                     ...            ...         ...       ...  \n",
       "6403  Eastern Mediterranean        Morocco  Both sexes  68.00000  \n",
       "6404        Western Pacific          Palau  Both sexes  16.00000  \n",
       "6405                 Africa   Burkina Faso      Female  51.00000  \n",
       "6406                 Europe        Albania        Male  63.50000  \n",
       "6407                 Europe        Armenia  Both sexes  71.02699  \n",
       "\n",
       "[6408 rows x 6 columns]"
      ],
      "text/html": [
       "<div>\n",
       "<style scoped>\n",
       "    .dataframe tbody tr th:only-of-type {\n",
       "        vertical-align: middle;\n",
       "    }\n",
       "\n",
       "    .dataframe tbody tr th {\n",
       "        vertical-align: top;\n",
       "    }\n",
       "\n",
       "    .dataframe thead th {\n",
       "        text-align: right;\n",
       "    }\n",
       "</style>\n",
       "<table border=\"1\" class=\"dataframe\">\n",
       "  <thead>\n",
       "    <tr style=\"text-align: right;\">\n",
       "      <th></th>\n",
       "      <th>index</th>\n",
       "      <th>GhoDisplay</th>\n",
       "      <th>RegionDisplay</th>\n",
       "      <th>CountryDisplay</th>\n",
       "      <th>SexDisplay</th>\n",
       "      <th>Numeric</th>\n",
       "    </tr>\n",
       "  </thead>\n",
       "  <tbody>\n",
       "    <tr>\n",
       "      <th>0</th>\n",
       "      <td>0</td>\n",
       "      <td>Life expectancy at birth (years)</td>\n",
       "      <td>Americas</td>\n",
       "      <td>Nicaragua</td>\n",
       "      <td>Male</td>\n",
       "      <td>68.00000</td>\n",
       "    </tr>\n",
       "    <tr>\n",
       "      <th>1</th>\n",
       "      <td>1</td>\n",
       "      <td>Healthy life expectancy (HALE) at birth (years)</td>\n",
       "      <td>Europe</td>\n",
       "      <td>Ireland</td>\n",
       "      <td>Male</td>\n",
       "      <td>69.30000</td>\n",
       "    </tr>\n",
       "    <tr>\n",
       "      <th>2</th>\n",
       "      <td>2</td>\n",
       "      <td>Life expectancy at birth (years)</td>\n",
       "      <td>Eastern Mediterranean</td>\n",
       "      <td>Yemen</td>\n",
       "      <td>Both sexes</td>\n",
       "      <td>61.00000</td>\n",
       "    </tr>\n",
       "    <tr>\n",
       "      <th>3</th>\n",
       "      <td>3</td>\n",
       "      <td>Life expectancy at birth (years)</td>\n",
       "      <td>Africa</td>\n",
       "      <td>Nigeria</td>\n",
       "      <td>Female</td>\n",
       "      <td>48.00000</td>\n",
       "    </tr>\n",
       "    <tr>\n",
       "      <th>4</th>\n",
       "      <td>4</td>\n",
       "      <td>Life expectancy at age 60 (years)</td>\n",
       "      <td>South_East Asia</td>\n",
       "      <td>Thailand</td>\n",
       "      <td>Female</td>\n",
       "      <td>19.00000</td>\n",
       "    </tr>\n",
       "    <tr>\n",
       "      <th>...</th>\n",
       "      <td>...</td>\n",
       "      <td>...</td>\n",
       "      <td>...</td>\n",
       "      <td>...</td>\n",
       "      <td>...</td>\n",
       "      <td>...</td>\n",
       "    </tr>\n",
       "    <tr>\n",
       "      <th>6403</th>\n",
       "      <td>6403</td>\n",
       "      <td>Life expectancy at birth (years)</td>\n",
       "      <td>Eastern Mediterranean</td>\n",
       "      <td>Morocco</td>\n",
       "      <td>Both sexes</td>\n",
       "      <td>68.00000</td>\n",
       "    </tr>\n",
       "    <tr>\n",
       "      <th>6404</th>\n",
       "      <td>6404</td>\n",
       "      <td>Life expectancy at age 60 (years)</td>\n",
       "      <td>Western Pacific</td>\n",
       "      <td>Palau</td>\n",
       "      <td>Both sexes</td>\n",
       "      <td>16.00000</td>\n",
       "    </tr>\n",
       "    <tr>\n",
       "      <th>6405</th>\n",
       "      <td>6405</td>\n",
       "      <td>Life expectancy at birth (years)</td>\n",
       "      <td>Africa</td>\n",
       "      <td>Burkina Faso</td>\n",
       "      <td>Female</td>\n",
       "      <td>51.00000</td>\n",
       "    </tr>\n",
       "    <tr>\n",
       "      <th>6406</th>\n",
       "      <td>6406</td>\n",
       "      <td>Healthy life expectancy (HALE) at birth (years)</td>\n",
       "      <td>Europe</td>\n",
       "      <td>Albania</td>\n",
       "      <td>Male</td>\n",
       "      <td>63.50000</td>\n",
       "    </tr>\n",
       "    <tr>\n",
       "      <th>6407</th>\n",
       "      <td>6407</td>\n",
       "      <td>Life expectancy at birth (years)</td>\n",
       "      <td>Europe</td>\n",
       "      <td>Armenia</td>\n",
       "      <td>Both sexes</td>\n",
       "      <td>71.02699</td>\n",
       "    </tr>\n",
       "  </tbody>\n",
       "</table>\n",
       "<p>6408 rows × 6 columns</p>\n",
       "</div>"
      ]
     },
     "execution_count": 234,
     "metadata": {},
     "output_type": "execute_result"
    }
   ],
   "execution_count": 234
  },
  {
   "metadata": {},
   "cell_type": "markdown",
   "source": "По итогам получили вот такой \"чистый\" датасет без лишних для данного исследования данных"
  },
  {
   "cell_type": "markdown",
   "metadata": {
    "id": "sTOh2jQ2ZKgj"
   },
   "source": [
    "### 10"
   ]
  },
  {
   "cell_type": "markdown",
   "metadata": {
    "id": "961UOK2CZKgj"
   },
   "source": [
    "Посчитайте, насколько сильно коррелируют друг с другом потребления разных видов алкоголя (beer_servings,\tspirit_servings и\twine_servings). Создайте датафрейм с попарными корреляциями этих столбцов друг с другом. Какие выводы можно сделать?"
   ]
  },
  {
   "cell_type": "code",
   "metadata": {
    "collapsed": true,
    "id": "9T42qGrkZKgj",
    "ExecuteTime": {
     "end_time": "2025-01-29T20:39:09.839905Z",
     "start_time": "2025-01-29T20:39:09.833045Z"
    }
   },
   "source": [
    "correlations = drinks[['beer_servings', 'spirit_servings', 'wine_servings']].corr()\n",
    "\n",
    "correlations"
   ],
   "outputs": [
    {
     "data": {
      "text/plain": [
       "                 beer_servings  spirit_servings  wine_servings\n",
       "beer_servings         1.000000         0.458819       0.527172\n",
       "spirit_servings       0.458819         1.000000       0.194797\n",
       "wine_servings         0.527172         0.194797       1.000000"
      ],
      "text/html": [
       "<div>\n",
       "<style scoped>\n",
       "    .dataframe tbody tr th:only-of-type {\n",
       "        vertical-align: middle;\n",
       "    }\n",
       "\n",
       "    .dataframe tbody tr th {\n",
       "        vertical-align: top;\n",
       "    }\n",
       "\n",
       "    .dataframe thead th {\n",
       "        text-align: right;\n",
       "    }\n",
       "</style>\n",
       "<table border=\"1\" class=\"dataframe\">\n",
       "  <thead>\n",
       "    <tr style=\"text-align: right;\">\n",
       "      <th></th>\n",
       "      <th>beer_servings</th>\n",
       "      <th>spirit_servings</th>\n",
       "      <th>wine_servings</th>\n",
       "    </tr>\n",
       "  </thead>\n",
       "  <tbody>\n",
       "    <tr>\n",
       "      <th>beer_servings</th>\n",
       "      <td>1.000000</td>\n",
       "      <td>0.458819</td>\n",
       "      <td>0.527172</td>\n",
       "    </tr>\n",
       "    <tr>\n",
       "      <th>spirit_servings</th>\n",
       "      <td>0.458819</td>\n",
       "      <td>1.000000</td>\n",
       "      <td>0.194797</td>\n",
       "    </tr>\n",
       "    <tr>\n",
       "      <th>wine_servings</th>\n",
       "      <td>0.527172</td>\n",
       "      <td>0.194797</td>\n",
       "      <td>1.000000</td>\n",
       "    </tr>\n",
       "  </tbody>\n",
       "</table>\n",
       "</div>"
      ]
     },
     "execution_count": 235,
     "metadata": {},
     "output_type": "execute_result"
    }
   ],
   "execution_count": 235
  },
  {
   "metadata": {},
   "cell_type": "markdown",
   "source": [
    "Потребление пива и вина коррелирует с коэффициентом 0.527, что указывает на умеренную положительную связь. Это может означать, что в странах с высоким потреблением пива часто также наблюдается и высокое потребление вина.\n",
    "\n",
    "Потребление пива и спиртных напитков коррелирует с коэффициентом 0.459, что также представляет собой умеренную положительную корреляцию. Это указывает на то, что в странах, где люди много пьют пива, они также склонны употреблять и спиртные напитки, хотя связь не так сильна, как между пивом и вином.\n",
    "\n",
    "Потребление вина и спиртных напитков коррелирует с коэффициентом 0.195, что является довольно слабой положительной связью. Это говорит о том, что в странах с высоким потреблением вина не обязательно будет высокое потребление спиртных напитков и наоборот."
   ]
  },
  {
   "cell_type": "markdown",
   "metadata": {
    "id": "APDi6QkS8yWo"
   },
   "source": [
    "### 11"
   ]
  },
  {
   "cell_type": "markdown",
   "metadata": {
    "id": "ewdm3OQ98yWx"
   },
   "source": [
    "Каким образом следует осуществить соединение двух имеющихся у нас таблиц? Почему? Соедините таблицы!\n",
    "\n",
    "Получилось ли у вас задействовать все строки, и если нет, то почему? Что делать с теми строками, которые не удается задействовать, если таковые есть? Ответ обоснуйте.\n",
    "\n",
    "*Подсказка. В ответе на первый вопрос задания, а также в обосновании способа соединения таблиц вам может помочь задание 3 данного раздела ДЗ и соответствующий семинарский ноутбук!*\n",
    "\n",
    "*Примечание. Не забудьте сохранить все изменения! В последующих заданиях вы должны работать с одним объединенным датасетом.*"
   ]
  },
  {
   "cell_type": "code",
   "metadata": {
    "collapsed": true,
    "id": "E836k-js8yWx",
    "ExecuteTime": {
     "end_time": "2025-01-29T20:39:09.936957Z",
     "start_time": "2025-01-29T20:39:09.921778Z"
    }
   },
   "source": [
    "merged_df = pd.merge(lifeexp, drinks, how='inner', left_on='CountryDisplay', right_on='country')\n",
    "merged_df"
   ],
   "outputs": [
    {
     "data": {
      "text/plain": [
       "      index_x                                       GhoDisplay  \\\n",
       "0           0                 Life expectancy at birth (years)   \n",
       "1           1  Healthy life expectancy (HALE) at birth (years)   \n",
       "2           2                 Life expectancy at birth (years)   \n",
       "3           3                 Life expectancy at birth (years)   \n",
       "4           4                Life expectancy at age 60 (years)   \n",
       "...       ...                                              ...   \n",
       "6364     6403                 Life expectancy at birth (years)   \n",
       "6365     6404                Life expectancy at age 60 (years)   \n",
       "6366     6405                 Life expectancy at birth (years)   \n",
       "6367     6406  Healthy life expectancy (HALE) at birth (years)   \n",
       "6368     6407                 Life expectancy at birth (years)   \n",
       "\n",
       "              RegionDisplay CountryDisplay  SexDisplay   Numeric  index_y  \\\n",
       "0                  Americas      Nicaragua        Male  68.00000      122   \n",
       "1                    Europe        Ireland        Male  69.30000       81   \n",
       "2     Eastern Mediterranean          Yemen  Both sexes  61.00000      190   \n",
       "3                    Africa        Nigeria      Female  48.00000      124   \n",
       "4           South_East Asia       Thailand      Female  19.00000      169   \n",
       "...                     ...            ...         ...       ...      ...   \n",
       "6364  Eastern Mediterranean        Morocco  Both sexes  68.00000      114   \n",
       "6365        Western Pacific          Palau  Both sexes  16.00000      129   \n",
       "6366                 Africa   Burkina Faso      Female  51.00000       26   \n",
       "6367                 Europe        Albania        Male  63.50000        1   \n",
       "6368                 Europe        Armenia  Both sexes  71.02699        7   \n",
       "\n",
       "           country  beer_servings  spirit_servings  wine_servings  \\\n",
       "0        Nicaragua             78              118              1   \n",
       "1          Ireland            313              118            165   \n",
       "2            Yemen              6                0              0   \n",
       "3          Nigeria             42                5              2   \n",
       "4         Thailand             99              258              1   \n",
       "...            ...            ...              ...            ...   \n",
       "6364       Morocco             12                6             10   \n",
       "6365         Palau            306               63             23   \n",
       "6366  Burkina Faso             25                7              7   \n",
       "6367       Albania             89              132             54   \n",
       "6368       Armenia             21              179             11   \n",
       "\n",
       "      total_litres_of_pure_alcohol  \n",
       "0                              3.5  \n",
       "1                             11.4  \n",
       "2                              0.1  \n",
       "3                              9.1  \n",
       "4                              6.4  \n",
       "...                            ...  \n",
       "6364                           0.5  \n",
       "6365                           6.9  \n",
       "6366                           4.3  \n",
       "6367                           4.9  \n",
       "6368                           3.8  \n",
       "\n",
       "[6369 rows x 12 columns]"
      ],
      "text/html": [
       "<div>\n",
       "<style scoped>\n",
       "    .dataframe tbody tr th:only-of-type {\n",
       "        vertical-align: middle;\n",
       "    }\n",
       "\n",
       "    .dataframe tbody tr th {\n",
       "        vertical-align: top;\n",
       "    }\n",
       "\n",
       "    .dataframe thead th {\n",
       "        text-align: right;\n",
       "    }\n",
       "</style>\n",
       "<table border=\"1\" class=\"dataframe\">\n",
       "  <thead>\n",
       "    <tr style=\"text-align: right;\">\n",
       "      <th></th>\n",
       "      <th>index_x</th>\n",
       "      <th>GhoDisplay</th>\n",
       "      <th>RegionDisplay</th>\n",
       "      <th>CountryDisplay</th>\n",
       "      <th>SexDisplay</th>\n",
       "      <th>Numeric</th>\n",
       "      <th>index_y</th>\n",
       "      <th>country</th>\n",
       "      <th>beer_servings</th>\n",
       "      <th>spirit_servings</th>\n",
       "      <th>wine_servings</th>\n",
       "      <th>total_litres_of_pure_alcohol</th>\n",
       "    </tr>\n",
       "  </thead>\n",
       "  <tbody>\n",
       "    <tr>\n",
       "      <th>0</th>\n",
       "      <td>0</td>\n",
       "      <td>Life expectancy at birth (years)</td>\n",
       "      <td>Americas</td>\n",
       "      <td>Nicaragua</td>\n",
       "      <td>Male</td>\n",
       "      <td>68.00000</td>\n",
       "      <td>122</td>\n",
       "      <td>Nicaragua</td>\n",
       "      <td>78</td>\n",
       "      <td>118</td>\n",
       "      <td>1</td>\n",
       "      <td>3.5</td>\n",
       "    </tr>\n",
       "    <tr>\n",
       "      <th>1</th>\n",
       "      <td>1</td>\n",
       "      <td>Healthy life expectancy (HALE) at birth (years)</td>\n",
       "      <td>Europe</td>\n",
       "      <td>Ireland</td>\n",
       "      <td>Male</td>\n",
       "      <td>69.30000</td>\n",
       "      <td>81</td>\n",
       "      <td>Ireland</td>\n",
       "      <td>313</td>\n",
       "      <td>118</td>\n",
       "      <td>165</td>\n",
       "      <td>11.4</td>\n",
       "    </tr>\n",
       "    <tr>\n",
       "      <th>2</th>\n",
       "      <td>2</td>\n",
       "      <td>Life expectancy at birth (years)</td>\n",
       "      <td>Eastern Mediterranean</td>\n",
       "      <td>Yemen</td>\n",
       "      <td>Both sexes</td>\n",
       "      <td>61.00000</td>\n",
       "      <td>190</td>\n",
       "      <td>Yemen</td>\n",
       "      <td>6</td>\n",
       "      <td>0</td>\n",
       "      <td>0</td>\n",
       "      <td>0.1</td>\n",
       "    </tr>\n",
       "    <tr>\n",
       "      <th>3</th>\n",
       "      <td>3</td>\n",
       "      <td>Life expectancy at birth (years)</td>\n",
       "      <td>Africa</td>\n",
       "      <td>Nigeria</td>\n",
       "      <td>Female</td>\n",
       "      <td>48.00000</td>\n",
       "      <td>124</td>\n",
       "      <td>Nigeria</td>\n",
       "      <td>42</td>\n",
       "      <td>5</td>\n",
       "      <td>2</td>\n",
       "      <td>9.1</td>\n",
       "    </tr>\n",
       "    <tr>\n",
       "      <th>4</th>\n",
       "      <td>4</td>\n",
       "      <td>Life expectancy at age 60 (years)</td>\n",
       "      <td>South_East Asia</td>\n",
       "      <td>Thailand</td>\n",
       "      <td>Female</td>\n",
       "      <td>19.00000</td>\n",
       "      <td>169</td>\n",
       "      <td>Thailand</td>\n",
       "      <td>99</td>\n",
       "      <td>258</td>\n",
       "      <td>1</td>\n",
       "      <td>6.4</td>\n",
       "    </tr>\n",
       "    <tr>\n",
       "      <th>...</th>\n",
       "      <td>...</td>\n",
       "      <td>...</td>\n",
       "      <td>...</td>\n",
       "      <td>...</td>\n",
       "      <td>...</td>\n",
       "      <td>...</td>\n",
       "      <td>...</td>\n",
       "      <td>...</td>\n",
       "      <td>...</td>\n",
       "      <td>...</td>\n",
       "      <td>...</td>\n",
       "      <td>...</td>\n",
       "    </tr>\n",
       "    <tr>\n",
       "      <th>6364</th>\n",
       "      <td>6403</td>\n",
       "      <td>Life expectancy at birth (years)</td>\n",
       "      <td>Eastern Mediterranean</td>\n",
       "      <td>Morocco</td>\n",
       "      <td>Both sexes</td>\n",
       "      <td>68.00000</td>\n",
       "      <td>114</td>\n",
       "      <td>Morocco</td>\n",
       "      <td>12</td>\n",
       "      <td>6</td>\n",
       "      <td>10</td>\n",
       "      <td>0.5</td>\n",
       "    </tr>\n",
       "    <tr>\n",
       "      <th>6365</th>\n",
       "      <td>6404</td>\n",
       "      <td>Life expectancy at age 60 (years)</td>\n",
       "      <td>Western Pacific</td>\n",
       "      <td>Palau</td>\n",
       "      <td>Both sexes</td>\n",
       "      <td>16.00000</td>\n",
       "      <td>129</td>\n",
       "      <td>Palau</td>\n",
       "      <td>306</td>\n",
       "      <td>63</td>\n",
       "      <td>23</td>\n",
       "      <td>6.9</td>\n",
       "    </tr>\n",
       "    <tr>\n",
       "      <th>6366</th>\n",
       "      <td>6405</td>\n",
       "      <td>Life expectancy at birth (years)</td>\n",
       "      <td>Africa</td>\n",
       "      <td>Burkina Faso</td>\n",
       "      <td>Female</td>\n",
       "      <td>51.00000</td>\n",
       "      <td>26</td>\n",
       "      <td>Burkina Faso</td>\n",
       "      <td>25</td>\n",
       "      <td>7</td>\n",
       "      <td>7</td>\n",
       "      <td>4.3</td>\n",
       "    </tr>\n",
       "    <tr>\n",
       "      <th>6367</th>\n",
       "      <td>6406</td>\n",
       "      <td>Healthy life expectancy (HALE) at birth (years)</td>\n",
       "      <td>Europe</td>\n",
       "      <td>Albania</td>\n",
       "      <td>Male</td>\n",
       "      <td>63.50000</td>\n",
       "      <td>1</td>\n",
       "      <td>Albania</td>\n",
       "      <td>89</td>\n",
       "      <td>132</td>\n",
       "      <td>54</td>\n",
       "      <td>4.9</td>\n",
       "    </tr>\n",
       "    <tr>\n",
       "      <th>6368</th>\n",
       "      <td>6407</td>\n",
       "      <td>Life expectancy at birth (years)</td>\n",
       "      <td>Europe</td>\n",
       "      <td>Armenia</td>\n",
       "      <td>Both sexes</td>\n",
       "      <td>71.02699</td>\n",
       "      <td>7</td>\n",
       "      <td>Armenia</td>\n",
       "      <td>21</td>\n",
       "      <td>179</td>\n",
       "      <td>11</td>\n",
       "      <td>3.8</td>\n",
       "    </tr>\n",
       "  </tbody>\n",
       "</table>\n",
       "<p>6369 rows × 12 columns</p>\n",
       "</div>"
      ]
     },
     "execution_count": 236,
     "metadata": {},
     "output_type": "execute_result"
    }
   ],
   "execution_count": 236
  },
  {
   "metadata": {
    "ExecuteTime": {
     "end_time": "2025-01-29T20:39:10.058742Z",
     "start_time": "2025-01-29T20:39:10.052461Z"
    }
   },
   "cell_type": "code",
   "source": "merged_df.CountryDisplay.nunique()",
   "outputs": [
    {
     "data": {
      "text/plain": [
       "193"
      ]
     },
     "execution_count": 237,
     "metadata": {},
     "output_type": "execute_result"
    }
   ],
   "execution_count": 237
  },
  {
   "metadata": {},
   "cell_type": "markdown",
   "source": [
    "- Начнем с того, что в датасете дринкс всего 194 уникальные страны, а в датасете о продолжительности жизни - 193. Нам точно необходимо соединить эти две таблицы пересечением, так как, как уже много раз повторялось, мы исследуем зависимость продолжительности жизни от объемов потребляемого алкоголя, то есть, нам никакой информации не дадут те строки, в которых есть либо только данные о потребляемом алкоголе (в определенной стране), либо данные только о продолжительности жизни (в определенной стране). Следовательно, нам следует оставить только те строки, которые отвечают требованиям цели нашего исследования - те, в которых есть данные и о продолжительности жизни, и о потребляемом алкоголе (в определенной стране).\n",
    "- После соединения таблиц мы имеем данные о 193 уникальных странах"
   ]
  },
  {
   "cell_type": "markdown",
   "metadata": {
    "id": "mwGBdBzhZKgj"
   },
   "source": [
    "### 12"
   ]
  },
  {
   "cell_type": "markdown",
   "metadata": {
    "id": "AmYX1S_HZKgj"
   },
   "source": [
    "Осуществите группировку данных по странам и типу научной статьи (многомерная группировка). В качестве столбцов значений для группировки возьмите оцененную продолжительность жизни и общее потребление алкоголя в литрах. В качестве агреггирующих функций для продолжительности жизни возьмите среднее, медиану, минимум и максимум, а для потребления алкоголя — агреггирующую функцию/функции выберите самостоятельно. Как вы можете прокомментировать свой выбор и что вы наблюдаете?"
   ]
  },
  {
   "cell_type": "code",
   "metadata": {
    "collapsed": true,
    "id": "xjWnCLgpZKgj",
    "ExecuteTime": {
     "end_time": "2025-01-29T20:39:10.205662Z",
     "start_time": "2025-01-29T20:39:10.163844Z"
    }
   },
   "source": [
    "grouped_df = merged_df.groupby(['CountryDisplay', 'GhoDisplay']).agg({'Numeric': ['mean', 'median', 'min', 'max'],\n",
    "                                                                      'total_litres_of_pure_alcohol': ['mean', 'sum']})\n",
    "grouped_df"
   ],
   "outputs": [
    {
     "data": {
      "text/plain": [
       "                                                                  Numeric  \\\n",
       "                                                                     mean   \n",
       "CountryDisplay GhoDisplay                                                   \n",
       "Afghanistan    Healthy life expectancy (HALE) at birth (years)  47.833333   \n",
       "               Life expectancy at age 60 (years)                15.223012   \n",
       "               Life expectancy at birth (years)                 56.311805   \n",
       "Albania        Healthy life expectancy (HALE) at birth (years)  63.800000   \n",
       "               Life expectancy at age 60 (years)                17.728610   \n",
       "...                                                                   ...   \n",
       "Zambia         Life expectancy at age 60 (years)                16.068835   \n",
       "               Life expectancy at birth (years)                 49.953199   \n",
       "Zimbabwe       Healthy life expectancy (HALE) at birth (years)  45.222222   \n",
       "               Life expectancy at age 60 (years)                17.369381   \n",
       "               Life expectancy at birth (years)                 55.186778   \n",
       "\n",
       "                                                                           \\\n",
       "                                                                   median   \n",
       "CountryDisplay GhoDisplay                                                   \n",
       "Afghanistan    Healthy life expectancy (HALE) at birth (years)  48.800000   \n",
       "               Life expectancy at age 60 (years)                15.061535   \n",
       "               Life expectancy at birth (years)                 57.000000   \n",
       "Albania        Healthy life expectancy (HALE) at birth (years)  63.900000   \n",
       "               Life expectancy at age 60 (years)                18.000000   \n",
       "...                                                                   ...   \n",
       "Zambia         Life expectancy at age 60 (years)                16.000000   \n",
       "               Life expectancy at birth (years)                 51.000000   \n",
       "Zimbabwe       Healthy life expectancy (HALE) at birth (years)  47.700000   \n",
       "               Life expectancy at age 60 (years)                17.654040   \n",
       "               Life expectancy at birth (years)                 58.363385   \n",
       "\n",
       "                                                                      \\\n",
       "                                                                 min   \n",
       "CountryDisplay GhoDisplay                                              \n",
       "Afghanistan    Healthy life expectancy (HALE) at birth (years)  44.6   \n",
       "               Life expectancy at age 60 (years)                13.0   \n",
       "               Life expectancy at birth (years)                 49.0   \n",
       "Albania        Healthy life expectancy (HALE) at birth (years)  59.9   \n",
       "               Life expectancy at age 60 (years)                15.0   \n",
       "...                                                              ...   \n",
       "Zambia         Life expectancy at age 60 (years)                14.0   \n",
       "               Life expectancy at birth (years)                 40.0   \n",
       "Zimbabwe       Healthy life expectancy (HALE) at birth (years)  36.4   \n",
       "               Life expectancy at age 60 (years)                15.0   \n",
       "               Life expectancy at birth (years)                 42.0   \n",
       "\n",
       "                                                                          \\\n",
       "                                                                     max   \n",
       "CountryDisplay GhoDisplay                                                  \n",
       "Afghanistan    Healthy life expectancy (HALE) at birth (years)  50.50000   \n",
       "               Life expectancy at age 60 (years)                17.00000   \n",
       "               Life expectancy at birth (years)                 61.97733   \n",
       "Albania        Healthy life expectancy (HALE) at birth (years)  66.00000   \n",
       "               Life expectancy at age 60 (years)                20.00000   \n",
       "...                                                                  ...   \n",
       "Zambia         Life expectancy at age 60 (years)                18.10310   \n",
       "               Life expectancy at birth (years)                 60.01617   \n",
       "Zimbabwe       Healthy life expectancy (HALE) at birth (years)  51.80000   \n",
       "               Life expectancy at age 60 (years)                19.00000   \n",
       "               Life expectancy at birth (years)                 64.00000   \n",
       "\n",
       "                                                               total_litres_of_pure_alcohol  \\\n",
       "                                                                                       mean   \n",
       "CountryDisplay GhoDisplay                                                                     \n",
       "Afghanistan    Healthy life expectancy (HALE) at birth (years)                          0.0   \n",
       "               Life expectancy at age 60 (years)                                        0.0   \n",
       "               Life expectancy at birth (years)                                         0.0   \n",
       "Albania        Healthy life expectancy (HALE) at birth (years)                          4.9   \n",
       "               Life expectancy at age 60 (years)                                        4.9   \n",
       "...                                                                                     ...   \n",
       "Zambia         Life expectancy at age 60 (years)                                        2.5   \n",
       "               Life expectancy at birth (years)                                         2.5   \n",
       "Zimbabwe       Healthy life expectancy (HALE) at birth (years)                          4.7   \n",
       "               Life expectancy at age 60 (years)                                        4.7   \n",
       "               Life expectancy at birth (years)                                         4.7   \n",
       "\n",
       "                                                                      \n",
       "                                                                 sum  \n",
       "CountryDisplay GhoDisplay                                             \n",
       "Afghanistan    Healthy life expectancy (HALE) at birth (years)   0.0  \n",
       "               Life expectancy at age 60 (years)                 0.0  \n",
       "               Life expectancy at birth (years)                  0.0  \n",
       "Albania        Healthy life expectancy (HALE) at birth (years)  44.1  \n",
       "               Life expectancy at age 60 (years)                58.8  \n",
       "...                                                              ...  \n",
       "Zambia         Life expectancy at age 60 (years)                30.0  \n",
       "               Life expectancy at birth (years)                 30.0  \n",
       "Zimbabwe       Healthy life expectancy (HALE) at birth (years)  42.3  \n",
       "               Life expectancy at age 60 (years)                56.4  \n",
       "               Life expectancy at birth (years)                 56.4  \n",
       "\n",
       "[579 rows x 6 columns]"
      ],
      "text/html": [
       "<div>\n",
       "<style scoped>\n",
       "    .dataframe tbody tr th:only-of-type {\n",
       "        vertical-align: middle;\n",
       "    }\n",
       "\n",
       "    .dataframe tbody tr th {\n",
       "        vertical-align: top;\n",
       "    }\n",
       "\n",
       "    .dataframe thead tr th {\n",
       "        text-align: left;\n",
       "    }\n",
       "\n",
       "    .dataframe thead tr:last-of-type th {\n",
       "        text-align: right;\n",
       "    }\n",
       "</style>\n",
       "<table border=\"1\" class=\"dataframe\">\n",
       "  <thead>\n",
       "    <tr>\n",
       "      <th></th>\n",
       "      <th></th>\n",
       "      <th colspan=\"4\" halign=\"left\">Numeric</th>\n",
       "      <th colspan=\"2\" halign=\"left\">total_litres_of_pure_alcohol</th>\n",
       "    </tr>\n",
       "    <tr>\n",
       "      <th></th>\n",
       "      <th></th>\n",
       "      <th>mean</th>\n",
       "      <th>median</th>\n",
       "      <th>min</th>\n",
       "      <th>max</th>\n",
       "      <th>mean</th>\n",
       "      <th>sum</th>\n",
       "    </tr>\n",
       "    <tr>\n",
       "      <th>CountryDisplay</th>\n",
       "      <th>GhoDisplay</th>\n",
       "      <th></th>\n",
       "      <th></th>\n",
       "      <th></th>\n",
       "      <th></th>\n",
       "      <th></th>\n",
       "      <th></th>\n",
       "    </tr>\n",
       "  </thead>\n",
       "  <tbody>\n",
       "    <tr>\n",
       "      <th rowspan=\"3\" valign=\"top\">Afghanistan</th>\n",
       "      <th>Healthy life expectancy (HALE) at birth (years)</th>\n",
       "      <td>47.833333</td>\n",
       "      <td>48.800000</td>\n",
       "      <td>44.6</td>\n",
       "      <td>50.50000</td>\n",
       "      <td>0.0</td>\n",
       "      <td>0.0</td>\n",
       "    </tr>\n",
       "    <tr>\n",
       "      <th>Life expectancy at age 60 (years)</th>\n",
       "      <td>15.223012</td>\n",
       "      <td>15.061535</td>\n",
       "      <td>13.0</td>\n",
       "      <td>17.00000</td>\n",
       "      <td>0.0</td>\n",
       "      <td>0.0</td>\n",
       "    </tr>\n",
       "    <tr>\n",
       "      <th>Life expectancy at birth (years)</th>\n",
       "      <td>56.311805</td>\n",
       "      <td>57.000000</td>\n",
       "      <td>49.0</td>\n",
       "      <td>61.97733</td>\n",
       "      <td>0.0</td>\n",
       "      <td>0.0</td>\n",
       "    </tr>\n",
       "    <tr>\n",
       "      <th rowspan=\"2\" valign=\"top\">Albania</th>\n",
       "      <th>Healthy life expectancy (HALE) at birth (years)</th>\n",
       "      <td>63.800000</td>\n",
       "      <td>63.900000</td>\n",
       "      <td>59.9</td>\n",
       "      <td>66.00000</td>\n",
       "      <td>4.9</td>\n",
       "      <td>44.1</td>\n",
       "    </tr>\n",
       "    <tr>\n",
       "      <th>Life expectancy at age 60 (years)</th>\n",
       "      <td>17.728610</td>\n",
       "      <td>18.000000</td>\n",
       "      <td>15.0</td>\n",
       "      <td>20.00000</td>\n",
       "      <td>4.9</td>\n",
       "      <td>58.8</td>\n",
       "    </tr>\n",
       "    <tr>\n",
       "      <th>...</th>\n",
       "      <th>...</th>\n",
       "      <td>...</td>\n",
       "      <td>...</td>\n",
       "      <td>...</td>\n",
       "      <td>...</td>\n",
       "      <td>...</td>\n",
       "      <td>...</td>\n",
       "    </tr>\n",
       "    <tr>\n",
       "      <th rowspan=\"2\" valign=\"top\">Zambia</th>\n",
       "      <th>Life expectancy at age 60 (years)</th>\n",
       "      <td>16.068835</td>\n",
       "      <td>16.000000</td>\n",
       "      <td>14.0</td>\n",
       "      <td>18.10310</td>\n",
       "      <td>2.5</td>\n",
       "      <td>30.0</td>\n",
       "    </tr>\n",
       "    <tr>\n",
       "      <th>Life expectancy at birth (years)</th>\n",
       "      <td>49.953199</td>\n",
       "      <td>51.000000</td>\n",
       "      <td>40.0</td>\n",
       "      <td>60.01617</td>\n",
       "      <td>2.5</td>\n",
       "      <td>30.0</td>\n",
       "    </tr>\n",
       "    <tr>\n",
       "      <th rowspan=\"3\" valign=\"top\">Zimbabwe</th>\n",
       "      <th>Healthy life expectancy (HALE) at birth (years)</th>\n",
       "      <td>45.222222</td>\n",
       "      <td>47.700000</td>\n",
       "      <td>36.4</td>\n",
       "      <td>51.80000</td>\n",
       "      <td>4.7</td>\n",
       "      <td>42.3</td>\n",
       "    </tr>\n",
       "    <tr>\n",
       "      <th>Life expectancy at age 60 (years)</th>\n",
       "      <td>17.369381</td>\n",
       "      <td>17.654040</td>\n",
       "      <td>15.0</td>\n",
       "      <td>19.00000</td>\n",
       "      <td>4.7</td>\n",
       "      <td>56.4</td>\n",
       "    </tr>\n",
       "    <tr>\n",
       "      <th>Life expectancy at birth (years)</th>\n",
       "      <td>55.186778</td>\n",
       "      <td>58.363385</td>\n",
       "      <td>42.0</td>\n",
       "      <td>64.00000</td>\n",
       "      <td>4.7</td>\n",
       "      <td>56.4</td>\n",
       "    </tr>\n",
       "  </tbody>\n",
       "</table>\n",
       "<p>579 rows × 6 columns</p>\n",
       "</div>"
      ]
     },
     "execution_count": 238,
     "metadata": {},
     "output_type": "execute_result"
    }
   ],
   "execution_count": 238
  },
  {
   "metadata": {},
   "cell_type": "markdown",
   "source": "Для потребления алкоголя я выбрал среднее и сумму. Среднее значение показывает общий уровень потребления алкоголя на душу населения, а сумма может дать представление о совокупном потреблении в рамках каждой категории статей, что будет полезно для примерной оценки воздействия алкоголя на население."
  },
  {
   "cell_type": "markdown",
   "metadata": {
    "id": "WDURfWMQZxno"
   },
   "source": [
    "### 13"
   ]
  },
  {
   "cell_type": "markdown",
   "metadata": {
    "id": "yXkPGyZDZxnv"
   },
   "source": [
    "Вставьте любые два столбца из предыдущего задания, которые вы получили путем группировки, в исходную таблицу в качестве двух новых столбцов (назвать вы их можете как хотите). Разумеется, значения этих столбцов должны соответствовать значениям исходной таблицы по указанным в прошлом задании категориям.\n",
    "\n",
    "*Примечание. Не забудьте сохранить все изменения! В последующих заданиях вы должны работать с обновленным датасетом.*"
   ]
  },
  {
   "cell_type": "code",
   "metadata": {
    "collapsed": true,
    "id": "c5Lw4DLiZxnw",
    "ExecuteTime": {
     "end_time": "2025-01-29T20:39:10.435362Z",
     "start_time": "2025-01-29T20:39:10.414365Z"
    }
   },
   "source": [
    "merged_df['life_exp_mean'] = merged_df.groupby(['CountryDisplay', 'GhoDisplay'])['Numeric'].transform('mean')\n",
    "merged_df['alc_consump_mean'] = merged_df.groupby(['CountryDisplay'])['total_litres_of_pure_alcohol'].transform('mean')\n",
    "merged_df"
   ],
   "outputs": [
    {
     "data": {
      "text/plain": [
       "      index_x                                       GhoDisplay  \\\n",
       "0           0                 Life expectancy at birth (years)   \n",
       "1           1  Healthy life expectancy (HALE) at birth (years)   \n",
       "2           2                 Life expectancy at birth (years)   \n",
       "3           3                 Life expectancy at birth (years)   \n",
       "4           4                Life expectancy at age 60 (years)   \n",
       "...       ...                                              ...   \n",
       "6364     6403                 Life expectancy at birth (years)   \n",
       "6365     6404                Life expectancy at age 60 (years)   \n",
       "6366     6405                 Life expectancy at birth (years)   \n",
       "6367     6406  Healthy life expectancy (HALE) at birth (years)   \n",
       "6368     6407                 Life expectancy at birth (years)   \n",
       "\n",
       "              RegionDisplay CountryDisplay  SexDisplay   Numeric  index_y  \\\n",
       "0                  Americas      Nicaragua        Male  68.00000      122   \n",
       "1                    Europe        Ireland        Male  69.30000       81   \n",
       "2     Eastern Mediterranean          Yemen  Both sexes  61.00000      190   \n",
       "3                    Africa        Nigeria      Female  48.00000      124   \n",
       "4           South_East Asia       Thailand      Female  19.00000      169   \n",
       "...                     ...            ...         ...       ...      ...   \n",
       "6364  Eastern Mediterranean        Morocco  Both sexes  68.00000      114   \n",
       "6365        Western Pacific          Palau  Both sexes  16.00000      129   \n",
       "6366                 Africa   Burkina Faso      Female  51.00000       26   \n",
       "6367                 Europe        Albania        Male  63.50000        1   \n",
       "6368                 Europe        Armenia  Both sexes  71.02699        7   \n",
       "\n",
       "           country  beer_servings  spirit_servings  wine_servings  \\\n",
       "0        Nicaragua             78              118              1   \n",
       "1          Ireland            313              118            165   \n",
       "2            Yemen              6                0              0   \n",
       "3          Nigeria             42                5              2   \n",
       "4         Thailand             99              258              1   \n",
       "...            ...            ...              ...            ...   \n",
       "6364       Morocco             12                6             10   \n",
       "6365         Palau            306               63             23   \n",
       "6366  Burkina Faso             25                7              7   \n",
       "6367       Albania             89              132             54   \n",
       "6368       Armenia             21              179             11   \n",
       "\n",
       "      total_litres_of_pure_alcohol  life_exp_mean  alc_consump_mean  \n",
       "0                              3.5      72.667402               3.5  \n",
       "1                             11.4      69.911111              11.4  \n",
       "2                              0.1      61.567050               0.1  \n",
       "3                              9.1      50.473338               9.1  \n",
       "4                              6.4      19.895824               6.4  \n",
       "...                            ...            ...               ...  \n",
       "6364                           0.5      68.574297               0.5  \n",
       "6365                           6.9      17.313487               6.9  \n",
       "6366                           4.3      53.880190               4.3  \n",
       "6367                           4.9      63.800000               4.9  \n",
       "6368                           3.8      70.046697               3.8  \n",
       "\n",
       "[6369 rows x 14 columns]"
      ],
      "text/html": [
       "<div>\n",
       "<style scoped>\n",
       "    .dataframe tbody tr th:only-of-type {\n",
       "        vertical-align: middle;\n",
       "    }\n",
       "\n",
       "    .dataframe tbody tr th {\n",
       "        vertical-align: top;\n",
       "    }\n",
       "\n",
       "    .dataframe thead th {\n",
       "        text-align: right;\n",
       "    }\n",
       "</style>\n",
       "<table border=\"1\" class=\"dataframe\">\n",
       "  <thead>\n",
       "    <tr style=\"text-align: right;\">\n",
       "      <th></th>\n",
       "      <th>index_x</th>\n",
       "      <th>GhoDisplay</th>\n",
       "      <th>RegionDisplay</th>\n",
       "      <th>CountryDisplay</th>\n",
       "      <th>SexDisplay</th>\n",
       "      <th>Numeric</th>\n",
       "      <th>index_y</th>\n",
       "      <th>country</th>\n",
       "      <th>beer_servings</th>\n",
       "      <th>spirit_servings</th>\n",
       "      <th>wine_servings</th>\n",
       "      <th>total_litres_of_pure_alcohol</th>\n",
       "      <th>life_exp_mean</th>\n",
       "      <th>alc_consump_mean</th>\n",
       "    </tr>\n",
       "  </thead>\n",
       "  <tbody>\n",
       "    <tr>\n",
       "      <th>0</th>\n",
       "      <td>0</td>\n",
       "      <td>Life expectancy at birth (years)</td>\n",
       "      <td>Americas</td>\n",
       "      <td>Nicaragua</td>\n",
       "      <td>Male</td>\n",
       "      <td>68.00000</td>\n",
       "      <td>122</td>\n",
       "      <td>Nicaragua</td>\n",
       "      <td>78</td>\n",
       "      <td>118</td>\n",
       "      <td>1</td>\n",
       "      <td>3.5</td>\n",
       "      <td>72.667402</td>\n",
       "      <td>3.5</td>\n",
       "    </tr>\n",
       "    <tr>\n",
       "      <th>1</th>\n",
       "      <td>1</td>\n",
       "      <td>Healthy life expectancy (HALE) at birth (years)</td>\n",
       "      <td>Europe</td>\n",
       "      <td>Ireland</td>\n",
       "      <td>Male</td>\n",
       "      <td>69.30000</td>\n",
       "      <td>81</td>\n",
       "      <td>Ireland</td>\n",
       "      <td>313</td>\n",
       "      <td>118</td>\n",
       "      <td>165</td>\n",
       "      <td>11.4</td>\n",
       "      <td>69.911111</td>\n",
       "      <td>11.4</td>\n",
       "    </tr>\n",
       "    <tr>\n",
       "      <th>2</th>\n",
       "      <td>2</td>\n",
       "      <td>Life expectancy at birth (years)</td>\n",
       "      <td>Eastern Mediterranean</td>\n",
       "      <td>Yemen</td>\n",
       "      <td>Both sexes</td>\n",
       "      <td>61.00000</td>\n",
       "      <td>190</td>\n",
       "      <td>Yemen</td>\n",
       "      <td>6</td>\n",
       "      <td>0</td>\n",
       "      <td>0</td>\n",
       "      <td>0.1</td>\n",
       "      <td>61.567050</td>\n",
       "      <td>0.1</td>\n",
       "    </tr>\n",
       "    <tr>\n",
       "      <th>3</th>\n",
       "      <td>3</td>\n",
       "      <td>Life expectancy at birth (years)</td>\n",
       "      <td>Africa</td>\n",
       "      <td>Nigeria</td>\n",
       "      <td>Female</td>\n",
       "      <td>48.00000</td>\n",
       "      <td>124</td>\n",
       "      <td>Nigeria</td>\n",
       "      <td>42</td>\n",
       "      <td>5</td>\n",
       "      <td>2</td>\n",
       "      <td>9.1</td>\n",
       "      <td>50.473338</td>\n",
       "      <td>9.1</td>\n",
       "    </tr>\n",
       "    <tr>\n",
       "      <th>4</th>\n",
       "      <td>4</td>\n",
       "      <td>Life expectancy at age 60 (years)</td>\n",
       "      <td>South_East Asia</td>\n",
       "      <td>Thailand</td>\n",
       "      <td>Female</td>\n",
       "      <td>19.00000</td>\n",
       "      <td>169</td>\n",
       "      <td>Thailand</td>\n",
       "      <td>99</td>\n",
       "      <td>258</td>\n",
       "      <td>1</td>\n",
       "      <td>6.4</td>\n",
       "      <td>19.895824</td>\n",
       "      <td>6.4</td>\n",
       "    </tr>\n",
       "    <tr>\n",
       "      <th>...</th>\n",
       "      <td>...</td>\n",
       "      <td>...</td>\n",
       "      <td>...</td>\n",
       "      <td>...</td>\n",
       "      <td>...</td>\n",
       "      <td>...</td>\n",
       "      <td>...</td>\n",
       "      <td>...</td>\n",
       "      <td>...</td>\n",
       "      <td>...</td>\n",
       "      <td>...</td>\n",
       "      <td>...</td>\n",
       "      <td>...</td>\n",
       "      <td>...</td>\n",
       "    </tr>\n",
       "    <tr>\n",
       "      <th>6364</th>\n",
       "      <td>6403</td>\n",
       "      <td>Life expectancy at birth (years)</td>\n",
       "      <td>Eastern Mediterranean</td>\n",
       "      <td>Morocco</td>\n",
       "      <td>Both sexes</td>\n",
       "      <td>68.00000</td>\n",
       "      <td>114</td>\n",
       "      <td>Morocco</td>\n",
       "      <td>12</td>\n",
       "      <td>6</td>\n",
       "      <td>10</td>\n",
       "      <td>0.5</td>\n",
       "      <td>68.574297</td>\n",
       "      <td>0.5</td>\n",
       "    </tr>\n",
       "    <tr>\n",
       "      <th>6365</th>\n",
       "      <td>6404</td>\n",
       "      <td>Life expectancy at age 60 (years)</td>\n",
       "      <td>Western Pacific</td>\n",
       "      <td>Palau</td>\n",
       "      <td>Both sexes</td>\n",
       "      <td>16.00000</td>\n",
       "      <td>129</td>\n",
       "      <td>Palau</td>\n",
       "      <td>306</td>\n",
       "      <td>63</td>\n",
       "      <td>23</td>\n",
       "      <td>6.9</td>\n",
       "      <td>17.313487</td>\n",
       "      <td>6.9</td>\n",
       "    </tr>\n",
       "    <tr>\n",
       "      <th>6366</th>\n",
       "      <td>6405</td>\n",
       "      <td>Life expectancy at birth (years)</td>\n",
       "      <td>Africa</td>\n",
       "      <td>Burkina Faso</td>\n",
       "      <td>Female</td>\n",
       "      <td>51.00000</td>\n",
       "      <td>26</td>\n",
       "      <td>Burkina Faso</td>\n",
       "      <td>25</td>\n",
       "      <td>7</td>\n",
       "      <td>7</td>\n",
       "      <td>4.3</td>\n",
       "      <td>53.880190</td>\n",
       "      <td>4.3</td>\n",
       "    </tr>\n",
       "    <tr>\n",
       "      <th>6367</th>\n",
       "      <td>6406</td>\n",
       "      <td>Healthy life expectancy (HALE) at birth (years)</td>\n",
       "      <td>Europe</td>\n",
       "      <td>Albania</td>\n",
       "      <td>Male</td>\n",
       "      <td>63.50000</td>\n",
       "      <td>1</td>\n",
       "      <td>Albania</td>\n",
       "      <td>89</td>\n",
       "      <td>132</td>\n",
       "      <td>54</td>\n",
       "      <td>4.9</td>\n",
       "      <td>63.800000</td>\n",
       "      <td>4.9</td>\n",
       "    </tr>\n",
       "    <tr>\n",
       "      <th>6368</th>\n",
       "      <td>6407</td>\n",
       "      <td>Life expectancy at birth (years)</td>\n",
       "      <td>Europe</td>\n",
       "      <td>Armenia</td>\n",
       "      <td>Both sexes</td>\n",
       "      <td>71.02699</td>\n",
       "      <td>7</td>\n",
       "      <td>Armenia</td>\n",
       "      <td>21</td>\n",
       "      <td>179</td>\n",
       "      <td>11</td>\n",
       "      <td>3.8</td>\n",
       "      <td>70.046697</td>\n",
       "      <td>3.8</td>\n",
       "    </tr>\n",
       "  </tbody>\n",
       "</table>\n",
       "<p>6369 rows × 14 columns</p>\n",
       "</div>"
      ]
     },
     "execution_count": 239,
     "metadata": {},
     "output_type": "execute_result"
    }
   ],
   "execution_count": 239
  },
  {
   "cell_type": "markdown",
   "metadata": {
    "id": "zDE9degBY1sf"
   },
   "source": [
    "### 14"
   ]
  },
  {
   "cell_type": "markdown",
   "metadata": {
    "id": "V7gt5vzbY1so"
   },
   "source": [
    "Используя группировки, аргументированно ответьте на вопрос: на каких континентах средняя ожидаемая продолжительность жизни выше у мужчин, а на каких у женщин?\n",
    "\n",
    "А медианная ожидаемая продолжительность?\n",
    "\n",
    "А минимальная ожидаемая продолжительность?\n",
    "\n",
    "Сделайте выводы!\n",
    "\n",
    "*Подсказка. Казалось бы, при чем здесь тип научной статьи?*"
   ]
  },
  {
   "cell_type": "code",
   "metadata": {
    "collapsed": true,
    "id": "Wo2cmk4hY1so",
    "ExecuteTime": {
     "end_time": "2025-01-29T20:39:10.706737Z",
     "start_time": "2025-01-29T20:39:10.689736Z"
    }
   },
   "source": [
    "life_exp_at_birth_stats = merged_df[merged_df['GhoDisplay'] == 'Life expectancy at birth (years)'].groupby(['RegionDisplay', 'SexDisplay']).agg({\n",
    "    'Numeric': ['mean', 'median', 'min']}).reset_index()\n",
    "life_exp_at_birth_stats"
   ],
   "outputs": [
    {
     "data": {
      "text/plain": [
       "            RegionDisplay  SexDisplay    Numeric                 \n",
       "                                            mean     median   min\n",
       "0                  Africa  Both sexes  56.244803  57.000000  38.0\n",
       "1                  Africa      Female  57.847483  58.000000  38.0\n",
       "2                  Africa        Male  54.720970  55.000000  38.0\n",
       "3                Americas  Both sexes  73.028041  74.000000  54.0\n",
       "4                Americas      Female  75.873706  77.000000  56.0\n",
       "5                Americas        Male  70.282002  71.000000  52.0\n",
       "6   Eastern Mediterranean  Both sexes  68.828298  70.989760  47.0\n",
       "7   Eastern Mediterranean      Female  70.590926  73.000000  50.0\n",
       "8   Eastern Mediterranean        Male  67.283447  69.000000  45.0\n",
       "9                  Europe  Both sexes  75.233666  76.000000  62.0\n",
       "10                 Europe      Female  78.454599  79.000000  65.0\n",
       "11                 Europe        Male  71.976935  72.518745  58.0\n",
       "12        South_East Asia  Both sexes  66.345093  67.500000  50.0\n",
       "13        South_East Asia      Female  68.188877  68.968250  51.0\n",
       "14        South_East Asia        Male  64.491738  65.000000  48.0\n",
       "15        Western Pacific  Both sexes  70.985250  71.000000  53.0\n",
       "16        Western Pacific      Female  73.538356  73.500000  54.0\n",
       "17        Western Pacific        Male  68.585153  68.124050  51.0"
      ],
      "text/html": [
       "<div>\n",
       "<style scoped>\n",
       "    .dataframe tbody tr th:only-of-type {\n",
       "        vertical-align: middle;\n",
       "    }\n",
       "\n",
       "    .dataframe tbody tr th {\n",
       "        vertical-align: top;\n",
       "    }\n",
       "\n",
       "    .dataframe thead tr th {\n",
       "        text-align: left;\n",
       "    }\n",
       "</style>\n",
       "<table border=\"1\" class=\"dataframe\">\n",
       "  <thead>\n",
       "    <tr>\n",
       "      <th></th>\n",
       "      <th>RegionDisplay</th>\n",
       "      <th>SexDisplay</th>\n",
       "      <th colspan=\"3\" halign=\"left\">Numeric</th>\n",
       "    </tr>\n",
       "    <tr>\n",
       "      <th></th>\n",
       "      <th></th>\n",
       "      <th></th>\n",
       "      <th>mean</th>\n",
       "      <th>median</th>\n",
       "      <th>min</th>\n",
       "    </tr>\n",
       "  </thead>\n",
       "  <tbody>\n",
       "    <tr>\n",
       "      <th>0</th>\n",
       "      <td>Africa</td>\n",
       "      <td>Both sexes</td>\n",
       "      <td>56.244803</td>\n",
       "      <td>57.000000</td>\n",
       "      <td>38.0</td>\n",
       "    </tr>\n",
       "    <tr>\n",
       "      <th>1</th>\n",
       "      <td>Africa</td>\n",
       "      <td>Female</td>\n",
       "      <td>57.847483</td>\n",
       "      <td>58.000000</td>\n",
       "      <td>38.0</td>\n",
       "    </tr>\n",
       "    <tr>\n",
       "      <th>2</th>\n",
       "      <td>Africa</td>\n",
       "      <td>Male</td>\n",
       "      <td>54.720970</td>\n",
       "      <td>55.000000</td>\n",
       "      <td>38.0</td>\n",
       "    </tr>\n",
       "    <tr>\n",
       "      <th>3</th>\n",
       "      <td>Americas</td>\n",
       "      <td>Both sexes</td>\n",
       "      <td>73.028041</td>\n",
       "      <td>74.000000</td>\n",
       "      <td>54.0</td>\n",
       "    </tr>\n",
       "    <tr>\n",
       "      <th>4</th>\n",
       "      <td>Americas</td>\n",
       "      <td>Female</td>\n",
       "      <td>75.873706</td>\n",
       "      <td>77.000000</td>\n",
       "      <td>56.0</td>\n",
       "    </tr>\n",
       "    <tr>\n",
       "      <th>5</th>\n",
       "      <td>Americas</td>\n",
       "      <td>Male</td>\n",
       "      <td>70.282002</td>\n",
       "      <td>71.000000</td>\n",
       "      <td>52.0</td>\n",
       "    </tr>\n",
       "    <tr>\n",
       "      <th>6</th>\n",
       "      <td>Eastern Mediterranean</td>\n",
       "      <td>Both sexes</td>\n",
       "      <td>68.828298</td>\n",
       "      <td>70.989760</td>\n",
       "      <td>47.0</td>\n",
       "    </tr>\n",
       "    <tr>\n",
       "      <th>7</th>\n",
       "      <td>Eastern Mediterranean</td>\n",
       "      <td>Female</td>\n",
       "      <td>70.590926</td>\n",
       "      <td>73.000000</td>\n",
       "      <td>50.0</td>\n",
       "    </tr>\n",
       "    <tr>\n",
       "      <th>8</th>\n",
       "      <td>Eastern Mediterranean</td>\n",
       "      <td>Male</td>\n",
       "      <td>67.283447</td>\n",
       "      <td>69.000000</td>\n",
       "      <td>45.0</td>\n",
       "    </tr>\n",
       "    <tr>\n",
       "      <th>9</th>\n",
       "      <td>Europe</td>\n",
       "      <td>Both sexes</td>\n",
       "      <td>75.233666</td>\n",
       "      <td>76.000000</td>\n",
       "      <td>62.0</td>\n",
       "    </tr>\n",
       "    <tr>\n",
       "      <th>10</th>\n",
       "      <td>Europe</td>\n",
       "      <td>Female</td>\n",
       "      <td>78.454599</td>\n",
       "      <td>79.000000</td>\n",
       "      <td>65.0</td>\n",
       "    </tr>\n",
       "    <tr>\n",
       "      <th>11</th>\n",
       "      <td>Europe</td>\n",
       "      <td>Male</td>\n",
       "      <td>71.976935</td>\n",
       "      <td>72.518745</td>\n",
       "      <td>58.0</td>\n",
       "    </tr>\n",
       "    <tr>\n",
       "      <th>12</th>\n",
       "      <td>South_East Asia</td>\n",
       "      <td>Both sexes</td>\n",
       "      <td>66.345093</td>\n",
       "      <td>67.500000</td>\n",
       "      <td>50.0</td>\n",
       "    </tr>\n",
       "    <tr>\n",
       "      <th>13</th>\n",
       "      <td>South_East Asia</td>\n",
       "      <td>Female</td>\n",
       "      <td>68.188877</td>\n",
       "      <td>68.968250</td>\n",
       "      <td>51.0</td>\n",
       "    </tr>\n",
       "    <tr>\n",
       "      <th>14</th>\n",
       "      <td>South_East Asia</td>\n",
       "      <td>Male</td>\n",
       "      <td>64.491738</td>\n",
       "      <td>65.000000</td>\n",
       "      <td>48.0</td>\n",
       "    </tr>\n",
       "    <tr>\n",
       "      <th>15</th>\n",
       "      <td>Western Pacific</td>\n",
       "      <td>Both sexes</td>\n",
       "      <td>70.985250</td>\n",
       "      <td>71.000000</td>\n",
       "      <td>53.0</td>\n",
       "    </tr>\n",
       "    <tr>\n",
       "      <th>16</th>\n",
       "      <td>Western Pacific</td>\n",
       "      <td>Female</td>\n",
       "      <td>73.538356</td>\n",
       "      <td>73.500000</td>\n",
       "      <td>54.0</td>\n",
       "    </tr>\n",
       "    <tr>\n",
       "      <th>17</th>\n",
       "      <td>Western Pacific</td>\n",
       "      <td>Male</td>\n",
       "      <td>68.585153</td>\n",
       "      <td>68.124050</td>\n",
       "      <td>51.0</td>\n",
       "    </tr>\n",
       "  </tbody>\n",
       "</table>\n",
       "</div>"
      ]
     },
     "execution_count": 240,
     "metadata": {},
     "output_type": "execute_result"
    }
   ],
   "execution_count": 240
  },
  {
   "metadata": {},
   "cell_type": "markdown",
   "source": [
    "- Получается так, что средняя ожидаемая продолжительность жизни на всех континентах выше у женщин, чем у мужчин, также как и медианная. Что касается минимальной продолжительности жизни, все не так однозначно, но все же общая тенденция более высокой продолжительности жизни у женщин сохраняется.\n",
    "- Для получения результатов этого мини-анализа были взяты только статьи \"Life expectancy at birth (years)\", так как нам требуется выявить именно продолжительность жизни, то есть жизнь должна быть взята от рождения."
   ]
  },
  {
   "cell_type": "markdown",
   "metadata": {
    "id": "MOpl4qSimA0f"
   },
   "source": [
    "### 15"
   ]
  },
  {
   "cell_type": "markdown",
   "metadata": {
    "id": "LJw3l8htmA0o"
   },
   "source": [
    "Работая лишь с общим объединенным датасетом и не используя исходную таблицу drinks, подсчитайте среднее потребление каждого вида алкоголя и среднее общее количество литров потребляемого алкоголя на человека по всем континентам. Занесите ваши результаты в отдельный датафрейм!\n",
    "\n",
    "*Подсказка. Задача немного сложнее, чем может показаться на первый взгляд — в объединенном датасете страны встречаются разное количество раз, и из-за этого могут возникнуть определенные проблемы. Если так случится, надо подумать, как это обойти!*\n",
    "\n",
    "*Примечание. Разумеется, это необходимо сделать автоматизированно, а не перебирая каждый континент по отдельности.*"
   ]
  },
  {
   "cell_type": "code",
   "metadata": {
    "collapsed": true,
    "id": "gPuwfFgdmA0p",
    "ExecuteTime": {
     "end_time": "2025-01-29T20:39:10.852792Z",
     "start_time": "2025-01-29T20:39:10.842834Z"
    }
   },
   "source": [
    "unique_countries_alcohol_consumption = merged_df[['CountryDisplay', 'RegionDisplay', 'beer_servings', 'spirit_servings', 'wine_servings', 'total_litres_of_pure_alcohol']].drop_duplicates(subset='CountryDisplay')\n",
    "continent_alcohol_consumption_avg = unique_countries_alcohol_consumption.groupby('RegionDisplay').mean(numeric_only=True)\n",
    "continent_alcohol_consumption_avg"
   ],
   "outputs": [
    {
     "data": {
      "text/plain": [
       "                       beer_servings  spirit_servings  wine_servings  \\\n",
       "RegionDisplay                                                          \n",
       "Africa                     68.826087        17.304348      18.000000   \n",
       "Americas                  155.600000       148.257143      37.514286   \n",
       "Eastern Mediterranean      10.428571        21.190476       4.857143   \n",
       "Europe                    175.132075       130.415094     123.528302   \n",
       "South_East Asia            14.818182        44.090909       0.454545   \n",
       "Western Pacific            81.962963        66.851852      27.740741   \n",
       "\n",
       "                       total_litres_of_pure_alcohol  \n",
       "RegionDisplay                                        \n",
       "Africa                                     3.360870  \n",
       "Americas                                   6.102857  \n",
       "Eastern Mediterranean                      0.714286  \n",
       "Europe                                     7.873585  \n",
       "South_East Asia                            1.063636  \n",
       "Western Pacific                            3.637037  "
      ],
      "text/html": [
       "<div>\n",
       "<style scoped>\n",
       "    .dataframe tbody tr th:only-of-type {\n",
       "        vertical-align: middle;\n",
       "    }\n",
       "\n",
       "    .dataframe tbody tr th {\n",
       "        vertical-align: top;\n",
       "    }\n",
       "\n",
       "    .dataframe thead th {\n",
       "        text-align: right;\n",
       "    }\n",
       "</style>\n",
       "<table border=\"1\" class=\"dataframe\">\n",
       "  <thead>\n",
       "    <tr style=\"text-align: right;\">\n",
       "      <th></th>\n",
       "      <th>beer_servings</th>\n",
       "      <th>spirit_servings</th>\n",
       "      <th>wine_servings</th>\n",
       "      <th>total_litres_of_pure_alcohol</th>\n",
       "    </tr>\n",
       "    <tr>\n",
       "      <th>RegionDisplay</th>\n",
       "      <th></th>\n",
       "      <th></th>\n",
       "      <th></th>\n",
       "      <th></th>\n",
       "    </tr>\n",
       "  </thead>\n",
       "  <tbody>\n",
       "    <tr>\n",
       "      <th>Africa</th>\n",
       "      <td>68.826087</td>\n",
       "      <td>17.304348</td>\n",
       "      <td>18.000000</td>\n",
       "      <td>3.360870</td>\n",
       "    </tr>\n",
       "    <tr>\n",
       "      <th>Americas</th>\n",
       "      <td>155.600000</td>\n",
       "      <td>148.257143</td>\n",
       "      <td>37.514286</td>\n",
       "      <td>6.102857</td>\n",
       "    </tr>\n",
       "    <tr>\n",
       "      <th>Eastern Mediterranean</th>\n",
       "      <td>10.428571</td>\n",
       "      <td>21.190476</td>\n",
       "      <td>4.857143</td>\n",
       "      <td>0.714286</td>\n",
       "    </tr>\n",
       "    <tr>\n",
       "      <th>Europe</th>\n",
       "      <td>175.132075</td>\n",
       "      <td>130.415094</td>\n",
       "      <td>123.528302</td>\n",
       "      <td>7.873585</td>\n",
       "    </tr>\n",
       "    <tr>\n",
       "      <th>South_East Asia</th>\n",
       "      <td>14.818182</td>\n",
       "      <td>44.090909</td>\n",
       "      <td>0.454545</td>\n",
       "      <td>1.063636</td>\n",
       "    </tr>\n",
       "    <tr>\n",
       "      <th>Western Pacific</th>\n",
       "      <td>81.962963</td>\n",
       "      <td>66.851852</td>\n",
       "      <td>27.740741</td>\n",
       "      <td>3.637037</td>\n",
       "    </tr>\n",
       "  </tbody>\n",
       "</table>\n",
       "</div>"
      ]
     },
     "execution_count": 241,
     "metadata": {},
     "output_type": "execute_result"
    }
   ],
   "execution_count": 241
  },
  {
   "cell_type": "markdown",
   "metadata": {
    "id": "iQ3Q-4AMZKgk"
   },
   "source": [
    "### 16"
   ]
  },
  {
   "cell_type": "markdown",
   "metadata": {
    "id": "brZ1VUheZKgk"
   },
   "source": [
    "Создание новых признаков (feature engineering) является одним из основных средств улучшения качества работы алгоритмов машинного обучения на этапе обработки данных, а также отличный способ увеличить глубину ваших выводов из проделанного анализа в целом! Частично мы с вами уже осуществляли feature engineering, когда добавляли новые столбцы в задании 13 данного раздела.\n",
    "\n",
    "Теперь давайте добавим в таблицу столбец, который будет показывать, какое общее количество servings per person производится в среднем по стране, к которой относится научная статья. Столбец для этого признака назовите 'total_servings'.\n",
    "\n",
    "Чем может быть полезен такой признак?\n",
    "\n",
    "***Бонус (2 бон. балла):*** Придумайте еще какой-нибудь свой осмысленный признак, который может быть полезен для анализа (несет в себе какую-то информацию), и добавьте его в таблицу. Обязательно аргументируйте, чем полезен ваш признак."
   ]
  },
  {
   "cell_type": "code",
   "metadata": {
    "collapsed": true,
    "id": "IUpwi7PmZKgk",
    "ExecuteTime": {
     "end_time": "2025-01-29T20:39:10.984399Z",
     "start_time": "2025-01-29T20:39:10.969347Z"
    }
   },
   "source": [
    "merged_df['total_servings'] = merged_df['beer_servings'] + merged_df['spirit_servings'] + merged_df['wine_servings']\n",
    "merged_df"
   ],
   "outputs": [
    {
     "data": {
      "text/plain": [
       "      index_x                                       GhoDisplay  \\\n",
       "0           0                 Life expectancy at birth (years)   \n",
       "1           1  Healthy life expectancy (HALE) at birth (years)   \n",
       "2           2                 Life expectancy at birth (years)   \n",
       "3           3                 Life expectancy at birth (years)   \n",
       "4           4                Life expectancy at age 60 (years)   \n",
       "...       ...                                              ...   \n",
       "6364     6403                 Life expectancy at birth (years)   \n",
       "6365     6404                Life expectancy at age 60 (years)   \n",
       "6366     6405                 Life expectancy at birth (years)   \n",
       "6367     6406  Healthy life expectancy (HALE) at birth (years)   \n",
       "6368     6407                 Life expectancy at birth (years)   \n",
       "\n",
       "              RegionDisplay CountryDisplay  SexDisplay   Numeric  index_y  \\\n",
       "0                  Americas      Nicaragua        Male  68.00000      122   \n",
       "1                    Europe        Ireland        Male  69.30000       81   \n",
       "2     Eastern Mediterranean          Yemen  Both sexes  61.00000      190   \n",
       "3                    Africa        Nigeria      Female  48.00000      124   \n",
       "4           South_East Asia       Thailand      Female  19.00000      169   \n",
       "...                     ...            ...         ...       ...      ...   \n",
       "6364  Eastern Mediterranean        Morocco  Both sexes  68.00000      114   \n",
       "6365        Western Pacific          Palau  Both sexes  16.00000      129   \n",
       "6366                 Africa   Burkina Faso      Female  51.00000       26   \n",
       "6367                 Europe        Albania        Male  63.50000        1   \n",
       "6368                 Europe        Armenia  Both sexes  71.02699        7   \n",
       "\n",
       "           country  beer_servings  spirit_servings  wine_servings  \\\n",
       "0        Nicaragua             78              118              1   \n",
       "1          Ireland            313              118            165   \n",
       "2            Yemen              6                0              0   \n",
       "3          Nigeria             42                5              2   \n",
       "4         Thailand             99              258              1   \n",
       "...            ...            ...              ...            ...   \n",
       "6364       Morocco             12                6             10   \n",
       "6365         Palau            306               63             23   \n",
       "6366  Burkina Faso             25                7              7   \n",
       "6367       Albania             89              132             54   \n",
       "6368       Armenia             21              179             11   \n",
       "\n",
       "      total_litres_of_pure_alcohol  life_exp_mean  alc_consump_mean  \\\n",
       "0                              3.5      72.667402               3.5   \n",
       "1                             11.4      69.911111              11.4   \n",
       "2                              0.1      61.567050               0.1   \n",
       "3                              9.1      50.473338               9.1   \n",
       "4                              6.4      19.895824               6.4   \n",
       "...                            ...            ...               ...   \n",
       "6364                           0.5      68.574297               0.5   \n",
       "6365                           6.9      17.313487               6.9   \n",
       "6366                           4.3      53.880190               4.3   \n",
       "6367                           4.9      63.800000               4.9   \n",
       "6368                           3.8      70.046697               3.8   \n",
       "\n",
       "      total_servings  \n",
       "0                197  \n",
       "1                596  \n",
       "2                  6  \n",
       "3                 49  \n",
       "4                358  \n",
       "...              ...  \n",
       "6364              28  \n",
       "6365             392  \n",
       "6366              39  \n",
       "6367             275  \n",
       "6368             211  \n",
       "\n",
       "[6369 rows x 15 columns]"
      ],
      "text/html": [
       "<div>\n",
       "<style scoped>\n",
       "    .dataframe tbody tr th:only-of-type {\n",
       "        vertical-align: middle;\n",
       "    }\n",
       "\n",
       "    .dataframe tbody tr th {\n",
       "        vertical-align: top;\n",
       "    }\n",
       "\n",
       "    .dataframe thead th {\n",
       "        text-align: right;\n",
       "    }\n",
       "</style>\n",
       "<table border=\"1\" class=\"dataframe\">\n",
       "  <thead>\n",
       "    <tr style=\"text-align: right;\">\n",
       "      <th></th>\n",
       "      <th>index_x</th>\n",
       "      <th>GhoDisplay</th>\n",
       "      <th>RegionDisplay</th>\n",
       "      <th>CountryDisplay</th>\n",
       "      <th>SexDisplay</th>\n",
       "      <th>Numeric</th>\n",
       "      <th>index_y</th>\n",
       "      <th>country</th>\n",
       "      <th>beer_servings</th>\n",
       "      <th>spirit_servings</th>\n",
       "      <th>wine_servings</th>\n",
       "      <th>total_litres_of_pure_alcohol</th>\n",
       "      <th>life_exp_mean</th>\n",
       "      <th>alc_consump_mean</th>\n",
       "      <th>total_servings</th>\n",
       "    </tr>\n",
       "  </thead>\n",
       "  <tbody>\n",
       "    <tr>\n",
       "      <th>0</th>\n",
       "      <td>0</td>\n",
       "      <td>Life expectancy at birth (years)</td>\n",
       "      <td>Americas</td>\n",
       "      <td>Nicaragua</td>\n",
       "      <td>Male</td>\n",
       "      <td>68.00000</td>\n",
       "      <td>122</td>\n",
       "      <td>Nicaragua</td>\n",
       "      <td>78</td>\n",
       "      <td>118</td>\n",
       "      <td>1</td>\n",
       "      <td>3.5</td>\n",
       "      <td>72.667402</td>\n",
       "      <td>3.5</td>\n",
       "      <td>197</td>\n",
       "    </tr>\n",
       "    <tr>\n",
       "      <th>1</th>\n",
       "      <td>1</td>\n",
       "      <td>Healthy life expectancy (HALE) at birth (years)</td>\n",
       "      <td>Europe</td>\n",
       "      <td>Ireland</td>\n",
       "      <td>Male</td>\n",
       "      <td>69.30000</td>\n",
       "      <td>81</td>\n",
       "      <td>Ireland</td>\n",
       "      <td>313</td>\n",
       "      <td>118</td>\n",
       "      <td>165</td>\n",
       "      <td>11.4</td>\n",
       "      <td>69.911111</td>\n",
       "      <td>11.4</td>\n",
       "      <td>596</td>\n",
       "    </tr>\n",
       "    <tr>\n",
       "      <th>2</th>\n",
       "      <td>2</td>\n",
       "      <td>Life expectancy at birth (years)</td>\n",
       "      <td>Eastern Mediterranean</td>\n",
       "      <td>Yemen</td>\n",
       "      <td>Both sexes</td>\n",
       "      <td>61.00000</td>\n",
       "      <td>190</td>\n",
       "      <td>Yemen</td>\n",
       "      <td>6</td>\n",
       "      <td>0</td>\n",
       "      <td>0</td>\n",
       "      <td>0.1</td>\n",
       "      <td>61.567050</td>\n",
       "      <td>0.1</td>\n",
       "      <td>6</td>\n",
       "    </tr>\n",
       "    <tr>\n",
       "      <th>3</th>\n",
       "      <td>3</td>\n",
       "      <td>Life expectancy at birth (years)</td>\n",
       "      <td>Africa</td>\n",
       "      <td>Nigeria</td>\n",
       "      <td>Female</td>\n",
       "      <td>48.00000</td>\n",
       "      <td>124</td>\n",
       "      <td>Nigeria</td>\n",
       "      <td>42</td>\n",
       "      <td>5</td>\n",
       "      <td>2</td>\n",
       "      <td>9.1</td>\n",
       "      <td>50.473338</td>\n",
       "      <td>9.1</td>\n",
       "      <td>49</td>\n",
       "    </tr>\n",
       "    <tr>\n",
       "      <th>4</th>\n",
       "      <td>4</td>\n",
       "      <td>Life expectancy at age 60 (years)</td>\n",
       "      <td>South_East Asia</td>\n",
       "      <td>Thailand</td>\n",
       "      <td>Female</td>\n",
       "      <td>19.00000</td>\n",
       "      <td>169</td>\n",
       "      <td>Thailand</td>\n",
       "      <td>99</td>\n",
       "      <td>258</td>\n",
       "      <td>1</td>\n",
       "      <td>6.4</td>\n",
       "      <td>19.895824</td>\n",
       "      <td>6.4</td>\n",
       "      <td>358</td>\n",
       "    </tr>\n",
       "    <tr>\n",
       "      <th>...</th>\n",
       "      <td>...</td>\n",
       "      <td>...</td>\n",
       "      <td>...</td>\n",
       "      <td>...</td>\n",
       "      <td>...</td>\n",
       "      <td>...</td>\n",
       "      <td>...</td>\n",
       "      <td>...</td>\n",
       "      <td>...</td>\n",
       "      <td>...</td>\n",
       "      <td>...</td>\n",
       "      <td>...</td>\n",
       "      <td>...</td>\n",
       "      <td>...</td>\n",
       "      <td>...</td>\n",
       "    </tr>\n",
       "    <tr>\n",
       "      <th>6364</th>\n",
       "      <td>6403</td>\n",
       "      <td>Life expectancy at birth (years)</td>\n",
       "      <td>Eastern Mediterranean</td>\n",
       "      <td>Morocco</td>\n",
       "      <td>Both sexes</td>\n",
       "      <td>68.00000</td>\n",
       "      <td>114</td>\n",
       "      <td>Morocco</td>\n",
       "      <td>12</td>\n",
       "      <td>6</td>\n",
       "      <td>10</td>\n",
       "      <td>0.5</td>\n",
       "      <td>68.574297</td>\n",
       "      <td>0.5</td>\n",
       "      <td>28</td>\n",
       "    </tr>\n",
       "    <tr>\n",
       "      <th>6365</th>\n",
       "      <td>6404</td>\n",
       "      <td>Life expectancy at age 60 (years)</td>\n",
       "      <td>Western Pacific</td>\n",
       "      <td>Palau</td>\n",
       "      <td>Both sexes</td>\n",
       "      <td>16.00000</td>\n",
       "      <td>129</td>\n",
       "      <td>Palau</td>\n",
       "      <td>306</td>\n",
       "      <td>63</td>\n",
       "      <td>23</td>\n",
       "      <td>6.9</td>\n",
       "      <td>17.313487</td>\n",
       "      <td>6.9</td>\n",
       "      <td>392</td>\n",
       "    </tr>\n",
       "    <tr>\n",
       "      <th>6366</th>\n",
       "      <td>6405</td>\n",
       "      <td>Life expectancy at birth (years)</td>\n",
       "      <td>Africa</td>\n",
       "      <td>Burkina Faso</td>\n",
       "      <td>Female</td>\n",
       "      <td>51.00000</td>\n",
       "      <td>26</td>\n",
       "      <td>Burkina Faso</td>\n",
       "      <td>25</td>\n",
       "      <td>7</td>\n",
       "      <td>7</td>\n",
       "      <td>4.3</td>\n",
       "      <td>53.880190</td>\n",
       "      <td>4.3</td>\n",
       "      <td>39</td>\n",
       "    </tr>\n",
       "    <tr>\n",
       "      <th>6367</th>\n",
       "      <td>6406</td>\n",
       "      <td>Healthy life expectancy (HALE) at birth (years)</td>\n",
       "      <td>Europe</td>\n",
       "      <td>Albania</td>\n",
       "      <td>Male</td>\n",
       "      <td>63.50000</td>\n",
       "      <td>1</td>\n",
       "      <td>Albania</td>\n",
       "      <td>89</td>\n",
       "      <td>132</td>\n",
       "      <td>54</td>\n",
       "      <td>4.9</td>\n",
       "      <td>63.800000</td>\n",
       "      <td>4.9</td>\n",
       "      <td>275</td>\n",
       "    </tr>\n",
       "    <tr>\n",
       "      <th>6368</th>\n",
       "      <td>6407</td>\n",
       "      <td>Life expectancy at birth (years)</td>\n",
       "      <td>Europe</td>\n",
       "      <td>Armenia</td>\n",
       "      <td>Both sexes</td>\n",
       "      <td>71.02699</td>\n",
       "      <td>7</td>\n",
       "      <td>Armenia</td>\n",
       "      <td>21</td>\n",
       "      <td>179</td>\n",
       "      <td>11</td>\n",
       "      <td>3.8</td>\n",
       "      <td>70.046697</td>\n",
       "      <td>3.8</td>\n",
       "      <td>211</td>\n",
       "    </tr>\n",
       "  </tbody>\n",
       "</table>\n",
       "<p>6369 rows × 15 columns</p>\n",
       "</div>"
      ]
     },
     "execution_count": 242,
     "metadata": {},
     "output_type": "execute_result"
    }
   ],
   "execution_count": 242
  },
  {
   "metadata": {},
   "cell_type": "markdown",
   "source": [
    "- Столбец total_servings представляет собой агрегированный показатель, который может быть полезен для оценки общего уровня потребления алкоголя в разных странах.\n",
    "- Наличие этого показателя в датасете позволяет провести более глубокий анализ взаимосвязи между уровнем потребления алкоголя и другими исследуемыми переменными, такими как продолжительность жизни."
   ]
  },
  {
   "metadata": {
    "ExecuteTime": {
     "end_time": "2025-01-29T20:39:11.128173Z",
     "start_time": "2025-01-29T20:39:11.111995Z"
    }
   },
   "cell_type": "code",
   "source": [
    "merged_df['avg_alcohol_per_serving'] = merged_df['total_litres_of_pure_alcohol'] / merged_df['total_servings']\n",
    "merged_df"
   ],
   "outputs": [
    {
     "data": {
      "text/plain": [
       "      index_x                                       GhoDisplay  \\\n",
       "0           0                 Life expectancy at birth (years)   \n",
       "1           1  Healthy life expectancy (HALE) at birth (years)   \n",
       "2           2                 Life expectancy at birth (years)   \n",
       "3           3                 Life expectancy at birth (years)   \n",
       "4           4                Life expectancy at age 60 (years)   \n",
       "...       ...                                              ...   \n",
       "6364     6403                 Life expectancy at birth (years)   \n",
       "6365     6404                Life expectancy at age 60 (years)   \n",
       "6366     6405                 Life expectancy at birth (years)   \n",
       "6367     6406  Healthy life expectancy (HALE) at birth (years)   \n",
       "6368     6407                 Life expectancy at birth (years)   \n",
       "\n",
       "              RegionDisplay CountryDisplay  SexDisplay   Numeric  index_y  \\\n",
       "0                  Americas      Nicaragua        Male  68.00000      122   \n",
       "1                    Europe        Ireland        Male  69.30000       81   \n",
       "2     Eastern Mediterranean          Yemen  Both sexes  61.00000      190   \n",
       "3                    Africa        Nigeria      Female  48.00000      124   \n",
       "4           South_East Asia       Thailand      Female  19.00000      169   \n",
       "...                     ...            ...         ...       ...      ...   \n",
       "6364  Eastern Mediterranean        Morocco  Both sexes  68.00000      114   \n",
       "6365        Western Pacific          Palau  Both sexes  16.00000      129   \n",
       "6366                 Africa   Burkina Faso      Female  51.00000       26   \n",
       "6367                 Europe        Albania        Male  63.50000        1   \n",
       "6368                 Europe        Armenia  Both sexes  71.02699        7   \n",
       "\n",
       "           country  beer_servings  spirit_servings  wine_servings  \\\n",
       "0        Nicaragua             78              118              1   \n",
       "1          Ireland            313              118            165   \n",
       "2            Yemen              6                0              0   \n",
       "3          Nigeria             42                5              2   \n",
       "4         Thailand             99              258              1   \n",
       "...            ...            ...              ...            ...   \n",
       "6364       Morocco             12                6             10   \n",
       "6365         Palau            306               63             23   \n",
       "6366  Burkina Faso             25                7              7   \n",
       "6367       Albania             89              132             54   \n",
       "6368       Armenia             21              179             11   \n",
       "\n",
       "      total_litres_of_pure_alcohol  life_exp_mean  alc_consump_mean  \\\n",
       "0                              3.5      72.667402               3.5   \n",
       "1                             11.4      69.911111              11.4   \n",
       "2                              0.1      61.567050               0.1   \n",
       "3                              9.1      50.473338               9.1   \n",
       "4                              6.4      19.895824               6.4   \n",
       "...                            ...            ...               ...   \n",
       "6364                           0.5      68.574297               0.5   \n",
       "6365                           6.9      17.313487               6.9   \n",
       "6366                           4.3      53.880190               4.3   \n",
       "6367                           4.9      63.800000               4.9   \n",
       "6368                           3.8      70.046697               3.8   \n",
       "\n",
       "      total_servings  avg_alcohol_per_serving  \n",
       "0                197                 0.017766  \n",
       "1                596                 0.019128  \n",
       "2                  6                 0.016667  \n",
       "3                 49                 0.185714  \n",
       "4                358                 0.017877  \n",
       "...              ...                      ...  \n",
       "6364              28                 0.017857  \n",
       "6365             392                 0.017602  \n",
       "6366              39                 0.110256  \n",
       "6367             275                 0.017818  \n",
       "6368             211                 0.018009  \n",
       "\n",
       "[6369 rows x 16 columns]"
      ],
      "text/html": [
       "<div>\n",
       "<style scoped>\n",
       "    .dataframe tbody tr th:only-of-type {\n",
       "        vertical-align: middle;\n",
       "    }\n",
       "\n",
       "    .dataframe tbody tr th {\n",
       "        vertical-align: top;\n",
       "    }\n",
       "\n",
       "    .dataframe thead th {\n",
       "        text-align: right;\n",
       "    }\n",
       "</style>\n",
       "<table border=\"1\" class=\"dataframe\">\n",
       "  <thead>\n",
       "    <tr style=\"text-align: right;\">\n",
       "      <th></th>\n",
       "      <th>index_x</th>\n",
       "      <th>GhoDisplay</th>\n",
       "      <th>RegionDisplay</th>\n",
       "      <th>CountryDisplay</th>\n",
       "      <th>SexDisplay</th>\n",
       "      <th>Numeric</th>\n",
       "      <th>index_y</th>\n",
       "      <th>country</th>\n",
       "      <th>beer_servings</th>\n",
       "      <th>spirit_servings</th>\n",
       "      <th>wine_servings</th>\n",
       "      <th>total_litres_of_pure_alcohol</th>\n",
       "      <th>life_exp_mean</th>\n",
       "      <th>alc_consump_mean</th>\n",
       "      <th>total_servings</th>\n",
       "      <th>avg_alcohol_per_serving</th>\n",
       "    </tr>\n",
       "  </thead>\n",
       "  <tbody>\n",
       "    <tr>\n",
       "      <th>0</th>\n",
       "      <td>0</td>\n",
       "      <td>Life expectancy at birth (years)</td>\n",
       "      <td>Americas</td>\n",
       "      <td>Nicaragua</td>\n",
       "      <td>Male</td>\n",
       "      <td>68.00000</td>\n",
       "      <td>122</td>\n",
       "      <td>Nicaragua</td>\n",
       "      <td>78</td>\n",
       "      <td>118</td>\n",
       "      <td>1</td>\n",
       "      <td>3.5</td>\n",
       "      <td>72.667402</td>\n",
       "      <td>3.5</td>\n",
       "      <td>197</td>\n",
       "      <td>0.017766</td>\n",
       "    </tr>\n",
       "    <tr>\n",
       "      <th>1</th>\n",
       "      <td>1</td>\n",
       "      <td>Healthy life expectancy (HALE) at birth (years)</td>\n",
       "      <td>Europe</td>\n",
       "      <td>Ireland</td>\n",
       "      <td>Male</td>\n",
       "      <td>69.30000</td>\n",
       "      <td>81</td>\n",
       "      <td>Ireland</td>\n",
       "      <td>313</td>\n",
       "      <td>118</td>\n",
       "      <td>165</td>\n",
       "      <td>11.4</td>\n",
       "      <td>69.911111</td>\n",
       "      <td>11.4</td>\n",
       "      <td>596</td>\n",
       "      <td>0.019128</td>\n",
       "    </tr>\n",
       "    <tr>\n",
       "      <th>2</th>\n",
       "      <td>2</td>\n",
       "      <td>Life expectancy at birth (years)</td>\n",
       "      <td>Eastern Mediterranean</td>\n",
       "      <td>Yemen</td>\n",
       "      <td>Both sexes</td>\n",
       "      <td>61.00000</td>\n",
       "      <td>190</td>\n",
       "      <td>Yemen</td>\n",
       "      <td>6</td>\n",
       "      <td>0</td>\n",
       "      <td>0</td>\n",
       "      <td>0.1</td>\n",
       "      <td>61.567050</td>\n",
       "      <td>0.1</td>\n",
       "      <td>6</td>\n",
       "      <td>0.016667</td>\n",
       "    </tr>\n",
       "    <tr>\n",
       "      <th>3</th>\n",
       "      <td>3</td>\n",
       "      <td>Life expectancy at birth (years)</td>\n",
       "      <td>Africa</td>\n",
       "      <td>Nigeria</td>\n",
       "      <td>Female</td>\n",
       "      <td>48.00000</td>\n",
       "      <td>124</td>\n",
       "      <td>Nigeria</td>\n",
       "      <td>42</td>\n",
       "      <td>5</td>\n",
       "      <td>2</td>\n",
       "      <td>9.1</td>\n",
       "      <td>50.473338</td>\n",
       "      <td>9.1</td>\n",
       "      <td>49</td>\n",
       "      <td>0.185714</td>\n",
       "    </tr>\n",
       "    <tr>\n",
       "      <th>4</th>\n",
       "      <td>4</td>\n",
       "      <td>Life expectancy at age 60 (years)</td>\n",
       "      <td>South_East Asia</td>\n",
       "      <td>Thailand</td>\n",
       "      <td>Female</td>\n",
       "      <td>19.00000</td>\n",
       "      <td>169</td>\n",
       "      <td>Thailand</td>\n",
       "      <td>99</td>\n",
       "      <td>258</td>\n",
       "      <td>1</td>\n",
       "      <td>6.4</td>\n",
       "      <td>19.895824</td>\n",
       "      <td>6.4</td>\n",
       "      <td>358</td>\n",
       "      <td>0.017877</td>\n",
       "    </tr>\n",
       "    <tr>\n",
       "      <th>...</th>\n",
       "      <td>...</td>\n",
       "      <td>...</td>\n",
       "      <td>...</td>\n",
       "      <td>...</td>\n",
       "      <td>...</td>\n",
       "      <td>...</td>\n",
       "      <td>...</td>\n",
       "      <td>...</td>\n",
       "      <td>...</td>\n",
       "      <td>...</td>\n",
       "      <td>...</td>\n",
       "      <td>...</td>\n",
       "      <td>...</td>\n",
       "      <td>...</td>\n",
       "      <td>...</td>\n",
       "      <td>...</td>\n",
       "    </tr>\n",
       "    <tr>\n",
       "      <th>6364</th>\n",
       "      <td>6403</td>\n",
       "      <td>Life expectancy at birth (years)</td>\n",
       "      <td>Eastern Mediterranean</td>\n",
       "      <td>Morocco</td>\n",
       "      <td>Both sexes</td>\n",
       "      <td>68.00000</td>\n",
       "      <td>114</td>\n",
       "      <td>Morocco</td>\n",
       "      <td>12</td>\n",
       "      <td>6</td>\n",
       "      <td>10</td>\n",
       "      <td>0.5</td>\n",
       "      <td>68.574297</td>\n",
       "      <td>0.5</td>\n",
       "      <td>28</td>\n",
       "      <td>0.017857</td>\n",
       "    </tr>\n",
       "    <tr>\n",
       "      <th>6365</th>\n",
       "      <td>6404</td>\n",
       "      <td>Life expectancy at age 60 (years)</td>\n",
       "      <td>Western Pacific</td>\n",
       "      <td>Palau</td>\n",
       "      <td>Both sexes</td>\n",
       "      <td>16.00000</td>\n",
       "      <td>129</td>\n",
       "      <td>Palau</td>\n",
       "      <td>306</td>\n",
       "      <td>63</td>\n",
       "      <td>23</td>\n",
       "      <td>6.9</td>\n",
       "      <td>17.313487</td>\n",
       "      <td>6.9</td>\n",
       "      <td>392</td>\n",
       "      <td>0.017602</td>\n",
       "    </tr>\n",
       "    <tr>\n",
       "      <th>6366</th>\n",
       "      <td>6405</td>\n",
       "      <td>Life expectancy at birth (years)</td>\n",
       "      <td>Africa</td>\n",
       "      <td>Burkina Faso</td>\n",
       "      <td>Female</td>\n",
       "      <td>51.00000</td>\n",
       "      <td>26</td>\n",
       "      <td>Burkina Faso</td>\n",
       "      <td>25</td>\n",
       "      <td>7</td>\n",
       "      <td>7</td>\n",
       "      <td>4.3</td>\n",
       "      <td>53.880190</td>\n",
       "      <td>4.3</td>\n",
       "      <td>39</td>\n",
       "      <td>0.110256</td>\n",
       "    </tr>\n",
       "    <tr>\n",
       "      <th>6367</th>\n",
       "      <td>6406</td>\n",
       "      <td>Healthy life expectancy (HALE) at birth (years)</td>\n",
       "      <td>Europe</td>\n",
       "      <td>Albania</td>\n",
       "      <td>Male</td>\n",
       "      <td>63.50000</td>\n",
       "      <td>1</td>\n",
       "      <td>Albania</td>\n",
       "      <td>89</td>\n",
       "      <td>132</td>\n",
       "      <td>54</td>\n",
       "      <td>4.9</td>\n",
       "      <td>63.800000</td>\n",
       "      <td>4.9</td>\n",
       "      <td>275</td>\n",
       "      <td>0.017818</td>\n",
       "    </tr>\n",
       "    <tr>\n",
       "      <th>6368</th>\n",
       "      <td>6407</td>\n",
       "      <td>Life expectancy at birth (years)</td>\n",
       "      <td>Europe</td>\n",
       "      <td>Armenia</td>\n",
       "      <td>Both sexes</td>\n",
       "      <td>71.02699</td>\n",
       "      <td>7</td>\n",
       "      <td>Armenia</td>\n",
       "      <td>21</td>\n",
       "      <td>179</td>\n",
       "      <td>11</td>\n",
       "      <td>3.8</td>\n",
       "      <td>70.046697</td>\n",
       "      <td>3.8</td>\n",
       "      <td>211</td>\n",
       "      <td>0.018009</td>\n",
       "    </tr>\n",
       "  </tbody>\n",
       "</table>\n",
       "<p>6369 rows × 16 columns</p>\n",
       "</div>"
      ]
     },
     "execution_count": 243,
     "metadata": {},
     "output_type": "execute_result"
    }
   ],
   "execution_count": 243
  },
  {
   "metadata": {},
   "cell_type": "markdown",
   "source": "Я решил добавить признак, описывающий какое количество чистого алкоголя в среднем приходится на одну порцию. Это может быть полезно при оценке концентрации алкоголя: например в одной стране очень много порций, но и люди там употребляют в основном пиво - концентрация будет низкой. Также по одному лишь этому признаку можно сравнить две страны и сказать, где потребление алкоголя слабее или крепче."
  },
  {
   "cell_type": "markdown",
   "metadata": {
    "id": "XlDxz7oNZKgl"
   },
   "source": [
    "### 17"
   ]
  },
  {
   "cell_type": "markdown",
   "metadata": {
    "id": "cWu51pYuZKgm"
   },
   "source": [
    "Есть ли в данных категориальные признаки, которые принимают значения строк, а не чисел? Если да, то для многих алгоритмов это может стать серьезным препятствием, поэтому закодируйте категориальные признаки так, чтобы к данным можно было применить любые алгоритмы. Аргументируйте выбор методов кодирования.\n",
    "\n",
    "*Подсказка. Вам могут помочь Label encoding и One-Hot Encoding. Но будьте внимательны! У каждого из этих методов есть свои сильные и слабые стороны, а также ограничения применимости.*"
   ]
  },
  {
   "cell_type": "code",
   "metadata": {
    "collapsed": true,
    "id": "KlP_Pz31ZKgm",
    "ExecuteTime": {
     "end_time": "2025-01-29T20:39:11.282096Z",
     "start_time": "2025-01-29T20:39:11.275974Z"
    }
   },
   "source": [
    "merged_df['SexDisplay'] = merged_df['SexDisplay'].replace({'Male': 1, 'Female': 2, 'Both sexes': 3})\n",
    "merged_df['SexDisplay'] = merged_df['SexDisplay'].replace({'Life expectancy at birth (years)': 1,\n",
    "                                                           'Life expectancy at age 60 (years)': 2,\n",
    "                                                           'Healthy life expectancy (HALE) at birth (years)': 3})"
   ],
   "outputs": [
    {
     "name": "stderr",
     "output_type": "stream",
     "text": [
      "C:\\Users\\D\\AppData\\Local\\Temp\\ipykernel_13616\\4187025585.py:1: FutureWarning: Downcasting behavior in `replace` is deprecated and will be removed in a future version. To retain the old behavior, explicitly call `result.infer_objects(copy=False)`. To opt-in to the future behavior, set `pd.set_option('future.no_silent_downcasting', True)`\n",
      "  merged_df['SexDisplay'] = merged_df['SexDisplay'].replace({'Male': 1, 'Female': 2, 'Both sexes': 3})\n"
     ]
    }
   ],
   "execution_count": 244
  },
  {
   "metadata": {},
   "cell_type": "markdown",
   "source": "Эти два признака принимают ограниченное количество значений и могут быть легко представлены числами без потери информации."
  },
  {
   "cell_type": "markdown",
   "metadata": {
    "id": "v3DjKVAlZKgk"
   },
   "source": [
    "### 18"
   ]
  },
  {
   "cell_type": "markdown",
   "metadata": {
    "id": "CJrnBovsZKgk"
   },
   "source": [
    "Придумайте какое-нибудь своё интересное задание на анализ предлагаемых данных и решите его.\n",
    "\n",
    "Креативность в этом задании приветствуется, и за нее можно получить ***1-2 бонусных балла***!\n",
    "\n",
    "*Подсказка. Вы можете вдохновляться различными заданиями из этого раздела ДЗ, как, например, заданиями: 4, 6, 10, 12, 14, 15, 16. Но, чтобы получить бонусные баллы, лучше не используйте аналогичные идеи, а придумайте что-то своё!*"
   ]
  },
  {
   "metadata": {
    "ExecuteTime": {
     "end_time": "2025-01-29T20:39:11.474295Z",
     "start_time": "2025-01-29T20:39:11.469787Z"
    }
   },
   "cell_type": "code",
   "source": "# your code here",
   "outputs": [],
   "execution_count": 245
  },
  {
   "cell_type": "markdown",
   "metadata": {
    "id": "rGRobnalZKgm"
   },
   "source": [
    "## Бонусная часть на анализ целевой переменной (до 5 бонусных баллов)"
   ]
  },
  {
   "cell_type": "markdown",
   "source": [
    "После всего проделанного анализа и подготовки данных мы можем перейти непосредственно к ответу на исходный вопрос исследования, который был сформулирован вами в задании 3 данного раздела."
   ],
   "metadata": {
    "id": "6yIziTqLNLbj"
   }
  },
  {
   "cell_type": "markdown",
   "metadata": {
    "id": "RmEQBtkJZKgm"
   },
   "source": [
    "### 19\n",
    "\n",
    "***Бонус (5 бон. баллов):*** Дайте развернутый, обоснованный, подкрепленный данными и написанным вами кодом ответ на вопрос, влияют ли признаки зависимой таблицы на целевую переменную из главной таблицы и, если да, то каким именно образом влияют?\n",
    "\n",
    "Обязательно аргументируйте полученные вами результаты и выводы. Чем подробнее и обоснованнее анализ вы проведете в рамках данного бонусного задания, тем больше бонусных баллов получите! Вы можете использовать подходы и методы из рассмотренных на семинаре и в рамках данного домашнего задания, а можете придумать и что-то своё. Креативность максимально приветствуется!"
   ]
  },
  {
   "cell_type": "code",
   "metadata": {
    "collapsed": true,
    "id": "hbkcHR3bZKgm",
    "ExecuteTime": {
     "end_time": "2025-01-29T20:39:11.596342Z",
     "start_time": "2025-01-29T20:39:11.589994Z"
    }
   },
   "source": [
    "# your code here"
   ],
   "outputs": [],
   "execution_count": 246
  },
  {
   "cell_type": "markdown",
   "source": [
    "    {your final conclusion here}"
   ],
   "metadata": {
    "id": "UMiAKN_xPf-E"
   }
  }
 ],
 "metadata": {
  "kernelspec": {
   "display_name": "Python 3",
   "language": "python",
   "name": "python3"
  },
  "language_info": {
   "codemirror_mode": {
    "name": "ipython",
    "version": 3
   },
   "file_extension": ".py",
   "mimetype": "text/x-python",
   "name": "python",
   "nbconvert_exporter": "python",
   "pygments_lexer": "ipython3",
   "version": "3.6.3"
  },
  "colab": {
   "provenance": []
  }
 },
 "nbformat": 4,
 "nbformat_minor": 0
}
