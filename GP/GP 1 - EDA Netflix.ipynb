{
 "nbformat": 4,
 "nbformat_minor": 0,
 "metadata": {
  "colab": {
   "provenance": []
  },
  "kernelspec": {
   "name": "python3",
   "display_name": "Python 3 (ipykernel)",
   "language": "python"
  },
  "language_info": {
   "name": "python"
  }
 },
 "cells": [
  {
   "cell_type": "markdown",
   "metadata": {
    "id": "f1gL2DEfNRGu"
   },
   "source": [
    "# Современные методы анализа данных и машинного обучения, БИ\n",
    "\n",
    "## НИУ ВШЭ, 2024-25 учебный год"
   ]
  },
  {
   "cell_type": "markdown",
   "metadata": {
    "id": "fdTH3pxXFLxw"
   },
   "source": [
    "## Групповой проект №1. Exploratory Data Analysis"
   ]
  },
  {
   "cell_type": "markdown",
   "metadata": {
    "id": "kqVyveO4FLxx"
   },
   "source": [
    "## Общая информация"
   ]
  },
  {
   "cell_type": "markdown",
   "metadata": {
    "id": "2A0wmBWwFLxx"
   },
   "source": [
    "__Дата выдачи:__ 28.01.2025\n",
    "\n",
    "__Защита проекта:__ 12.02.2025"
   ]
  },
  {
   "cell_type": "markdown",
   "metadata": {
    "id": "c3WPv6hp7hNJ"
   },
   "source": [
    "## Формат выполнения"
   ]
  },
  {
   "cell_type": "markdown",
   "metadata": {
    "id": "G119PlyX7hNS"
   },
   "source": [
    "Групповой проект представляет собой творческое инициативное групповое задание, которое выполняется студентами в командах от 3 до 6 человек. В то же время, следует помнить, что чем больше в команде людей, тем выше предъявляются требования в целом к команде, а также к выполняему ею проекту. Команды разрешается формировать из студентов разных групп.\n",
    "\n",
    "При оценивании результатов выполнения проекта командой, в обязательном порядке проверяется и учитывается в оценке вклад ***каждого участника*** в общую работу команды. Вследствие этого, крайне важно ответственно подойти к выбору сокомандников, распределению обязанностей внутри команды, а также пресечению наличия \"мертвых душ\" в команде.\n",
    "\n",
    "При необходимости, команда большинством голосов имеет право исключить человека из команды *до защиты проекта*, сообщив об этом преподавателю, в случае если такой человек никак не проявлялся в ходе выполнения проекта и являлся как раз таки той самой \"мертвой душой\". Помните про эту возможность, поскольку наличие \"мертвых душ\" может негативно повлиять на качество и оценку для всего проекта и, как следствие, в целом для всей команды!\n",
    "\n",
    "Запись составов команд осуществляется по ссылке в таблице:\n",
    "\n",
    "https://docs.google.com/spreadsheets/d/1CHRyJWfPUS9XMdQAjYIvePwdF1ETOr56PgeIpc-g6lY/edit?usp=sharing\n"
   ]
  },
  {
   "cell_type": "markdown",
   "metadata": {
    "id": "qK8Ari9eFLxz"
   },
   "source": [
    "## Оценивание и штрафы\n",
    "\n"
   ]
  },
  {
   "cell_type": "markdown",
   "source": [
    "Групповой проект оценивается исходя из устной защиты (презентации) командой выполненного ими проекта перед комиссией. Комиссия составляется из преподавателей курса, ассистентов курса, а также приглашенных экспертов из индустрии.\n",
    "\n",
    "В рамках каждой защиты комиссия выставляет два типа оценок.\n",
    "\n",
    "Первая оценка — это оценка для всего проекта в целом. Она ставится комиссией, исходя из глубины проработки командой предметной области, сложности применяемых в проекте инструментов, а также прочих аспектов, связанных с содержанием выполняемого в проекте ТЗ. При выставлении этой оценки комиссия ориентируется на критерии, более подробно представленные ниже в разделе \"Критерии оценки проекта\".\n",
    "\n",
    "Вторая оценка — это индивидуальная оценка каждого участника команды. Именно эта оценка выставляется впоследствии в ведомость. Индивидуальная оценка участника команды определяется комиссией, исходя из того, насколько участник ориентируется в выполненном командой проекте, как он отвечает на адресованные персонально ему вопросы комиссии, насколько в принципе прослеживается его роль в проекте, а также исходя из других аспектов, связанных с участием конкретного человека в деятельности команды. Индивидуальная оценка не может превосходить оценку команды за проект в целом (первую оценку), однако, в случае когда участник спокойно и корректно отвечает на все адресованные ему вопросы, свободно ориентируется в материале и содержании выполненного проекта, а также когда его роль в работе команды не вызывает сомнений, — в таком случае, индивидуальная оценка участника становится равной оценке для всего проекта (т.е. в идеальном случае — вторая оценка равна первой оценке).\n",
    "\n",
    "Во избежание субъективности и/или предвзятости оценки тех или иных членов комиссии в отношении тех или иных команд, а также каких-либо иных проявлений неравных условий — распределение команд между комиссиями осуществляется абсолютно рандомно с использованием средств библиотеки Numpy :)) — в качестве рэндом сида выступает дата, в которую производится распределение, например, `np.random.seed(28012025)`.\n",
    "\n",
    "Обратите, пожалуйста, внимание на то, что бОльшая часть комиссий осуществляет приём проектов в очной форме, однако могут присутствовать и 1-2 комиссии, которые будут работать дистанционно с использованием средств видеосвязи. В случае попадания команды путем случайного распределения в комиссию, работающую в очной форме, *не допускается* какое-либо изменение формата проведения для команды на онлайн-режим, равно как и любые другие перемещения команд между комиссиями (смены комиссий), для сохранения честности и непредвзятости случайного распределения.\n",
    "\n",
    "Явка студента на защиту проекта является обязательной; вклад студента без его присутствия не оценивается и автоматически является равным нулю. Для дистанционных комиссий, дополнительным требованием является обязательное наличие включенной камеры в течение всего времени нахождения в конференции"
   ],
   "metadata": {
    "id": "QGLPrtP8M51y"
   }
  },
  {
   "cell_type": "markdown",
   "metadata": {
    "id": "zNja-u8vFLx0"
   },
   "source": [
    "## Описание задания"
   ]
  },
  {
   "cell_type": "markdown",
   "metadata": {
    "id": "GNs6yg1QT0I3"
   },
   "source": [
    "<img src=\"https://pp.userapi.com/c854528/v854528797/c62ce/FiPEibYUxJc.jpg\" width=\"40%\">"
   ]
  },
  {
   "cell_type": "markdown",
   "metadata": {
    "id": "JYeFv80TV21w"
   },
   "source": [
    "Netflix за последние 5-10 лет обзавелись большим количеством зрителей. С увеличением числа зрителей увеличилось и разнообразие шоу. Соответственно, перед аналитиками из киноиндустрии встала задача исследования данных с рейтингами различных сериалов.  \n",
    "\n",
    "В данном задании вам предстоит провести визуальный анализ датасета **1000 Netflix Shows** (по состоянию на 11.06.2017) и сделать выводы.  \n",
    "\n"
   ]
  },
  {
   "cell_type": "markdown",
   "source": [
    "### Описание признаков"
   ],
   "metadata": {
    "id": "hb-N44hz6UUQ"
   }
  },
  {
   "cell_type": "markdown",
   "metadata": {
    "id": "7TCLul8ycMHW"
   },
   "source": [
    "\n",
    "* `title` - название шоу.\n",
    "* `rating` - рейтинг шоу. Например: G, PG, TV-14, TV-MA.\n",
    "* `ratingLevel` - описание рейтинговой группы и особенностей шоу.\n",
    "* `ratingDescription` - рейтинг шоу, закодированный числом.\n",
    "* `release year` - год выпуска шоу.\n",
    "* `user rating score` - оценка пользователей.\n",
    "* `user rating size` - общий рейтинг пользователей."
   ]
  },
  {
   "cell_type": "markdown",
   "source": [
    "### Требования к проекту"
   ],
   "metadata": {
    "id": "Yf_5kM7K6XPn"
   }
  },
  {
   "cell_type": "markdown",
   "metadata": {
    "id": "coqxjUJY4D4B"
   },
   "source": [
    "\n",
    "\n",
    "В качестве результата выполнения группового проекта ваша команда должна получить презентацию и защитить ее перед комиссией.\n",
    "\n",
    "Оформление презентации остаётся полностью на ваше усмотрение, но помните, что результат должен быть релевантен для демонстрации бизнес-заказчику — комиссию, принимающую вашу работу, правильнее всего воспринимать именно в таком качестве. Например, вставлять в презентацию строчки кода или злоупотреблять скринами блокнота не рекомендуется.\n",
    "\n",
    "С точки зрения концепции выполнения проекта — вам необходимо принять на себя роль аналитиков: провести работу над признаками, исследовать информацию, содержащуюся в датасете,  выявить тенденции, тренды, факты из данных, а также, конечно, презентовать всё это в понятном виде.\n",
    "\n",
    "Фактически, можно воспринимать этот проект в следующем ключе: к вам пришел некий бизнес-заказчик — например, это может быть непосредственно представитель Netflix, которые хотят улучшить какие-то процессы; или какая-то компания, которая хочет снять какой-то новый проект и/или продать какой-то свой уже готовый продукт Netflix'у; или это может быть некая компания конкурент Netflix'a, которая заинтересована в общем исследовании рынка; или абсолютно любой другой стейхолдер в рамках данной отрасли — и вот этот заказчик просит вас проанализировать данные и извлечь на основе них какие-то полезные и значимые бизнес-инсайты для него. Разумеется, чем глубже, чем осмысленнее и чем нетривиальнее будут эти выводы, тем больше они вам заплатят :)\n"
   ]
  },
  {
   "cell_type": "markdown",
   "source": [
    "### Примеры вопросов и тем\n"
   ],
   "metadata": {
    "id": "VzyjDz3g6R-e"
   }
  },
  {
   "cell_type": "markdown",
   "source": [
    "Чтобы вы не начинали работу полностью с чистого листа, мы подобрали для вас некоторое количество опорных вопросов, с которых вы можете начать ваш первичный анализ.\n",
    "\n",
    "**Внимание:** Эти вопросы лишь *приблизительные* и дают только *начальный вектор* для вашего исследования. Хотя качественно проработанные ответы на них и могут принести вам значительное количество первичных инсайтов и полезной информации — не стоит строить весь ваш проект вокруг только ответов на них. По возможности постарайтесь усовершенствовать и развить темы, затрагивающиеся в данных вопросах, либо вообще найти другие слои, которые в рамках них не рассматриваются (на самом деле, таковых довольно много!)\n"
   ],
   "metadata": {
    "id": "2ZBFsPxj6j0A"
   }
  },
  {
   "cell_type": "markdown",
   "source": [
    "Итак, сами вопросы:\n",
    "\n",
    "- Сколько рейтинговых групп представлено в данных?\n",
    "- Как рейтинговые группы отличаются друг от друга?\n",
    "- Какие оценки пользователи ставят чаще всего?\n",
    "- Какие оценки пользователи ставят в среднем?\n",
    "- В какие годы были запущены шоу?\n",
    "- Можно ли сделать вывод, что 2017 год успешнее для Netflix, чем 2016?\n",
    "- Выберите любое шоу (например, самое понравившееся) и составьте его описательный портрет. На какие вопросы о нем вам было бы интересно ответить, если бы вы были заказчиком? Ответьте на эти вопросы :)\n",
    "- Какие существуют признаки, не представленные в данных, но существенно влияющие на имеющиеся признаки?\n",
    "- Как формируются оценки?\n",
    "- Каким образом собирались сами данные?\n",
    "\n"
   ],
   "metadata": {
    "id": "m6DO0Czp8oiF"
   }
  },
  {
   "cell_type": "markdown",
   "source": [
    "Повторимся еще раз: это лишь *примерные вопросы*, для того чтобы дать вам начальный вектор, в котором вы могли бы двигаться. Вы можете отвечать или не отвечать на них по своему усмотрению, а также действовать таким образом и в том направлении, как полностью посчитаете нужным!\n",
    "\n"
   ],
   "metadata": {
    "id": "0TtjLvj5-DRE"
   }
  },
  {
   "cell_type": "markdown",
   "source": [
    "### Полезные замечания и советы"
   ],
   "metadata": {
    "id": "BIMqig8J-cWl"
   }
  },
  {
   "cell_type": "markdown",
   "source": [
    "- Следите за тем, чтобы все графики на слайдах можно было прочитать даже без ваших комментариев;\n",
    "- Не нужно делать просто текстовые слайды;\n",
    "- Стройте свой анализ, исходя из того, что ваша цель представить полезную информацию для бизнеса;\n",
    "- Любой хороший Data Scientist должен уметь работать в команде, поэтому распределение ваших усилий в проекте остается за вами;\n",
    "- Не обязательно ограничиваться представленным датасетом. У вас есть весь интернет, чтобы найти дополнительную информацию и проверить ваши гипотезы. Дерзайте!\n"
   ],
   "metadata": {
    "id": "myYUHrtD-gcj"
   }
  },
  {
   "cell_type": "markdown",
   "metadata": {
    "id": "AZdB2Z9S4D4C"
   },
   "source": [
    "### Примерный скелет EDA"
   ]
  },
  {
   "cell_type": "markdown",
   "source": [
    "Опять-таки, чтобы вам не приходилось начинать написание кода с чистого листа, мы выстроили некий простейший скелет возможных этапов, которые вы могли бы включить в основу вашего первичного анализа.\n",
    "\n",
    "Как вы уже, наверное, поняли, мы не настаиваем! :)"
   ],
   "metadata": {
    "id": "h3DrE6Az_IG0"
   }
  },
  {
   "metadata": {
    "ExecuteTime": {
     "end_time": "2025-02-04T10:52:19.358174Z",
     "start_time": "2025-02-04T10:52:16.813040Z"
    }
   },
   "cell_type": "code",
   "source": "!pip install openpyxl",
   "outputs": [
    {
     "name": "stdout",
     "output_type": "stream",
     "text": [
      "Collecting openpyxl\n",
      "  Downloading openpyxl-3.1.5-py2.py3-none-any.whl.metadata (2.5 kB)\n",
      "Collecting et-xmlfile (from openpyxl)\n",
      "  Downloading et_xmlfile-2.0.0-py3-none-any.whl.metadata (2.7 kB)\n",
      "Downloading openpyxl-3.1.5-py2.py3-none-any.whl (250 kB)\n",
      "Downloading et_xmlfile-2.0.0-py3-none-any.whl (18 kB)\n",
      "Installing collected packages: et-xmlfile, openpyxl\n",
      "Successfully installed et-xmlfile-2.0.0 openpyxl-3.1.5\n"
     ]
    }
   ],
   "execution_count": 4
  },
  {
   "metadata": {
    "ExecuteTime": {
     "end_time": "2025-02-04T10:51:37.689169Z",
     "start_time": "2025-02-04T10:51:37.686148Z"
    }
   },
   "cell_type": "code",
   "source": [
    "import pandas as pd\n",
    "import matplotlib.pyplot as plt\n",
    "import seaborn as sns"
   ],
   "outputs": [],
   "execution_count": 1
  },
  {
   "cell_type": "markdown",
   "metadata": {
    "id": "bJJkNLerajEn"
   },
   "source": [
    "#### Скачайте данные\n",
    "Загрузите данные, выполнив код ниже."
   ]
  },
  {
   "cell_type": "code",
   "metadata": {
    "id": "8Zgk_NN_SSDm",
    "ExecuteTime": {
     "end_time": "2025-02-04T10:52:23.899229Z",
     "start_time": "2025-02-04T10:52:23.586218Z"
    }
   },
   "source": "data = pd.read_excel(\"NetflixShows.xlsx\")",
   "outputs": [],
   "execution_count": 5
  },
  {
   "cell_type": "code",
   "metadata": {
    "id": "5io1SYsxJOLL",
    "ExecuteTime": {
     "end_time": "2025-02-04T10:52:26.677033Z",
     "start_time": "2025-02-04T10:52:26.660899Z"
    }
   },
   "source": [
    "data"
   ],
   "outputs": [
    {
     "data": {
      "text/plain": [
       "                       title rating  \\\n",
       "0               White Chicks  PG-13   \n",
       "1        Lucky Number Slevin      R   \n",
       "2             Grey's Anatomy  TV-14   \n",
       "3               Prison Break  TV-14   \n",
       "4      How I Met Your Mother  TV-PG   \n",
       "..                       ...    ...   \n",
       "995                  The BFG     PG   \n",
       "996  The Secret Life of Pets     PG   \n",
       "997         Precious Puppies   TV-G   \n",
       "998              Beary Tales   TV-G   \n",
       "999          Growing Up Wild      G   \n",
       "\n",
       "                                           ratingLevel  ratingDescription  \\\n",
       "0    crude and sexual humor, language and some drug...                 80   \n",
       "1    strong violence, sexual content and adult lang...                100   \n",
       "2    Parents strongly cautioned. May be unsuitable ...                 90   \n",
       "3    Parents strongly cautioned. May be unsuitable ...                 90   \n",
       "4    Parental guidance suggested. May not be suitab...                 70   \n",
       "..                                                 ...                ...   \n",
       "995  for action/peril, some scary moments and brief...                 60   \n",
       "996                     for action and some rude humor                 60   \n",
       "997                             Suitable for all ages.                 35   \n",
       "998                             Suitable for all ages.                 35   \n",
       "999                                                NaN                 35   \n",
       "\n",
       "     release year  user rating score  user rating size  \n",
       "0            2004               82.0                80  \n",
       "1            2006                NaN                82  \n",
       "2            2016               98.0                80  \n",
       "3            2008               98.0                80  \n",
       "4            2014               94.0                80  \n",
       "..            ...                ...               ...  \n",
       "995          2016               97.0                80  \n",
       "996          2016                NaN                81  \n",
       "997          2003                NaN                82  \n",
       "998          2013                NaN                82  \n",
       "999          2016               80.0                80  \n",
       "\n",
       "[1000 rows x 7 columns]"
      ],
      "text/html": [
       "<div>\n",
       "<style scoped>\n",
       "    .dataframe tbody tr th:only-of-type {\n",
       "        vertical-align: middle;\n",
       "    }\n",
       "\n",
       "    .dataframe tbody tr th {\n",
       "        vertical-align: top;\n",
       "    }\n",
       "\n",
       "    .dataframe thead th {\n",
       "        text-align: right;\n",
       "    }\n",
       "</style>\n",
       "<table border=\"1\" class=\"dataframe\">\n",
       "  <thead>\n",
       "    <tr style=\"text-align: right;\">\n",
       "      <th></th>\n",
       "      <th>title</th>\n",
       "      <th>rating</th>\n",
       "      <th>ratingLevel</th>\n",
       "      <th>ratingDescription</th>\n",
       "      <th>release year</th>\n",
       "      <th>user rating score</th>\n",
       "      <th>user rating size</th>\n",
       "    </tr>\n",
       "  </thead>\n",
       "  <tbody>\n",
       "    <tr>\n",
       "      <th>0</th>\n",
       "      <td>White Chicks</td>\n",
       "      <td>PG-13</td>\n",
       "      <td>crude and sexual humor, language and some drug...</td>\n",
       "      <td>80</td>\n",
       "      <td>2004</td>\n",
       "      <td>82.0</td>\n",
       "      <td>80</td>\n",
       "    </tr>\n",
       "    <tr>\n",
       "      <th>1</th>\n",
       "      <td>Lucky Number Slevin</td>\n",
       "      <td>R</td>\n",
       "      <td>strong violence, sexual content and adult lang...</td>\n",
       "      <td>100</td>\n",
       "      <td>2006</td>\n",
       "      <td>NaN</td>\n",
       "      <td>82</td>\n",
       "    </tr>\n",
       "    <tr>\n",
       "      <th>2</th>\n",
       "      <td>Grey's Anatomy</td>\n",
       "      <td>TV-14</td>\n",
       "      <td>Parents strongly cautioned. May be unsuitable ...</td>\n",
       "      <td>90</td>\n",
       "      <td>2016</td>\n",
       "      <td>98.0</td>\n",
       "      <td>80</td>\n",
       "    </tr>\n",
       "    <tr>\n",
       "      <th>3</th>\n",
       "      <td>Prison Break</td>\n",
       "      <td>TV-14</td>\n",
       "      <td>Parents strongly cautioned. May be unsuitable ...</td>\n",
       "      <td>90</td>\n",
       "      <td>2008</td>\n",
       "      <td>98.0</td>\n",
       "      <td>80</td>\n",
       "    </tr>\n",
       "    <tr>\n",
       "      <th>4</th>\n",
       "      <td>How I Met Your Mother</td>\n",
       "      <td>TV-PG</td>\n",
       "      <td>Parental guidance suggested. May not be suitab...</td>\n",
       "      <td>70</td>\n",
       "      <td>2014</td>\n",
       "      <td>94.0</td>\n",
       "      <td>80</td>\n",
       "    </tr>\n",
       "    <tr>\n",
       "      <th>...</th>\n",
       "      <td>...</td>\n",
       "      <td>...</td>\n",
       "      <td>...</td>\n",
       "      <td>...</td>\n",
       "      <td>...</td>\n",
       "      <td>...</td>\n",
       "      <td>...</td>\n",
       "    </tr>\n",
       "    <tr>\n",
       "      <th>995</th>\n",
       "      <td>The BFG</td>\n",
       "      <td>PG</td>\n",
       "      <td>for action/peril, some scary moments and brief...</td>\n",
       "      <td>60</td>\n",
       "      <td>2016</td>\n",
       "      <td>97.0</td>\n",
       "      <td>80</td>\n",
       "    </tr>\n",
       "    <tr>\n",
       "      <th>996</th>\n",
       "      <td>The Secret Life of Pets</td>\n",
       "      <td>PG</td>\n",
       "      <td>for action and some rude humor</td>\n",
       "      <td>60</td>\n",
       "      <td>2016</td>\n",
       "      <td>NaN</td>\n",
       "      <td>81</td>\n",
       "    </tr>\n",
       "    <tr>\n",
       "      <th>997</th>\n",
       "      <td>Precious Puppies</td>\n",
       "      <td>TV-G</td>\n",
       "      <td>Suitable for all ages.</td>\n",
       "      <td>35</td>\n",
       "      <td>2003</td>\n",
       "      <td>NaN</td>\n",
       "      <td>82</td>\n",
       "    </tr>\n",
       "    <tr>\n",
       "      <th>998</th>\n",
       "      <td>Beary Tales</td>\n",
       "      <td>TV-G</td>\n",
       "      <td>Suitable for all ages.</td>\n",
       "      <td>35</td>\n",
       "      <td>2013</td>\n",
       "      <td>NaN</td>\n",
       "      <td>82</td>\n",
       "    </tr>\n",
       "    <tr>\n",
       "      <th>999</th>\n",
       "      <td>Growing Up Wild</td>\n",
       "      <td>G</td>\n",
       "      <td>NaN</td>\n",
       "      <td>35</td>\n",
       "      <td>2016</td>\n",
       "      <td>80.0</td>\n",
       "      <td>80</td>\n",
       "    </tr>\n",
       "  </tbody>\n",
       "</table>\n",
       "<p>1000 rows × 7 columns</p>\n",
       "</div>"
      ]
     },
     "execution_count": 6,
     "metadata": {},
     "output_type": "execute_result"
    }
   ],
   "execution_count": 6
  },
  {
   "metadata": {
    "ExecuteTime": {
     "end_time": "2025-02-04T10:52:29.973028Z",
     "start_time": "2025-02-04T10:52:29.958850Z"
    }
   },
   "cell_type": "code",
   "source": "data.describe()",
   "outputs": [
    {
     "data": {
      "text/plain": [
       "       ratingDescription  release year  user rating score  user rating size\n",
       "count         1000.00000   1000.000000         605.000000       1000.000000\n",
       "mean            67.36600   2010.335000          84.094215         80.783000\n",
       "std             30.78561      8.877927          12.344371          0.973066\n",
       "min             10.00000   1940.000000          55.000000         80.000000\n",
       "25%             35.00000   2007.000000          75.000000         80.000000\n",
       "50%             60.00000   2015.000000          88.000000         80.000000\n",
       "75%             90.00000   2016.000000          95.000000         82.000000\n",
       "max            124.00000   2017.000000          99.000000         82.000000"
      ],
      "text/html": [
       "<div>\n",
       "<style scoped>\n",
       "    .dataframe tbody tr th:only-of-type {\n",
       "        vertical-align: middle;\n",
       "    }\n",
       "\n",
       "    .dataframe tbody tr th {\n",
       "        vertical-align: top;\n",
       "    }\n",
       "\n",
       "    .dataframe thead th {\n",
       "        text-align: right;\n",
       "    }\n",
       "</style>\n",
       "<table border=\"1\" class=\"dataframe\">\n",
       "  <thead>\n",
       "    <tr style=\"text-align: right;\">\n",
       "      <th></th>\n",
       "      <th>ratingDescription</th>\n",
       "      <th>release year</th>\n",
       "      <th>user rating score</th>\n",
       "      <th>user rating size</th>\n",
       "    </tr>\n",
       "  </thead>\n",
       "  <tbody>\n",
       "    <tr>\n",
       "      <th>count</th>\n",
       "      <td>1000.00000</td>\n",
       "      <td>1000.000000</td>\n",
       "      <td>605.000000</td>\n",
       "      <td>1000.000000</td>\n",
       "    </tr>\n",
       "    <tr>\n",
       "      <th>mean</th>\n",
       "      <td>67.36600</td>\n",
       "      <td>2010.335000</td>\n",
       "      <td>84.094215</td>\n",
       "      <td>80.783000</td>\n",
       "    </tr>\n",
       "    <tr>\n",
       "      <th>std</th>\n",
       "      <td>30.78561</td>\n",
       "      <td>8.877927</td>\n",
       "      <td>12.344371</td>\n",
       "      <td>0.973066</td>\n",
       "    </tr>\n",
       "    <tr>\n",
       "      <th>min</th>\n",
       "      <td>10.00000</td>\n",
       "      <td>1940.000000</td>\n",
       "      <td>55.000000</td>\n",
       "      <td>80.000000</td>\n",
       "    </tr>\n",
       "    <tr>\n",
       "      <th>25%</th>\n",
       "      <td>35.00000</td>\n",
       "      <td>2007.000000</td>\n",
       "      <td>75.000000</td>\n",
       "      <td>80.000000</td>\n",
       "    </tr>\n",
       "    <tr>\n",
       "      <th>50%</th>\n",
       "      <td>60.00000</td>\n",
       "      <td>2015.000000</td>\n",
       "      <td>88.000000</td>\n",
       "      <td>80.000000</td>\n",
       "    </tr>\n",
       "    <tr>\n",
       "      <th>75%</th>\n",
       "      <td>90.00000</td>\n",
       "      <td>2016.000000</td>\n",
       "      <td>95.000000</td>\n",
       "      <td>82.000000</td>\n",
       "    </tr>\n",
       "    <tr>\n",
       "      <th>max</th>\n",
       "      <td>124.00000</td>\n",
       "      <td>2017.000000</td>\n",
       "      <td>99.000000</td>\n",
       "      <td>82.000000</td>\n",
       "    </tr>\n",
       "  </tbody>\n",
       "</table>\n",
       "</div>"
      ]
     },
     "execution_count": 7,
     "metadata": {},
     "output_type": "execute_result"
    }
   ],
   "execution_count": 7
  },
  {
   "cell_type": "markdown",
   "metadata": {
    "id": "cZqqAjTTjBhv"
   },
   "source": [
    "#### Удалите из данных дубликаты.\n",
    "- Почему они возникли?\n",
    "- Много ли их? В каких группах их больше всего?"
   ]
  },
  {
   "cell_type": "code",
   "metadata": {
    "id": "6lWD2o02jAPr",
    "ExecuteTime": {
     "end_time": "2025-02-04T10:52:32.883070Z",
     "start_time": "2025-02-04T10:52:32.868043Z"
    }
   },
   "source": [
    "data = data.drop_duplicates()\n",
    "data"
   ],
   "outputs": [
    {
     "data": {
      "text/plain": [
       "                         title rating  \\\n",
       "0                 White Chicks  PG-13   \n",
       "1          Lucky Number Slevin      R   \n",
       "2               Grey's Anatomy  TV-14   \n",
       "3                 Prison Break  TV-14   \n",
       "4        How I Met Your Mother  TV-PG   \n",
       "..                         ...    ...   \n",
       "989            Russell Madness     PG   \n",
       "993  Wiener Dog Internationals      G   \n",
       "994                   Pup Star      G   \n",
       "997           Precious Puppies   TV-G   \n",
       "998                Beary Tales   TV-G   \n",
       "\n",
       "                                           ratingLevel  ratingDescription  \\\n",
       "0    crude and sexual humor, language and some drug...                 80   \n",
       "1    strong violence, sexual content and adult lang...                100   \n",
       "2    Parents strongly cautioned. May be unsuitable ...                 90   \n",
       "3    Parents strongly cautioned. May be unsuitable ...                 90   \n",
       "4    Parental guidance suggested. May not be suitab...                 70   \n",
       "..                                                 ...                ...   \n",
       "989                  some rude humor and sports action                 60   \n",
       "993          General Audiences. Suitable for all ages.                 35   \n",
       "994          General Audiences. Suitable for all ages.                 35   \n",
       "997                             Suitable for all ages.                 35   \n",
       "998                             Suitable for all ages.                 35   \n",
       "\n",
       "     release year  user rating score  user rating size  \n",
       "0            2004               82.0                80  \n",
       "1            2006                NaN                82  \n",
       "2            2016               98.0                80  \n",
       "3            2008               98.0                80  \n",
       "4            2014               94.0                80  \n",
       "..            ...                ...               ...  \n",
       "989          2015                NaN                82  \n",
       "993          2015                NaN                82  \n",
       "994          2016                NaN                82  \n",
       "997          2003                NaN                82  \n",
       "998          2013                NaN                82  \n",
       "\n",
       "[500 rows x 7 columns]"
      ],
      "text/html": [
       "<div>\n",
       "<style scoped>\n",
       "    .dataframe tbody tr th:only-of-type {\n",
       "        vertical-align: middle;\n",
       "    }\n",
       "\n",
       "    .dataframe tbody tr th {\n",
       "        vertical-align: top;\n",
       "    }\n",
       "\n",
       "    .dataframe thead th {\n",
       "        text-align: right;\n",
       "    }\n",
       "</style>\n",
       "<table border=\"1\" class=\"dataframe\">\n",
       "  <thead>\n",
       "    <tr style=\"text-align: right;\">\n",
       "      <th></th>\n",
       "      <th>title</th>\n",
       "      <th>rating</th>\n",
       "      <th>ratingLevel</th>\n",
       "      <th>ratingDescription</th>\n",
       "      <th>release year</th>\n",
       "      <th>user rating score</th>\n",
       "      <th>user rating size</th>\n",
       "    </tr>\n",
       "  </thead>\n",
       "  <tbody>\n",
       "    <tr>\n",
       "      <th>0</th>\n",
       "      <td>White Chicks</td>\n",
       "      <td>PG-13</td>\n",
       "      <td>crude and sexual humor, language and some drug...</td>\n",
       "      <td>80</td>\n",
       "      <td>2004</td>\n",
       "      <td>82.0</td>\n",
       "      <td>80</td>\n",
       "    </tr>\n",
       "    <tr>\n",
       "      <th>1</th>\n",
       "      <td>Lucky Number Slevin</td>\n",
       "      <td>R</td>\n",
       "      <td>strong violence, sexual content and adult lang...</td>\n",
       "      <td>100</td>\n",
       "      <td>2006</td>\n",
       "      <td>NaN</td>\n",
       "      <td>82</td>\n",
       "    </tr>\n",
       "    <tr>\n",
       "      <th>2</th>\n",
       "      <td>Grey's Anatomy</td>\n",
       "      <td>TV-14</td>\n",
       "      <td>Parents strongly cautioned. May be unsuitable ...</td>\n",
       "      <td>90</td>\n",
       "      <td>2016</td>\n",
       "      <td>98.0</td>\n",
       "      <td>80</td>\n",
       "    </tr>\n",
       "    <tr>\n",
       "      <th>3</th>\n",
       "      <td>Prison Break</td>\n",
       "      <td>TV-14</td>\n",
       "      <td>Parents strongly cautioned. May be unsuitable ...</td>\n",
       "      <td>90</td>\n",
       "      <td>2008</td>\n",
       "      <td>98.0</td>\n",
       "      <td>80</td>\n",
       "    </tr>\n",
       "    <tr>\n",
       "      <th>4</th>\n",
       "      <td>How I Met Your Mother</td>\n",
       "      <td>TV-PG</td>\n",
       "      <td>Parental guidance suggested. May not be suitab...</td>\n",
       "      <td>70</td>\n",
       "      <td>2014</td>\n",
       "      <td>94.0</td>\n",
       "      <td>80</td>\n",
       "    </tr>\n",
       "    <tr>\n",
       "      <th>...</th>\n",
       "      <td>...</td>\n",
       "      <td>...</td>\n",
       "      <td>...</td>\n",
       "      <td>...</td>\n",
       "      <td>...</td>\n",
       "      <td>...</td>\n",
       "      <td>...</td>\n",
       "    </tr>\n",
       "    <tr>\n",
       "      <th>989</th>\n",
       "      <td>Russell Madness</td>\n",
       "      <td>PG</td>\n",
       "      <td>some rude humor and sports action</td>\n",
       "      <td>60</td>\n",
       "      <td>2015</td>\n",
       "      <td>NaN</td>\n",
       "      <td>82</td>\n",
       "    </tr>\n",
       "    <tr>\n",
       "      <th>993</th>\n",
       "      <td>Wiener Dog Internationals</td>\n",
       "      <td>G</td>\n",
       "      <td>General Audiences. Suitable for all ages.</td>\n",
       "      <td>35</td>\n",
       "      <td>2015</td>\n",
       "      <td>NaN</td>\n",
       "      <td>82</td>\n",
       "    </tr>\n",
       "    <tr>\n",
       "      <th>994</th>\n",
       "      <td>Pup Star</td>\n",
       "      <td>G</td>\n",
       "      <td>General Audiences. Suitable for all ages.</td>\n",
       "      <td>35</td>\n",
       "      <td>2016</td>\n",
       "      <td>NaN</td>\n",
       "      <td>82</td>\n",
       "    </tr>\n",
       "    <tr>\n",
       "      <th>997</th>\n",
       "      <td>Precious Puppies</td>\n",
       "      <td>TV-G</td>\n",
       "      <td>Suitable for all ages.</td>\n",
       "      <td>35</td>\n",
       "      <td>2003</td>\n",
       "      <td>NaN</td>\n",
       "      <td>82</td>\n",
       "    </tr>\n",
       "    <tr>\n",
       "      <th>998</th>\n",
       "      <td>Beary Tales</td>\n",
       "      <td>TV-G</td>\n",
       "      <td>Suitable for all ages.</td>\n",
       "      <td>35</td>\n",
       "      <td>2013</td>\n",
       "      <td>NaN</td>\n",
       "      <td>82</td>\n",
       "    </tr>\n",
       "  </tbody>\n",
       "</table>\n",
       "<p>500 rows × 7 columns</p>\n",
       "</div>"
      ]
     },
     "execution_count": 8,
     "metadata": {},
     "output_type": "execute_result"
    }
   ],
   "execution_count": 8
  },
  {
   "cell_type": "markdown",
   "metadata": {
    "id": "5K45orMVgn0S"
   },
   "source": [
    "#### Сколько рейтинговых групп представлено в данных?"
   ]
  },
  {
   "cell_type": "code",
   "metadata": {
    "id": "ya6irA3YgoSN",
    "ExecuteTime": {
     "end_time": "2025-02-04T10:52:36.427482Z",
     "start_time": "2025-02-04T10:52:36.421078Z"
    }
   },
   "source": "data['rating'].value_counts()",
   "outputs": [
    {
     "data": {
      "text/plain": [
       "rating\n",
       "TV-14       106\n",
       "TV-MA        82\n",
       "PG           76\n",
       "G            53\n",
       "TV-Y         36\n",
       "TV-PG        33\n",
       "TV-G         29\n",
       "TV-Y7-FV     25\n",
       "TV-Y7        23\n",
       "R            14\n",
       "PG-13        12\n",
       "NR           10\n",
       "UR            1\n",
       "Name: count, dtype: int64"
      ]
     },
     "execution_count": 9,
     "metadata": {},
     "output_type": "execute_result"
    }
   ],
   "execution_count": 9
  },
  {
   "metadata": {
    "ExecuteTime": {
     "end_time": "2025-02-04T10:52:39.053893Z",
     "start_time": "2025-02-04T10:52:39.043043Z"
    }
   },
   "cell_type": "code",
   "source": "data.info()",
   "outputs": [
    {
     "name": "stdout",
     "output_type": "stream",
     "text": [
      "<class 'pandas.core.frame.DataFrame'>\n",
      "Index: 500 entries, 0 to 998\n",
      "Data columns (total 7 columns):\n",
      " #   Column             Non-Null Count  Dtype  \n",
      "---  ------             --------------  -----  \n",
      " 0   title              500 non-null    object \n",
      " 1   rating             500 non-null    object \n",
      " 2   ratingLevel        467 non-null    object \n",
      " 3   ratingDescription  500 non-null    int64  \n",
      " 4   release year       500 non-null    int64  \n",
      " 5   user rating score  256 non-null    float64\n",
      " 6   user rating size   500 non-null    int64  \n",
      "dtypes: float64(1), int64(3), object(3)\n",
      "memory usage: 31.2+ KB\n"
     ]
    }
   ],
   "execution_count": 10
  },
  {
   "cell_type": "markdown",
   "metadata": {
    "id": "EvQXQnogU8M0"
   },
   "source": [
    "#### Какие оценки пользователи ставят чаще?\n",
    "\n",
    "- Постройте гистограмму оценок.\n",
    "- Почему именно такие оценки ставят чаще всего?"
   ]
  },
  {
   "cell_type": "code",
   "metadata": {
    "id": "uZ7wT-jyU5YC",
    "ExecuteTime": {
     "end_time": "2025-02-04T10:52:51.723449Z",
     "start_time": "2025-02-04T10:52:51.583629Z"
    }
   },
   "source": [
    "user_ratings = data['user rating score'].dropna()\n",
    "\n",
    "plt.figure(figsize=(10, 6))\n",
    "sns.histplot(user_ratings, bins=20, kde=True, color='skyblue')\n",
    "\n",
    "plt.title('Гистограмма пользовательских оценок на Netflix', fontsize=14)\n",
    "plt.xlabel('Оценка пользователя')\n",
    "plt.ylabel('Количество оценок')\n",
    "plt.grid(axis='y', linestyle='--', alpha=0.7)\n",
    "\n",
    "plt.show()"
   ],
   "outputs": [
    {
     "data": {
      "text/plain": [
       "<Figure size 1000x600 with 1 Axes>"
      ],
      "image/png": "[encoded data removed]"
     },
     "metadata": {},
     "output_type": "display_data"
    }
   ],
   "execution_count": 13
  },
  {
   "cell_type": "markdown",
   "metadata": {
    "id": "hctW4a6lW3Yl"
   },
   "source": [
    "#### Выведите основную информацию об оценках пользователей\n",
    "- Чему равны среднее, стандартное отклонение, минимум, максимум, медиана?\n",
    "- Отличаются ли медиана и среднее?\n",
    "- Могут ли данные характеристики значительно отличаться? Почему?"
   ]
  },
  {
   "cell_type": "code",
   "metadata": {
    "id": "duGOR-wEnMS7",
    "ExecuteTime": {
     "end_time": "2025-02-04T10:51:38.740750300Z",
     "start_time": "2025-02-02T08:32:18.421912Z"
    }
   },
   "source": [
    "user_ratings = data['user rating score'].dropna()\n",
    "\n",
    "mean_rating = user_ratings.mean()\n",
    "std_rating = user_ratings.std()\n",
    "min_rating = user_ratings.min() \n",
    "max_rating = user_ratings.max() \n",
    "median_rating = user_ratings.median()\n",
    "\n",
    "print(f\"Средняя оценка: {mean_rating:.2f}\")\n",
    "print(f\"Стандартное отклонение: {std_rating:.2f}\")\n",
    "print(f\"Минимальная оценка: {min_rating}\")\n",
    "print(f\"Максимальная оценка: {max_rating}\")\n",
    "print(f\"Медианная оценка: {median_rating}\")"
   ],
   "outputs": [
    {
     "name": "stdout",
     "output_type": "stream",
     "text": [
      "Средняя оценка: 81.40\n",
      "Стандартное отклонение: 12.73\n",
      "Минимальная оценка: 55.0\n",
      "Максимальная оценка: 99.0\n",
      "Медианная оценка: 83.5\n"
     ]
    }
   ],
   "execution_count": 16
  },
  {
   "cell_type": "markdown",
   "metadata": {
    "id": "o-R-GlguhFVj"
   },
   "source": [
    "#### В какие годы были запущены шоу, представленные в датасете?"
   ]
  },
  {
   "metadata": {},
   "cell_type": "markdown",
   "source": "нужны доп данные - инфо о tv shows"
  },
  {
   "cell_type": "code",
   "metadata": {
    "id": "4s_pPeOthRMd",
    "ExecuteTime": {
     "end_time": "2025-02-04T11:38:15.848493Z",
     "start_time": "2025-02-04T11:38:15.841978Z"
    }
   },
   "source": [
    "unique_years = sorted(data['release year'].unique())\n",
    "unique_years"
   ],
   "outputs": [
    {
     "data": {
      "text/plain": [
       "[1940,\n",
       " 1976,\n",
       " 1978,\n",
       " 1982,\n",
       " 1986,\n",
       " 1987,\n",
       " 1989,\n",
       " 1990,\n",
       " 1991,\n",
       " 1992,\n",
       " 1993,\n",
       " 1994,\n",
       " 1995,\n",
       " 1996,\n",
       " 1997,\n",
       " 1998,\n",
       " 1999,\n",
       " 2000,\n",
       " 2001,\n",
       " 2002,\n",
       " 2003,\n",
       " 2004,\n",
       " 2005,\n",
       " 2006,\n",
       " 2007,\n",
       " 2008,\n",
       " 2009,\n",
       " 2010,\n",
       " 2011,\n",
       " 2012,\n",
       " 2013,\n",
       " 2014,\n",
       " 2015,\n",
       " 2016,\n",
       " 2017]"
      ]
     },
     "execution_count": 15,
     "metadata": {},
     "output_type": "execute_result"
    }
   ],
   "execution_count": 15
  },
  {
   "cell_type": "markdown",
   "metadata": {
    "id": "OogBeNIShwr7"
   },
   "source": [
    "#### Постройте график, показывающий распределение количества запущенных шоу в зависимости от года.\n",
    "\n",
    "- Наблюдается ли рост?\n",
    "- Есть ли выбросы?\n",
    "- Что из себя представляют выбросы?\n",
    "- Чем могут быть они вызваны?"
   ]
  },
  {
   "cell_type": "code",
   "metadata": {
    "id": "ecreMlHXigV6",
    "ExecuteTime": {
     "end_time": "2025-02-04T12:09:55.260353Z",
     "start_time": "2025-02-04T12:09:55.067166Z"
    }
   },
   "source": [
    "counts_by_year = data['release year'].value_counts().sort_index()\n",
    "\n",
    "plt.figure(figsize=(10,6))\n",
    "ax = sns.barplot(x=counts_by_year.index, y=counts_by_year.values, color='skyblue')\n",
    "ax.set_xticklabels(ax.get_xticklabels(), rotation=45)\n",
    "plt.title('Распределение количества шоу по годам')\n",
    "plt.xlabel('Год')\n",
    "plt.ylabel('Количество шоу')\n",
    "plt.show()\n"
   ],
   "outputs": [
    {
     "name": "stderr",
     "output_type": "stream",
     "text": [
      "C:\\Users\\D\\AppData\\Local\\Temp\\ipykernel_12172\\1668546249.py:5: UserWarning: set_ticklabels() should only be used with a fixed number of ticks, i.e. after set_ticks() or using a FixedLocator.\n",
      "  ax.set_xticklabels(ax.get_xticklabels(), rotation=45)\n"
     ]
    },
    {
     "data": {
      "text/plain": [
       "<Figure size 1000x600 with 1 Axes>"
      ],
      "image/png": "[encoded data removed]"
     },
     "metadata": {},
     "output_type": "display_data"
    }
   ],
   "execution_count": 34
  },
  {
   "metadata": {},
   "cell_type": "markdown",
   "source": [
    "- Начиная с 2009 года заметна тенденция на рост количества шоу, вышедших за год. Так было до 2016 года, в 2017 все обвалилось и практически сравнялось с 2014, хотя за период 2015-2016 количество шоу увеличилось в 3-4 раза.\n",
    "- такое можно сказать только про 2016, но вряд ли это выброс: в это время Netflix набирал огромную популярность по всему миру, вероятно, в этом году он закупил очень много шоу"
   ]
  },
  {
   "cell_type": "markdown",
   "metadata": {
    "id": "5amxoyM7NaQL"
   },
   "source": [
    "#### Сравните среднюю оценку пользователей в 2016 со средней оценкой в 2017.\n",
    "- Можно ли сделать вывод, что 2017 год успешнее для Netflix? (\"Успешнее\" значит, что пользователи в среднем ставили более высокие оценки)\n",
    "- Как еще можно оценить \"Успешность\"?\n",
    "\n"
   ]
  },
  {
   "cell_type": "code",
   "metadata": {
    "id": "DIaeaVLAWgvu",
    "ExecuteTime": {
     "end_time": "2025-02-04T11:45:10.013047Z",
     "start_time": "2025-02-04T11:45:10.007637Z"
    }
   },
   "source": [
    "df_2016 = data[data['release year'] == 2016]\n",
    "df_2017 = data[data['release year'] == 2017]\n",
    "\n",
    "mean_2016 = df_2016['user rating score'].mean()\n",
    "mean_2017 = df_2017['user rating score'].mean()\n",
    "\n",
    "print(\"Средняя оценка в 2016 году:\", mean_2016)\n",
    "print(\"Средняя оценка в 2017 году:\", mean_2017)"
   ],
   "outputs": [
    {
     "name": "stdout",
     "output_type": "stream",
     "text": [
      "Средняя оценка в 2016 году: 84.31395348837209\n",
      "Средняя оценка в 2017 году: 88.125\n"
     ]
    }
   ],
   "execution_count": 18
  },
  {
   "metadata": {},
   "cell_type": "markdown",
   "source": [
    "- Средняя оценка за 2017 превышает среднюю оценку за 2016 чуть меньше чем на 4 пункта - для стобалльной системы это не так уж и много, поэтому нельзя сказать, что 2017 прям успешнее, скорее они на одном уровне\n",
    "- успешность так же можно оценить с помощью отслеживания количества новых подписчиков за год, количества просмотров, количества наград или итоговой прибыли от релизов"
   ]
  },
  {
   "cell_type": "markdown",
   "metadata": {
    "id": "5dG8K8M-jcYZ"
   },
   "source": [
    "#### Как нагляднее будет показать распределение пользователей по рейтинговым группам?\n",
    "\n",
    "Ниже представлены два графика, показывающие распределение шоу по рейтинговым группам. Какой тип графика визуально более интерпретируемый? ([Подсказка](https://sun9-40.userapi.com/c854228/v854228652/c754f/j6z5gMjJy2k.jpg))  \n",
    "Постройте самостоятельно график, который считаете более интерпретируемым. Сделайте вывод.\n",
    "\n",
    "Может быть, можно использовать и какие-то другие, еще более продвинутые визуализации?\n"
   ]
  },
  {
   "cell_type": "markdown",
   "metadata": {
    "id": "6am-k3o-pcWC"
   },
   "source": [
    "![Charts](https://pp.userapi.com/c852024/v852024281/1a53b1/jSOsBIhxK3U.jpg)"
   ]
  },
  {
   "cell_type": "code",
   "metadata": {
    "id": "SR7y2Wt9uQ4i",
    "ExecuteTime": {
     "end_time": "2025-02-04T12:08:03.874351Z",
     "start_time": "2025-02-04T12:08:03.743330Z"
    }
   },
   "source": [
    "rating_counts = data['rating'].value_counts()\n",
    "\n",
    "plt.figure(figsize=(10, 6))\n",
    "sns.barplot(x=rating_counts.index, y=rating_counts.values, color='skyblue')\n",
    "plt.title('Количество шоу по рейтинговым группам')\n",
    "plt.xlabel('Рейтинг')\n",
    "plt.ylabel('Число шоу')\n",
    "plt.show()"
   ],
   "outputs": [
    {
     "data": {
      "text/plain": [
       "<Figure size 1000x600 with 1 Axes>"
      ],
      "image/png": "[encoded data removed]"
     },
     "metadata": {},
     "output_type": "display_data"
    }
   ],
   "execution_count": 31
  },
  {
   "metadata": {},
   "cell_type": "markdown",
   "source": "Как правило для категориальных признаков (каковым является наш rating) присущи столбчатая и круговая диаграммы. Круговая диаграмма обычно более полезна, когда хочется увидеть доли от общего числа. Но когда категорий чересчур много - она становится громоздкой и неудобной для чтения. Именно поэтому берем столбчатую диаграмму, где можем сравнить точные величины каждой из категорий."
  },
  {
   "cell_type": "markdown",
   "metadata": {
    "id": "eWCSRMOse3fv"
   },
   "source": [
    "#### Теперь вам нужно выбрать любое из представленных шоу и при помощи изученных инструментов составить описательный портрет этого шоу :)\n",
    "\n",
    "Аналитики и Data Scientist-ы очень любят все сравнивать, поэтому при составлении описательного портрета рекомендуем вам сравнить выбранное шоу с другими по каким-либо характеристикам."
   ]
  },
  {
   "cell_type": "code",
   "execution_count": null,
   "metadata": {
    "id": "5sEouGVg4D4L"
   },
   "outputs": [],
   "source": [
    "..."
   ]
  },
  {
   "cell_type": "markdown",
   "source": [
    "## Критерии оценки проекта"
   ],
   "metadata": {
    "id": "nUgPW81IAl8k"
   }
  },
  {
   "cell_type": "markdown",
   "source": [
    "Оценка за групповой проект в целом — то есть первая из двух оценок — выставляется по 10 балльной шкале, исходя из 5 критериев. Также комиссия на своё усмотрение может добавить (но не снизить) некоторое количество бонусных баллов за рамками данных критериев.\n",
    "\n",
    "Каждый из критериев будет перечислен и рассмотрен ниже"
   ],
   "metadata": {
    "id": "kPjYuWD_BX7C"
   }
  },
  {
   "cell_type": "markdown",
   "source": [
    "### Критерий 1. Информативность техническая – необходимо выявить нетривиальные зависимости и тенденции в данных (до 2 баллов)\n",
    "\n",
    "Данный критерий оценивает, насколько вы продвинулись технически с точки зрения выявления каких-то паттернов, тенденций и зависимостей в данных. Чем более сложные инструменты вы примените в ходе выполнения проекта и чем более сложные и нетривиальные зависимости получите, тем выше будет оценка у вашей команды по данному критерию!"
   ],
   "metadata": {
    "id": "lGGI5KRrCL5r"
   }
  },
  {
   "cell_type": "markdown",
   "source": [
    "### Критерий 2. Информативность аналитическая – необходимо интерпретировать данные и делать выводы полезные для бизнеса  (до 2 баллов)\n",
    "\n",
    "Данный критерий оценивает прикладной смысл проделанных вами действий, интерпретацию технических инструментов, умение подсветить полезность и значимость полученных выводов с точки зрения бизнеса, умение переложить полученные результаты на исходные бизнес-цели и \"продать\" то, что вы сделали.\n"
   ],
   "metadata": {
    "id": "GzH0e3v6DIsM"
   }
  },
  {
   "cell_type": "markdown",
   "source": [
    "### Критерий 3. Визуализация – оценивается техническое исполнение графиков (до 2 баллов)\n",
    "\n",
    "Данный критерий оценивает сложность и техничность ваших визуализаций. Визуализации должны быть наглядными, красивыми, понятными, легко-интерпертируемыми, нетривиальными с точки зрения технического исполнения и выводов, которые они несут в себе.\n",
    "\n",
    "\n",
    "*Максимальный балл по данному критерию (**2 балла**) нельзя получить, если в работе используются лишь базовые библиотеки визуализаций: Matplotlib и Seaborn*"
   ],
   "metadata": {
    "id": "dObOtg3QE9WD"
   }
  },
  {
   "cell_type": "markdown",
   "source": [
    "### Критерий 4. Предобработка датасета – очистка/замена данных (до 1 балла)\n",
    "\n",
    "Данный критерий оценивает полноту всех проделанных действий с точки зрения подготовки данных и первичной предобработки датасета.\n"
   ],
   "metadata": {
    "id": "TNeXOCNIGMhD"
   }
  },
  {
   "cell_type": "markdown",
   "source": [
    "### Критерий 5. Обогащение данными – добавление новых признаков/датасетов (до 3 баллов)\n",
    "\n",
    "Данный критерий оценивает полноту использования средств feature engineering на основе имеющихся данных, а также средств обогащения данных путем дополнения имеющегося датасета значимой информацией из связанных сторонних датасетов, различных внешних ресурсов и других источников. Обратите внимание, что связанная информация извне не должна замещать или подменять собой исходную задачу и исходные данные в представленном датасете, а должна лишь дополнять и обогощать его. Корректность и глубина проработки взаимодействия со внешними ресурсами и оценивается в рамках данного критерия!\n",
    "\n",
    "*Максимальный балл по данному критерию (**3 балла**) можно получить только при условии корректной и значимой работы с как минимум двумя источниками внешних данных (двумя внешними датасетами), а также при условии наличия как минимум двух примеров валидного и осмысленного применения средств feature engineering*\n",
    "\n",
    "*По данному критерию можно получить **2 балла** только при условии корректной и значимой работы с как минимум одним источником внешних данных (внешним датасетом), а также при условии наличия как минимум одного примера валидного и осмысленного применения средств feature engineering*"
   ],
   "metadata": {
    "id": "SJwGRSz4GfuS"
   }
  }
 ]
}
